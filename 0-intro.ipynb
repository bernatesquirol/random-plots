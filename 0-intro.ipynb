{
 "cells": [
  {
   "cell_type": "code",
   "execution_count": 1,
   "metadata": {},
   "outputs": [],
   "source": [
    "import utils, shapely_utils as shu, python_utils as pu, plotter_utils as plu"
   ]
  },
  {
   "cell_type": "code",
   "execution_count": null,
   "metadata": {},
   "outputs": [],
   "source": [
    "# help(shu)"
   ]
  },
  {
   "cell_type": "code",
   "execution_count": null,
   "metadata": {},
   "outputs": [],
   "source": []
  },
  {
   "cell_type": "code",
   "execution_count": null,
   "metadata": {},
   "outputs": [],
   "source": [
    "nd1.disconnect()"
   ]
  },
  {
   "cell_type": "code",
   "execution_count": null,
   "metadata": {},
   "outputs": [],
   "source": [
    "plotter = plu.init_plotter()"
   ]
  },
  {
   "cell_type": "code",
   "execution_count": 4,
   "metadata": {},
   "outputs": [],
   "source": [
    "plotter.penup()"
   ]
  },
  {
   "cell_type": "code",
   "execution_count": 35,
   "metadata": {},
   "outputs": [],
   "source": [
    "plotter.pendown()"
   ]
  },
  {
   "cell_type": "code",
   "execution_count": 36,
   "metadata": {},
   "outputs": [],
   "source": [
    "plotter.penup()"
   ]
  },
  {
   "cell_type": "code",
   "execution_count": 37,
   "metadata": {},
   "outputs": [],
   "source": [
    "plotter.moveto(40,0)"
   ]
  },
  {
   "cell_type": "code",
   "execution_count": 33,
   "metadata": {},
   "outputs": [],
   "source": [
    "plotter.moveto(0,0)"
   ]
  },
  {
   "cell_type": "code",
   "execution_count": 38,
   "metadata": {},
   "outputs": [],
   "source": [
    "plotter.moveto(40,20)"
   ]
  },
  {
   "cell_type": "code",
   "execution_count": null,
   "metadata": {},
   "outputs": [],
   "source": [
    "shu.try_point(plotter, 2,2)\n",
    "plotter.penup()"
   ]
  },
  {
   "cell_type": "code",
   "execution_count": null,
   "metadata": {},
   "outputs": [],
   "source": [
    "plotter.options.pen_pos_up"
   ]
  },
  {
   "cell_type": "code",
   "execution_count": null,
   "metadata": {},
   "outputs": [],
   "source": [
    "d = 5\n",
    "upB = bball_net(d, 0.15,0.25,12,7,0.85)\n",
    "# upB = bball_net(d, 0.15,0.25,12,7,0.75)\n",
    "upB"
   ]
  },
  {
   "cell_type": "code",
   "execution_count": null,
   "metadata": {},
   "outputs": [],
   "source": [
    "# upB"
   ]
  },
  {
   "cell_type": "code",
   "execution_count": null,
   "metadata": {},
   "outputs": [],
   "source": [
    "# GeometryCollection(list(upB.geoms)[:-6])"
   ]
  },
  {
   "cell_type": "code",
   "execution_count": null,
   "metadata": {},
   "outputs": [],
   "source": [
    "# list(list(upB.geoms)[6].geoms)\n",
    "plotter.moveto(22,22)"
   ]
  },
  {
   "cell_type": "code",
   "execution_count": null,
   "metadata": {},
   "outputs": [],
   "source": [
    "plot(plotter, upB, startingPoint=(22,22))"
   ]
  },
  {
   "cell_type": "code",
   "execution_count": null,
   "metadata": {},
   "outputs": [],
   "source": [
    "plotter.penup()"
   ]
  },
  {
   "cell_type": "code",
   "execution_count": null,
   "metadata": {},
   "outputs": [],
   "source": [
    "upB = bball_net(5, 0.15,0.22,12,7)"
   ]
  },
  {
   "cell_type": "code",
   "execution_count": null,
   "metadata": {},
   "outputs": [],
   "source": [
    "bball_net(5, 0.15,0.25,12,4,0)"
   ]
  },
  {
   "cell_type": "code",
   "execution_count": null,
   "metadata": {},
   "outputs": [],
   "source": [
    "plotter.penup()"
   ]
  },
  {
   "cell_type": "code",
   "execution_count": null,
   "metadata": {},
   "outputs": [],
   "source": [
    "plotter.moveto(22,12)"
   ]
  },
  {
   "cell_type": "code",
   "execution_count": null,
   "metadata": {},
   "outputs": [],
   "source": [
    "plotter.pendown()"
   ]
  },
  {
   "cell_type": "code",
   "execution_count": null,
   "metadata": {},
   "outputs": [],
   "source": [
    "plot(plotter, bball_net(5, 0.15,0.22,12,7), startingPoint=(17,17))"
   ]
  },
  {
   "cell_type": "code",
   "execution_count": null,
   "metadata": {},
   "outputs": [],
   "source": [
    "def Rect(x,y,w,h):\n",
    "    return Polygon(([x,y], [x,y+h], [x+w,y+h], [x+w,y], [x,y]))"
   ]
  },
  {
   "cell_type": "code",
   "execution_count": null,
   "metadata": {},
   "outputs": [],
   "source": [
    "import math\n",
    "def create_polygon_center_radius(sides, radius=1, rotation=0, center=None):\n",
    "    one_segment = math.pi * 2 / sides\n",
    "\n",
    "    points = [\n",
    "        (math.sin(one_segment * i + rotation) * radius,\n",
    "         math.cos(one_segment * i + rotation) * radius)\n",
    "        for i in range(sides)]\n",
    "\n",
    "    if center is None:\n",
    "        \n",
    "        center = (radius, radius)\n",
    "    points = [[sum(pair) for pair in zip(point, center)]\n",
    "                for point in points]\n",
    "    # print(center, points)\n",
    "    return Polygon(points)"
   ]
  },
  {
   "cell_type": "code",
   "execution_count": null,
   "metadata": {},
   "outputs": [],
   "source": [
    "def create_hexagon_tessellation(start_center, radius, rows, cols):\n",
    "    \"\"\"\n",
    "    Create a tessellation of hexagons\n",
    "    \n",
    "    Args:\n",
    "        start_center: (x, y) tuple for the center of the first hexagon\n",
    "        radius: radius of each hexagon\n",
    "        rows: number of rows in the tessellation\n",
    "        cols: number of columns in the tessellation\n",
    "        \n",
    "    Returns:\n",
    "        List of hexagons, each represented as a list of (x, y) coordinates\n",
    "    \"\"\"\n",
    "    hexagons = []\n",
    "    x0, y0 = start_center\n",
    "    \n",
    "    # Horizontal distance between centers\n",
    "    h_dist = radius * math.sqrt(3)\n",
    "    # Vertical distance between centers\n",
    "    v_dist = radius * 1.5\n",
    "    \n",
    "    for row in range(rows):\n",
    "        for col in range(cols):\n",
    "            # Offset every other row\n",
    "            offset = h_dist / 2 if row % 2 == 1 else 0\n",
    "            \n",
    "            center = (x0 + col * h_dist + offset, y0 + row * v_dist)\n",
    "            hexagon = create_polygon_center_radius(center, radius)\n",
    "            hexagons.append(hexagon)\n",
    "    \n",
    "    return hexagons"
   ]
  },
  {
   "cell_type": "code",
   "execution_count": null,
   "metadata": {},
   "outputs": [],
   "source": [
    "p = create_polygon_center_radius(5, 10)\n",
    "p"
   ]
  },
  {
   "cell_type": "code",
   "execution_count": null,
   "metadata": {},
   "outputs": [],
   "source": [
    "p.bounds"
   ]
  },
  {
   "cell_type": "code",
   "execution_count": null,
   "metadata": {},
   "outputs": [],
   "source": [
    "r = Rect(10,10,5,6)\n",
    "r"
   ]
  },
  {
   "cell_type": "code",
   "execution_count": null,
   "metadata": {},
   "outputs": [],
   "source": [
    "r2 = transform(r, lambda x: x + [0,6])\n",
    "r3 = transform(r, lambda x: x + [5,0])"
   ]
  },
  {
   "cell_type": "code",
   "execution_count": null,
   "metadata": {},
   "outputs": [],
   "source": [
    "list(r2.boundary.coords)"
   ]
  },
  {
   "cell_type": "code",
   "execution_count": null,
   "metadata": {},
   "outputs": [],
   "source": [
    "for x,y in r.boundary.coords: \n",
    "    nd1.lineto(x,y)"
   ]
  },
  {
   "cell_type": "code",
   "execution_count": null,
   "metadata": {},
   "outputs": [],
   "source": [
    "def simple_fill(p, segmentize=0.1):\n",
    "    # aquest mola molt pk fa moire\n",
    "    all_points = p.boundary.segmentize(segmentize).coords\n",
    "    new_points = []\n",
    "    new_points.append(all_points[0])\n",
    "    for i in range(int(len(all_points)/2)):\n",
    "        real_index = i+1\n",
    "        new_points.append(*all_points[real_index])\n",
    "        new_points.append(*all_points[-real_index])\n",
    "    return LineString(new_points)\n"
   ]
  },
  {
   "cell_type": "code",
   "execution_count": null,
   "metadata": {},
   "outputs": [],
   "source": []
  },
  {
   "cell_type": "code",
   "execution_count": null,
   "metadata": {},
   "outputs": [],
   "source": [
    "def create_line_fill(polygon, line_spacing, angle_degrees):\n",
    "    \"\"\"\n",
    "    Creates a continuous S-shaped pattern inside a polygon.\n",
    "    \n",
    "    Args:\n",
    "        polygon: Shapely Polygon to fill\n",
    "        line_spacing: Float indicating distance between parallel lines\n",
    "        angle_degrees: Angle in degrees to orient the lines\n",
    "    \n",
    "    Returns:\n",
    "        Shapely LineString representing continuous S-shaped path\n",
    "    \"\"\"\n",
    "    # Get bounding box of the polygon\n",
    "    minx, miny, maxx, maxy = polygon.bounds\n",
    "    \n",
    "    # Calculate diagonal length to ensure coverage of rotated polygon\n",
    "    diagonal = np.sqrt((maxx - minx)**2 + (maxy - miny)**2)\n",
    "    \n",
    "    # Create a larger bounding box to account for rotation\n",
    "    center_x = (minx + maxx) / 2\n",
    "    center_y = (miny + maxy) / 2\n",
    "    \n",
    "    # Set up grid of lines that will cover the polygon\n",
    "    angle_rad = np.radians(angle_degrees)\n",
    "    \n",
    "    # Direction vector for lines\n",
    "    dx = np.cos(angle_rad)\n",
    "    dy = np.sin(angle_rad)\n",
    "    \n",
    "    # Perpendicular vector for line progression\n",
    "    px = -dy\n",
    "    py = dx\n",
    "    iX = minx\n",
    "    while(iX<maxx):\n",
    "        line = lambda x: startX+x*(dx/dy)\n",
    "        startX = iX\n",
    "        startY = line(iX)\n",
    "        endX = startX + dx*diagonal\n",
    "        endY = startY + dx*diagonal\n",
    "        iX += line_spacing\n",
    "        print(LineString(((startX,startY),(endX, endY))).intersection(polygon))"
   ]
  },
  {
   "cell_type": "code",
   "execution_count": null,
   "metadata": {},
   "outputs": [],
   "source": [
    "p.boundary"
   ]
  },
  {
   "cell_type": "code",
   "execution_count": null,
   "metadata": {},
   "outputs": [],
   "source": [
    "create_line_fill(p, 0.8, 45)"
   ]
  },
  {
   "cell_type": "code",
   "execution_count": null,
   "metadata": {},
   "outputs": [],
   "source": [
    "import numpy as np\n",
    "from shapely.geometry import LineString, Point, Polygon\n",
    "from shapely.affinity import rotate, translate\n",
    "\n",
    "def create_s_pattern_fill(polygon, line_spacing, angle_degrees):\n",
    "    \"\"\"\n",
    "    Creates a continuous S-shaped pattern inside a polygon.\n",
    "    \n",
    "    Args:\n",
    "        polygon: Shapely Polygon to fill\n",
    "        line_spacing: Float indicating distance between parallel lines\n",
    "        angle_degrees: Angle in degrees to orient the lines\n",
    "    \n",
    "    Returns:\n",
    "        Shapely LineString representing continuous S-shaped path\n",
    "    \"\"\"\n",
    "    # Get bounding box of the polygon\n",
    "    minx, miny, maxx, maxy = polygon.bounds\n",
    "    \n",
    "    # Calculate diagonal length to ensure coverage of rotated polygon\n",
    "    diagonal = np.sqrt((maxx - minx)**2 + (maxy - miny)**2)\n",
    "    \n",
    "    # Create a larger bounding box to account for rotation\n",
    "    center_x = (minx + maxx) / 2\n",
    "    center_y = (miny + maxy) / 2\n",
    "    \n",
    "    # Set up grid of lines that will cover the polygon\n",
    "    angle_rad = np.radians(angle_degrees)\n",
    "    \n",
    "    # Direction vector for lines\n",
    "    dx = np.cos(angle_rad)\n",
    "    dy = np.sin(angle_rad)\n",
    "    \n",
    "    # Perpendicular vector for line progression\n",
    "    px = -dy\n",
    "    py = dx\n",
    "    iX = minx\n",
    "    while(iX<maxx):\n",
    "        line = lambda x: startX+x*(dx/dy)\n",
    "        startX = iX\n",
    "        startY = line(iX)\n",
    "        endX = startX + dx*diagonal\n",
    "        endY = startY + dx*diagonal\n",
    "    \n",
    "\n",
    "    # Start from a point outside the polygon in the negative perpendicular direction\n",
    "    start_dist = diagonal / 2 + line_spacing\n",
    "    start_x = center_x - start_dist * px\n",
    "    start_y = center_y - start_dist * py\n",
    "    \n",
    "    # Create lines until we're outside the bounding box in the positive perpendicular direction\n",
    "    lines = []\n",
    "    current_x, current_y = start_x, start_y\n",
    "    \n",
    "    going_forward = True\n",
    "    \n",
    "    while current_x * px + current_y * py < center_x * px + center_y * py + start_dist:\n",
    "        # Create line endpoints\n",
    "        line_start_x = current_x - diagonal * dx / 2\n",
    "        line_start_y = current_y - diagonal * dy / 2\n",
    "        line_end_x = current_x + diagonal * dx / 2\n",
    "        line_end_y = current_y + diagonal * dy / 2\n",
    "        \n",
    "        line = LineString([(line_start_x, line_start_y), (line_end_x, line_end_y)])\n",
    "        \n",
    "        # Only include the portion of the line that intersects the polygon\n",
    "        if line.intersects(polygon):\n",
    "            clipped_line = line.intersection(polygon)\n",
    "            if not clipped_line.is_empty:\n",
    "                if going_forward:\n",
    "                    lines.append(clipped_line)\n",
    "                else:\n",
    "                    # Reverse direction for S pattern\n",
    "                    if hasattr(clipped_line, 'coords'):\n",
    "                        coords = list(clipped_line.coords)\n",
    "                        reversed_line = LineString(coords[::-1])\n",
    "                        lines.append(reversed_line)\n",
    "                    else:  # Handle MultiLineString case\n",
    "                        parts = list(clipped_line.geoms)\n",
    "                        for part in parts[::-1]:\n",
    "                            coords = list(part.coords)\n",
    "                            lines.append(LineString(coords[::-1]))\n",
    "        \n",
    "        # Move to next position\n",
    "        current_x += px * line_spacing\n",
    "        current_y += py * line_spacing\n",
    "        \n",
    "        # Toggle direction for S pattern\n",
    "        going_forward = not going_forward\n",
    "    \n",
    "    # Now connect all the lines to create a continuous path\n",
    "    connected_path = []\n",
    "    \n",
    "    if not lines:\n",
    "        return LineString()\n",
    "    \n",
    "    # Add the first line\n",
    "    if hasattr(lines[0], 'coords'):\n",
    "        connected_path.extend(list(lines[0].coords))\n",
    "    else:  # Handle MultiLineString\n",
    "        for part in lines[0].geoms:\n",
    "            connected_path.extend(list(part.coords))\n",
    "    \n",
    "    # Connect subsequent lines\n",
    "    for i in range(1, len(lines)):\n",
    "        prev_line_end = Point(connected_path[-1])\n",
    "        \n",
    "        # Get current line's coordinates\n",
    "        if hasattr(lines[i], 'coords'):\n",
    "            current_coords = list(lines[i].coords)\n",
    "        else:  # Handle MultiLineString\n",
    "            current_coords = []\n",
    "            for part in lines[i].geoms:\n",
    "                current_coords.extend(list(part.coords))\n",
    "        \n",
    "        current_line_start = Point(current_coords[0])\n",
    "        \n",
    "        # Add connection segment between lines\n",
    "        if not prev_line_end.equals(current_line_start):\n",
    "            connected_path.append(current_coords[0])\n",
    "        \n",
    "        # Add the rest of the current line\n",
    "        connected_path.extend(current_coords[1:])\n",
    "    \n",
    "    return LineString(connected_path)"
   ]
  },
  {
   "cell_type": "code",
   "execution_count": null,
   "metadata": {},
   "outputs": [],
   "source": [
    "p.convex_hull"
   ]
  },
  {
   "cell_type": "code",
   "execution_count": null,
   "metadata": {},
   "outputs": [],
   "source": [
    "# el problema que te es veu aqui, no arriben les conexions a les puntes i queda una mica merdos\n",
    "# no funciona amb polygon\n",
    "create_s_pattern_fill(p, 0.8, 45)"
   ]
  },
  {
   "cell_type": "code",
   "execution_count": null,
   "metadata": {},
   "outputs": [],
   "source": [
    "a = create_s_pattern_fill(r3, 0.1, -45)\n",
    "a"
   ]
  },
  {
   "cell_type": "code",
   "execution_count": null,
   "metadata": {},
   "outputs": [],
   "source": [
    "for x,y in a.coords: \n",
    "    nd1.lineto(x,y)"
   ]
  },
  {
   "cell_type": "code",
   "execution_count": null,
   "metadata": {},
   "outputs": [],
   "source": [
    "fd = NextDraw()\n",
    "fd.moveto(0, 0)\n",
    "fd.line(1, 1)\n",
    "fd.newLayer(\"red\")\n",
    "fd.moveto(2, 0)\n",
    "fd.line(3, 1)\n",
    "fd.plot()"
   ]
  },
  {
   "cell_type": "code",
   "execution_count": null,
   "metadata": {},
   "outputs": [],
   "source": []
  },
  {
   "cell_type": "code",
   "execution_count": null,
   "metadata": {},
   "outputs": [],
   "source": [
    "# ... existing code ...\n",
    "\n",
    "# Create a new cell with this code:\n",
    "import math\n",
    "import numpy as np\n",
    "\n",
    "def zigzag_circle(nd, cx, cy, radius, width, num_points=32):\n",
    "    \"\"\"\n",
    "    Draw a zigzag circle using line segments\n",
    "    \n",
    "    Args:\n",
    "        nd: NextDraw instance\n",
    "        cx, cy: center coordinates\n",
    "        radius: circle radius\n",
    "        width: width of zigzag\n",
    "        num_points: number of points around circle\n",
    "    \"\"\"\n",
    "    # Start at first point\n",
    "    angle = 0\n",
    "    x = cx + radius * math.cos(angle)\n",
    "    y = cy + radius * math.sin(angle)\n",
    "    nd.moveto(x, y)\n",
    "    \n",
    "    # Create zigzag points around the circle\n",
    "    for i in range(num_points + 1):\n",
    "        angle = 2 * math.pi * i / num_points\n",
    "        \n",
    "        # Calculate point on circle\n",
    "        x = cx + radius * math.cos(angle)\n",
    "        y = cy + radius * math.sin(angle)\n",
    "        \n",
    "        # Add zigzag effect by alternating inner and outer points\n",
    "        if i % 2 == 0:\n",
    "            r = radius + width/2\n",
    "        else:\n",
    "            r = radius - width/2\n",
    "            \n",
    "        x = cx + r * math.cos(angle)\n",
    "        y = cy + r * math.sin(angle)\n",
    "        \n",
    "        nd.lineto(x, y)\n",
    "\n",
    "# Test the func\n",
    "zigzag_circle(nd1, 10, 10, radius=5, width=2)\n"
   ]
  },
  {
   "cell_type": "code",
   "execution_count": null,
   "metadata": {},
   "outputs": [],
   "source": [
    "nd1.moveto(0.2, 0.2)                # Pen-up move, back to origin.\n"
   ]
  },
  {
   "cell_type": "code",
   "execution_count": null,
   "metadata": {},
   "outputs": [],
   "source": [
    "# pip install numpy shapely"
   ]
  },
  {
   "cell_type": "code",
   "execution_count": null,
   "metadata": {},
   "outputs": [],
   "source": [
    "# nd1.moveto(1, 1)                # Pen-up move to (1 inch, 1 inch)\n",
    "nd1.lineto(2, 1) "
   ]
  },
  {
   "cell_type": "code",
   "execution_count": null,
   "metadata": {},
   "outputs": [],
   "source": [
    "nd1.lineto(5, 7) "
   ]
  },
  {
   "cell_type": "code",
   "execution_count": null,
   "metadata": {},
   "outputs": [],
   "source": [
    "nd1.penup()"
   ]
  },
  {
   "cell_type": "code",
   "execution_count": null,
   "metadata": {},
   "outputs": [],
   "source": [
    "nd1.lineto(1, 1) "
   ]
  },
  {
   "cell_type": "code",
   "execution_count": null,
   "metadata": {},
   "outputs": [],
   "source": [
    "nd1.lineto(3, 3)   "
   ]
  },
  {
   "cell_type": "code",
   "execution_count": null,
   "metadata": {},
   "outputs": [],
   "source": [
    "nd1.lineto(0,4)   "
   ]
  },
  {
   "cell_type": "code",
   "execution_count": null,
   "metadata": {},
   "outputs": [],
   "source": [
    "nd1.lineto(1,5)"
   ]
  },
  {
   "cell_type": "code",
   "execution_count": null,
   "metadata": {},
   "outputs": [],
   "source": [
    "x,y = nd1.current_pos()\n",
    "x,y"
   ]
  },
  {
   "cell_type": "code",
   "execution_count": null,
   "metadata": {},
   "outputs": [],
   "source": [
    "for i in range(10):\n",
    "    nd1.lineto(x+i,y)\n",
    "    nd1.lineto(x,y+i)"
   ]
  },
  {
   "cell_type": "code",
   "execution_count": null,
   "metadata": {},
   "outputs": [],
   "source": [
    "nd1.options.pen_pos_up"
   ]
  },
  {
   "cell_type": "code",
   "execution_count": null,
   "metadata": {},
   "outputs": [],
   "source": [
    "nd1.disconnect()\n"
   ]
  },
  {
   "cell_type": "code",
   "execution_count": null,
   "metadata": {},
   "outputs": [],
   "source": []
  }
 ],
 "metadata": {
  "kernelspec": {
   "display_name": "base",
   "language": "python",
   "name": "python3"
  },
  "language_info": {
   "codemirror_mode": {
    "name": "ipython",
    "version": 3
   },
   "file_extension": ".py",
   "mimetype": "text/x-python",
   "name": "python",
   "nbconvert_exporter": "python",
   "pygments_lexer": "ipython3",
   "version": "3.12.8"
  }
 },
 "nbformat": 4,
 "nbformat_minor": 2
}
