{
 "cells": [
  {
   "cell_type": "code",
   "execution_count": null,
   "metadata": {},
   "outputs": [],
   "source": [
    "import utils, shapely_utils as shu, python_utils as pu, cairo_utils as cu\n",
    "from shapely import LineString, MultiLineString, GeometryCollection\n",
    "import shapely as sh\n",
    "import numpy as  np\n",
    "import bezier"
   ]
  },
  {
   "cell_type": "code",
   "execution_count": null,
   "metadata": {},
   "outputs": [],
   "source": [
    "radius = 0.5\n",
    "first = shu.Circle((0,0),radius)"
   ]
  },
  {
   "cell_type": "code",
   "execution_count": null,
   "metadata": {},
   "outputs": [],
   "source": [
    "def random_point_line(line):\n",
    "    import random\n",
    "    return line.interpolate(line.length*random.random())\n"
   ]
  },
  {
   "cell_type": "code",
   "execution_count": null,
   "metadata": {},
   "outputs": [],
   "source": [
    "def follow_line(line, distance, starting_point=None):\n",
    "    if starting_point is None:\n",
    "        starting_point = shu.first(line)\n",
    "    return starting_point+shu.unit_vector(line)*distance"
   ]
  },
  {
   "cell_type": "code",
   "execution_count": null,
   "metadata": {},
   "outputs": [],
   "source": []
  },
  {
   "cell_type": "code",
   "execution_count": null,
   "metadata": {},
   "outputs": [],
   "source": [
    "golden_angle = (180*(3-5**0.5))\n",
    "golden_angle"
   ]
  },
  {
   "cell_type": "code",
   "execution_count": null,
   "metadata": {},
   "outputs": [],
   "source": [
    "# def create_force(y_0, y_f, x_max=10, x_min=0):\n",
    "#     def func(x):\n",
    "#         y_f*(x_max-x)+y_0*(x-x_min)\n",
    "#     return func"
   ]
  },
  {
   "cell_type": "code",
   "execution_count": null,
   "metadata": {},
   "outputs": [],
   "source": [
    "import random\n",
    "number_of_circles = 6\n",
    "radius = 5\n",
    "last_circle = shu.Circle((0,0),radius)\n",
    "last_line = LineString([last_circle.centroid,shu.first(last_circle)])\n",
    "circles = [last_circle]\n",
    "points = [last_circle.centroid]\n",
    "for i in range(number_of_circles):\n",
    "    last_circle = sh.affinity.rotate(last_circle,golden_angle*i)\n",
    "    a = shu.first(last_circle)\n",
    "    half_line = LineString([a,last_circle.centroid])\n",
    "    b = follow_line(half_line,half_line.length*2)\n",
    "    new_line = LineString([a,b])\n",
    "    # new_line = sh.affinity.rotate(new_line, golden_angle,  )\n",
    "    # points.append(new_line)\n",
    "    random_distance = 0.35 #random.random()\n",
    "    sliced_line = shu.sliceLine(new_line, 0.5, 1)\n",
    "    random_point = shu.interpolateTotal(sliced_line,random_distance)\n",
    "    points.append(random_point)\n",
    "    radius = 0.5*new_line.length+random_distance*sliced_line.length\n",
    "    new_circle = shu.Circle(random_point, radius)\n",
    "    circles.append(new_circle)\n",
    "    last_circle = new_circle\n",
    "rose = shu.printg(*(circles))\n"
   ]
  },
  {
   "cell_type": "code",
   "execution_count": null,
   "metadata": {},
   "outputs": [],
   "source": [
    "def skip_derivative():"
   ]
  },
  {
   "cell_type": "code",
   "execution_count": null,
   "metadata": {},
   "outputs": [],
   "source": [
    "shu.printg(rose,sh.affinity.translate(rose,-2,-2))"
   ]
  },
  {
   "cell_type": "code",
   "execution_count": null,
   "metadata": {},
   "outputs": [],
   "source": [
    "a = shu.Circle((0,0),20)"
   ]
  },
  {
   "cell_type": "code",
   "execution_count": null,
   "metadata": {},
   "outputs": [],
   "source": [
    "points = shu.distribute_points(a,100)\n",
    "slopes = [((second.y-first.y),(second.x-first.x))for first, second in pu.iter_two(points)]"
   ]
  },
  {
   "cell_type": "code",
   "execution_count": null,
   "metadata": {},
   "outputs": [],
   "source": [
    "filter_slope = lambda x,y: random.random()>0.5"
   ]
  },
  {
   "cell_type": "code",
   "execution_count": null,
   "metadata": {},
   "outputs": [],
   "source": [
    "slope_index_selected = []\n",
    "is_currently_ok = False\n",
    "starting_point = None\n",
    "for i,x_y in enumerate(slopes):\n",
    "    x,y=x_y\n",
    "    is_i_ok = filter_slope(x,y)\n",
    "    if (is_i_ok):\n",
    "        if (is_currently_ok):\n",
    "            pass\n",
    "        else:\n",
    "            starting_point = i\n",
    "            is_currently_ok = True\n",
    "    elif (is_currently_ok):\n",
    "        slope_index_selected.append((starting_point, i))\n",
    "        starting_point = None\n",
    "        is_currently_ok = False\n",
    "    else:\n",
    "        pass\n",
    "if is_currently_ok:\n",
    "    slope_index_selected.append((starting_point, i))"
   ]
  },
  {
   "cell_type": "code",
   "execution_count": null,
   "metadata": {},
   "outputs": [],
   "source": [
    "tolerance = 1\n",
    "ref = a\n",
    "snapped_points = [sh.snap(p, ref, tolerance) for p in points]\n",
    "p1 = sh.snap(points[50],a,1)\n",
    "p2 = sh.snap(points[51],a,1)\n",
    "list(split(a, sh.MultiPoint([p1,p2])).geoms)\n",
    "for i,j in slope_index_selected:\n",
    "    snapped_points"
   ]
  },
  {
   "cell_type": "code",
   "execution_count": null,
   "metadata": {},
   "outputs": [],
   "source": [
    "sh.snap()"
   ]
  },
  {
   "cell_type": "code",
   "execution_count": null,
   "metadata": {},
   "outputs": [],
   "source": [
    "# def autotolerance(line,number_points):\n",
    "#     pass\n",
    "    "
   ]
  },
  {
   "cell_type": "code",
   "execution_count": null,
   "metadata": {},
   "outputs": [],
   "source": [
    "from shapely.ops import split\n",
    "\n",
    "# shu.printg(a,p.buffer(1))"
   ]
  },
  {
   "cell_type": "code",
   "execution_count": null,
   "metadata": {},
   "outputs": [],
   "source": [
    "slope_index_selected"
   ]
  },
  {
   "cell_type": "code",
   "execution_count": null,
   "metadata": {},
   "outputs": [],
   "source": [
    "a.segmentize()"
   ]
  },
  {
   "cell_type": "code",
   "execution_count": null,
   "metadata": {},
   "outputs": [],
   "source": [
    "shu.size(rose)"
   ]
  },
  {
   "cell_type": "code",
   "execution_count": null,
   "metadata": {},
   "outputs": [],
   "source": []
  }
 ],
 "metadata": {
  "kernelspec": {
   "display_name": "base",
   "language": "python",
   "name": "python3"
  },
  "language_info": {
   "codemirror_mode": {
    "name": "ipython",
    "version": 3
   },
   "file_extension": ".py",
   "mimetype": "text/x-python",
   "name": "python",
   "nbconvert_exporter": "python",
   "pygments_lexer": "ipython3",
   "version": "3.10.10"
  }
 },
 "nbformat": 4,
 "nbformat_minor": 2
}
