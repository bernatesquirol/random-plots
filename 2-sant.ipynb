{
 "cells": [
  {
   "cell_type": "code",
   "execution_count": 4,
   "metadata": {},
   "outputs": [],
   "source": [
    "import utils, shapely_utils as shu, python_utils as pu, cairo_utils as cu\n",
    "from shapely import LineString, MultiLineString, GeometryCollection\n",
    "import shapely as sh\n",
    "import numpy as  np\n",
    "import bezier"
   ]
  },
  {
   "cell_type": "code",
   "execution_count": 3,
   "metadata": {},
   "outputs": [
    {
     "name": "stdout",
     "output_type": "stream",
     "text": [
      "Collecting pycairo\n",
      "  Downloading pycairo-1.28.0-cp310-cp310-win_amd64.whl (841 kB)\n",
      "     -------------------------------------- 841.5/841.5 kB 2.2 MB/s eta 0:00:00\n",
      "Installing collected packages: pycairo\n",
      "Successfully installed pycairo-1.28.0\n",
      "Note: you may need to restart the kernel to use updated packages.\n"
     ]
    }
   ],
   "source": [
    "pip install pycairo"
   ]
  },
  {
   "cell_type": "code",
   "execution_count": 5,
   "metadata": {},
   "outputs": [],
   "source": [
    "radius = 0.5\n",
    "first = shu.Circle((0,0),radius)"
   ]
  },
  {
   "cell_type": "code",
   "execution_count": 6,
   "metadata": {},
   "outputs": [],
   "source": [
    "def random_point_line(line):\n",
    "    import random\n",
    "    return line.interpolate(line.length*random.random())\n"
   ]
  },
  {
   "cell_type": "code",
   "execution_count": 7,
   "metadata": {},
   "outputs": [],
   "source": [
    "def follow_line(line, distance, starting_point=None):\n",
    "    if starting_point is None:\n",
    "        starting_point = shu.first(line)\n",
    "    return starting_point+shu.unit_vector(line)*distance"
   ]
  },
  {
   "cell_type": "code",
   "execution_count": null,
   "metadata": {},
   "outputs": [],
   "source": []
  },
  {
   "cell_type": "code",
   "execution_count": 8,
   "metadata": {},
   "outputs": [
    {
     "data": {
      "text/plain": [
       "137.50776405003785"
      ]
     },
     "execution_count": 8,
     "metadata": {},
     "output_type": "execute_result"
    }
   ],
   "source": [
    "golden_angle = (180*(3-5**0.5))\n",
    "golden_angle"
   ]
  },
  {
   "cell_type": "code",
   "execution_count": 13,
   "metadata": {},
   "outputs": [],
   "source": [
    "pu.reload(pu)"
   ]
  },
  {
   "cell_type": "code",
   "execution_count": 14,
   "metadata": {},
   "outputs": [],
   "source": [
    "import random\n",
    "number_of_circles = 6\n",
    "radius = 5\n",
    "last_circle = shu.Circle((0,0),radius)\n",
    "last_line = LineString([last_circle.centroid,shu.first(last_circle)])\n",
    "circles = [last_circle]\n",
    "points = [last_circle.centroid]\n",
    "for i in range(number_of_circles):\n",
    "    last_circle = sh.affinity.rotate(last_circle,golden_angle*i)\n",
    "    a = shu.first(last_circle)\n",
    "    half_line = LineString([a,last_circle.centroid])\n",
    "    b = follow_line(half_line,half_line.length*2)\n",
    "    new_line = LineString([a,b])\n",
    "    # new_line = sh.affinity.rotate(new_line, golden_angle,  )\n",
    "    # points.append(new_line)\n",
    "    random_distance = 0.35 #random.random()\n",
    "    sliced_line = shu.sliceLine(new_line, 0.5, 1)\n",
    "    random_point = shu.interpolateTotal(sliced_line,random_distance)\n",
    "    points.append(random_point)\n",
    "    radius = 0.5*new_line.length+random_distance*sliced_line.length\n",
    "    new_circle = shu.Circle(random_point, radius)\n",
    "    circles.append(new_circle)\n",
    "    last_circle = new_circle\n",
    "rose = shu.printg(*(circles))\n"
   ]
  },
  {
   "cell_type": "code",
   "execution_count": 205,
   "metadata": {},
   "outputs": [],
   "source": [
    "aw = pu.DotMap()\n",
    "aw.rose = rose"
   ]
  },
  {
   "cell_type": "code",
   "execution_count": 72,
   "metadata": {},
   "outputs": [],
   "source": [
    "def get_tolerance(line, point):\n",
    "    for tolerance in np.arange(0,20,0.1):\n",
    "        if line.buffer(i).intersects(point):\n",
    "            return tolerance\n",
    "    "
   ]
  },
  {
   "cell_type": "code",
   "execution_count": null,
   "metadata": {},
   "outputs": [],
   "source": []
  },
  {
   "cell_type": "code",
   "execution_count": 117,
   "metadata": {},
   "outputs": [
    {
     "ename": "NotImplementedError",
     "evalue": "Sub-geometries may have coordinate sequences, but multi-part geometries do not",
     "output_type": "error",
     "traceback": [
      "\u001b[1;31m---------------------------------------------------------------------------\u001b[0m",
      "\u001b[1;31mNotImplementedError\u001b[0m                       Traceback (most recent call last)",
      "Cell \u001b[1;32mIn[117], line 1\u001b[0m\n\u001b[1;32m----> 1\u001b[0m \u001b[43mshu\u001b[49m\u001b[38;5;241;43m.\u001b[39;49m\u001b[43mcoords\u001b[49m\u001b[43m(\u001b[49m\u001b[43mshu\u001b[49m\u001b[38;5;241;43m.\u001b[39;49m\u001b[43msegmentize\u001b[49m\u001b[43m(\u001b[49m\u001b[43mLineString\u001b[49m\u001b[43m(\u001b[49m\u001b[43m[\u001b[49m\u001b[43m[\u001b[49m\u001b[38;5;241;43m0\u001b[39;49m\u001b[43m,\u001b[49m\u001b[38;5;241;43m0\u001b[39;49m\u001b[43m]\u001b[49m\u001b[43m,\u001b[49m\u001b[43m[\u001b[49m\u001b[38;5;241;43m1\u001b[39;49m\u001b[43m,\u001b[49m\u001b[38;5;241;43m1\u001b[39;49m\u001b[43m]\u001b[49m\u001b[43m]\u001b[49m\u001b[43m)\u001b[49m\u001b[43m,\u001b[49m\u001b[38;5;241;43m10\u001b[39;49m\u001b[43m)\u001b[49m\u001b[43m)\u001b[49m\n",
      "File \u001b[1;32m~\\plotter\\utils\\shapely_utils.py:40\u001b[0m, in \u001b[0;36mcoords\u001b[1;34m(p)\u001b[0m\n\u001b[0;32m     38\u001b[0m \u001b[38;5;28;01mif\u001b[39;00m (\u001b[38;5;28mtype\u001b[39m(p)\u001b[38;5;241m==\u001b[39msh\u001b[38;5;241m.\u001b[39mPoint):\n\u001b[0;32m     39\u001b[0m     \u001b[38;5;28;01mreturn\u001b[39;00m \u001b[38;5;28mlist\u001b[39m(p\u001b[38;5;241m.\u001b[39mcoords)[\u001b[38;5;241m0\u001b[39m]\n\u001b[1;32m---> 40\u001b[0m \u001b[38;5;28;01mreturn\u001b[39;00m \u001b[38;5;28mlist\u001b[39m(\u001b[43mp\u001b[49m\u001b[38;5;241;43m.\u001b[39;49m\u001b[43mcoords\u001b[49m)\n",
      "File \u001b[1;32mc:\\Users\\bernat\\miniconda3\\lib\\site-packages\\shapely\\geometry\\base.py:931\u001b[0m, in \u001b[0;36mBaseMultipartGeometry.coords\u001b[1;34m(self)\u001b[0m\n\u001b[0;32m    929\u001b[0m \u001b[38;5;129m@property\u001b[39m\n\u001b[0;32m    930\u001b[0m \u001b[38;5;28;01mdef\u001b[39;00m \u001b[38;5;21mcoords\u001b[39m(\u001b[38;5;28mself\u001b[39m):\n\u001b[1;32m--> 931\u001b[0m     \u001b[38;5;28;01mraise\u001b[39;00m \u001b[38;5;167;01mNotImplementedError\u001b[39;00m(\n\u001b[0;32m    932\u001b[0m         \u001b[38;5;124m\"\u001b[39m\u001b[38;5;124mSub-geometries may have coordinate sequences, \u001b[39m\u001b[38;5;124m\"\u001b[39m\n\u001b[0;32m    933\u001b[0m         \u001b[38;5;124m\"\u001b[39m\u001b[38;5;124mbut multi-part geometries do not\u001b[39m\u001b[38;5;124m\"\u001b[39m\n\u001b[0;32m    934\u001b[0m     )\n",
      "\u001b[1;31mNotImplementedError\u001b[0m: Sub-geometries may have coordinate sequences, but multi-part geometries do not"
     ]
    }
   ],
   "source": [
    "shu.coords(shu.segmentize(LineString([[0,0],[1,1]]),10))"
   ]
  },
  {
   "cell_type": "code",
   "execution_count": 126,
   "metadata": {},
   "outputs": [],
   "source": [
    "def filter_tangent_condition(ref, condition = lambda x,y:True, segmentize=None):\n",
    "    if not segmentize is None:\n",
    "        ref = ref.segmentize(segmentize)\n",
    "    points = [sh.Point(c) for c in shu.coords(ref)]\n",
    "    slopes = [((second.y-first.y),(second.x-first.x)) for first, second in pu.iter_two(points)]\n",
    "    filter_slope = condition\n",
    "    slope_index_selected = []\n",
    "    is_currently_ok = False\n",
    "    starting_point = None\n",
    "    for i,x_y in enumerate(slopes):\n",
    "        x,y=x_y\n",
    "        is_i_ok = filter_slope(x,y)\n",
    "        if (is_i_ok):\n",
    "            if (is_currently_ok):\n",
    "                pass\n",
    "            else:\n",
    "                starting_point = i\n",
    "                is_currently_ok = True\n",
    "        elif (is_currently_ok):\n",
    "            slope_index_selected.append((starting_point, i))\n",
    "            starting_point = None\n",
    "            is_currently_ok = False\n",
    "        else:\n",
    "            pass\n",
    "    if is_currently_ok:\n",
    "        slope_index_selected.append((starting_point, i))\n",
    "    from shapely.ops import split\n",
    "    # snapped_points = [sh.snap(p, ref, tolerance) for p in points]\n",
    "    geos_ok = []\n",
    "    for i,j in slope_index_selected:\n",
    "        splitted = split(ref, sh.MultiPoint([points[i],points[j]])).geoms\n",
    "        if len(splitted)==1:\n",
    "            print('splitting none')\n",
    "        if len(splitted)!=3:\n",
    "            print('error!')\n",
    "        else:\n",
    "            geo_ok = splitted[1]\n",
    "            geos_ok.append(geo_ok)\n",
    "    return MultiLineString(geos_ok)"
   ]
  },
  {
   "cell_type": "code",
   "execution_count": 107,
   "metadata": {},
   "outputs": [
    {
     "data": {
      "image/svg+xml": [
       "<svg xmlns=\"http://www.w3.org/2000/svg\" xmlns:xlink=\"http://www.w3.org/1999/xlink\" width=\"100.0\" height=\"100.0\" viewBox=\"-5.341421356237309 -5.341421356237309 9.218376618407357 9.218376618407355\" preserveAspectRatio=\"xMinYMin meet\"><g transform=\"matrix(1,0,0,-1,0,-1.4644660940672631)\"><g><polyline fill=\"none\" stroke=\"#66cc99\" stroke-width=\"0.18436753236814712\" points=\"3.5355339059327378,-3.5355339059327373 3.1719664208182277,-3.865052266813685 2.777851165098011,-4.157348061512726 2.356983684129989,-4.409606321741775 1.9134171618254494,-4.619397662556434 1.451423386272312,-4.784701678661044 0.9754516100806431,-4.903926402016152 0.49008570164780413,-4.975923633360984 6.123233995736766e-16,-5.0 -0.49008570164780296,-4.975923633360985 -0.9754516100806419,-4.903926402016152 -1.4514233862723105,-4.784701678661045 -1.9134171618254483,-4.619397662556434 -2.3569836841299883,-4.409606321741776 -2.77785116509801,-4.157348061512727 -3.1719664208182263,-3.8650522668136853 -3.5355339059327373,-3.5355339059327386 -3.8650522668136835,-3.1719664208182294 -4.157348061512726,-2.777851165098011 -4.409606321741775,-2.356983684129989 -4.619397662556432,-1.9134171618254516 -4.784701678661044,-1.4514233862723123 -4.903926402016151,-0.9754516100806433 -4.975923633360985,-0.49008570164780224 -5.0,-9.184850993605148e-16 -4.975923633360985,0.49008570164780046 -4.903926402016152,0.9754516100806415 -4.784701678661045,1.4514233862723103 -4.619397662556433,1.91341716182545 -4.409606321741776,2.356983684129988 -4.157348061512727,2.777851165098009 -3.8650522668136844,3.171966420818228 -3.5355339059327386,3.535533905932737\" opacity=\"0.8\" /></g></g></svg>"
      ],
      "text/plain": [
       "<MULTILINESTRING ((3.536 -3.536, 3.172 -3.865, 2.778 -4.157, 2.357 -4.41, 1....>"
      ]
     },
     "execution_count": 107,
     "metadata": {},
     "output_type": "execute_result"
    }
   ],
   "source": [
    "filter_tangent_condition(circles[0], condition = lambda x,y:x-y>0, tolerance=3)"
   ]
  },
  {
   "cell_type": "code",
   "execution_count": null,
   "metadata": {},
   "outputs": [],
   "source": [
    "def sliceLineLength(g, startLength, endLength=1):\n",
    "    start_p = g.interpolate(startLength)\n",
    "    end_p = g.interpolate(endLength)\n",
    "    return LineString([start_p, end_p])"
   ]
  },
  {
   "cell_type": "code",
   "execution_count": 206,
   "metadata": {},
   "outputs": [],
   "source": [
    "new_geo = []\n",
    "for circle in circles:\n",
    "    circle2 = filter_tangent_condition(circle, condition = lambda x,y:x-y>0, )\n",
    "    circle2_merge = sh.line_merge(circle2)\n",
    "    circle2_merge = circle2_merge.segmentize(3)\n",
    "    lines = [sliceLineLength(LineString([c, aw.rose.centroid]), 0,0.1) for c in shu.coords(circle2_merge)]\n",
    "    new_geo.append(GeometryCollection(lines))"
   ]
  },
  {
   "cell_type": "code",
   "execution_count": 202,
   "metadata": {},
   "outputs": [],
   "source": []
  },
  {
   "cell_type": "code",
   "execution_count": 207,
   "metadata": {},
   "outputs": [
    {
     "data": {
      "image/svg+xml": [
       "<svg xmlns=\"http://www.w3.org/2000/svg\" xmlns:xlink=\"http://www.w3.org/1999/xlink\" width=\"100.0\" height=\"100.0\" viewBox=\"-35.76543056708162 -36.18063691744676 55.888720255748765 56.961009138243995\" preserveAspectRatio=\"xMinYMin meet\"><g transform=\"matrix(1,0,0,-1,0,-15.400264696649533)\"><g><g><polyline fill=\"none\" stroke=\"#66cc99\" stroke-width=\"1.1392201827648798\" points=\"3.5355339059327378,-3.5355339059327373 3.449258360307992,-3.48497176370011\" opacity=\"0.8\" /><polyline fill=\"none\" stroke=\"#66cc99\" stroke-width=\"1.1392201827648798\" points=\"3.1719664208182277,-3.865052266813685 3.0912364284063165,-3.806038130158365\" opacity=\"0.8\" /><polyline fill=\"none\" stroke=\"#66cc99\" stroke-width=\"1.1392201827648798\" points=\"2.777851165098011,-4.157348061512726 2.7036807339689877,-4.0902753610591525\" opacity=\"0.8\" /><polyline fill=\"none\" stroke=\"#66cc99\" stroke-width=\"1.1392201827648798\" points=\"2.356983684129989,-4.409606321741775 2.2903961631230767,-4.335000008026688\" opacity=\"0.8\" /><polyline fill=\"none\" stroke=\"#66cc99\" stroke-width=\"1.1392201827648798\" points=\"1.9134171618254494,-4.619397662556434 1.8554272195987636,-4.537928855025296\" opacity=\"0.8\" /><polyline fill=\"none\" stroke=\"#66cc99\" stroke-width=\"1.1392201827648798\" points=\"1.451423386272312,-4.784701678661044 1.403013034560323,-4.697200605255505\" opacity=\"0.8\" /><polyline fill=\"none\" stroke=\"#66cc99\" stroke-width=\"1.1392201827648798\" points=\"0.9754516100806431,-4.903926402016152 0.9375397885066139,-4.811391577301675\" opacity=\"0.8\" /><polyline fill=\"none\" stroke=\"#66cc99\" stroke-width=\"1.1392201827648798\" points=\"0.49008570164780413,-4.975923633360984 0.46349164957570743,-4.879524689412481\" opacity=\"0.8\" /><polyline fill=\"none\" stroke=\"#66cc99\" stroke-width=\"1.1392201827648798\" points=\"6.123233995736766e-16,-5.0 -0.014598273910883608,-4.901071286277326\" opacity=\"0.8\" /><polyline fill=\"none\" stroke=\"#66cc99\" stroke-width=\"1.1392201827648798\" points=\"-0.49008570164780296,-4.975923633360985 -0.4921951479192626,-4.875945884654446\" opacity=\"0.8\" /><polyline fill=\"none\" stroke=\"#66cc99\" stroke-width=\"1.1392201827648798\" points=\"-0.9754516100806419,-4.903926402016152 -0.9648058959356126,-4.80449467282299\" opacity=\"0.8\" /><polyline fill=\"none\" stroke=\"#66cc99\" stroke-width=\"1.1392201827648798\" points=\"-1.4514233862723105,-4.784701678661045 -1.4280173953337165,-4.687479461096424\" opacity=\"0.8\" /><polyline fill=\"none\" stroke=\"#66cc99\" stroke-width=\"1.1392201827648798\" points=\"-1.9134171618254483,-4.619397662556434 -1.8775286889085778,-4.526059473631991\" opacity=\"0.8\" /><polyline fill=\"none\" stroke=\"#66cc99\" stroke-width=\"1.1392201827648798\" points=\"-2.3569836841299883,-4.409606321741776 -2.3091777757502694,-4.321773553801844\" opacity=\"0.8\" /><polyline fill=\"none\" stroke=\"#66cc99\" stroke-width=\"1.1392201827648798\" points=\"-2.77785116509801,-4.157348061512727 -2.718964852269861,-4.076524784163282\" opacity=\"0.8\" /><polyline fill=\"none\" stroke=\"#66cc99\" stroke-width=\"1.1392201827648798\" points=\"-3.1719664208182263,-3.8650522668136853 -3.1030747223831043,-3.792568241768685\" opacity=\"0.8\" /><polyline fill=\"none\" stroke=\"#66cc99\" stroke-width=\"1.1392201827648798\" points=\"-3.5355339059327373,-3.5355339059327386 -3.4579010873894704,-3.472501013844336\" opacity=\"0.8\" /><polyline fill=\"none\" stroke=\"#66cc99\" stroke-width=\"1.1392201827648798\" points=\"-3.8650522668136835,-3.1719664208182294 -3.7800745109561023,-3.1192522765170145\" opacity=\"0.8\" /><polyline fill=\"none\" stroke=\"#66cc99\" stroke-width=\"1.1392201827648798\" points=\"-4.157348061512726,-2.777851165098011 -4.066494385663619,-2.736070672225076\" opacity=\"0.8\" /><polyline fill=\"none\" stroke=\"#66cc99\" stroke-width=\"1.1392201827648798\" points=\"-4.409606321741775,-2.356983684129989 -4.314363770064295,-2.326506539415258\" opacity=\"0.8\" /><polyline fill=\"none\" stroke=\"#66cc99\" stroke-width=\"1.1392201827648798\" points=\"-4.619397662556432,-1.9134171618254516 -4.5212249973912435,-1.8943875056445387\" opacity=\"0.8\" /><polyline fill=\"none\" stroke=\"#66cc99\" stroke-width=\"1.1392201827648798\" points=\"-4.784701678661044,-1.4514233862723123 -4.684993667929798,-1.4437871178107078\" opacity=\"0.8\" /><polyline fill=\"none\" stroke=\"#66cc99\" stroke-width=\"1.1392201827648798\" points=\"-4.903926402016151,-0.9754516100806433 -4.8039889223045416,-0.9789871650429696\" opacity=\"0.8\" /><polyline fill=\"none\" stroke=\"#66cc99\" stroke-width=\"1.1392201827648798\" points=\"-4.975923633360985,-0.49008570164780224 -4.8769584931270815,-0.5044349531433958\" opacity=\"0.8\" /><polyline fill=\"none\" stroke=\"#66cc99\" stroke-width=\"1.1392201827648798\" points=\"-5.0,-9.184850993605148e-16 -4.9030976894393286,-0.024697008077968506\" opacity=\"0.8\" /><polyline fill=\"none\" stroke=\"#66cc99\" stroke-width=\"1.1392201827648798\" points=\"-4.975923633360985,0.49008570164780046 -4.882062015314458,0.45558937347090744\" opacity=\"0.8\" /><polyline fill=\"none\" stroke=\"#66cc99\" stroke-width=\"1.1392201827648798\" points=\"-4.903926402016152,0.9754516100806415 -4.81397349817675,0.9317655128544152\" opacity=\"0.8\" /><polyline fill=\"none\" stroke=\"#66cc99\" stroke-width=\"1.1392201827648798\" points=\"-4.784701678661045,1.4514233862723103 -4.6994210140479105,1.3992007068777967\" opacity=\"0.8\" /><polyline fill=\"none\" stroke=\"#66cc99\" stroke-width=\"1.1392201827648798\" points=\"-4.619397662556433,1.91341716182545 -4.539454989262602,1.8533408021934303\" opacity=\"0.8\" /><polyline fill=\"none\" stroke=\"#66cc99\" stroke-width=\"1.1392201827648798\" points=\"-4.409606321741776,2.356983684129988 -4.33557687873542,2.2897554046029263\" opacity=\"0.8\" /><polyline fill=\"none\" stroke=\"#66cc99\" stroke-width=\"1.1392201827648798\" points=\"-4.157348061512727,2.777851165098009 -4.089723807285429,2.70418326000901\" opacity=\"0.8\" /><polyline fill=\"none\" stroke=\"#66cc99\" stroke-width=\"1.1392201827648798\" points=\"-3.8650522668136844,3.171966420818228 -3.8042487372401683,3.0925754213825076\" opacity=\"0.8\" /><polyline fill=\"none\" stroke=\"#66cc99\" stroke-width=\"1.1392201827648798\" points=\"-3.5355339059327386,3.535533905932737 -3.481896505619365,3.451135865152024\" opacity=\"0.8\" /></g><g><polyline fill=\"none\" stroke=\"#66cc99\" stroke-width=\"1.1392201827648798\" points=\"4.772970773009196,-6.522970773009195 4.702590167154387,-6.451931556237682\" opacity=\"0.8\" /><polyline fill=\"none\" stroke=\"#66cc99\" stroke-width=\"1.1392201827648798\" points=\"4.282154668104607,-6.967820560198475 4.218233397580451,-6.890917561722619\" opacity=\"0.8\" /><polyline fill=\"none\" stroke=\"#66cc99\" stroke-width=\"1.1392201827648798\" points=\"3.750099072882315,-7.362419883042181 3.693127047747727,-7.280236013870281\" opacity=\"0.8\" /><polyline fill=\"none\" stroke=\"#66cc99\" stroke-width=\"1.1392201827648798\" points=\"3.181927973575485,-7.702968534351395 3.1323491444110245,-7.61612419257439\" opacity=\"0.8\" /><polyline fill=\"none\" stroke=\"#66cc99\" stroke-width=\"1.1392201827648798\" points=\"2.5831131684643562,-7.986186844451185 2.5413232435996362,-7.8953375066451175\" opacity=\"0.8\" /><polyline fill=\"none\" stroke=\"#66cc99\" stroke-width=\"1.1392201827648798\" points=\"1.959421571467621,-8.20934726619241 1.9257656598282247,-8.115181032266861\" opacity=\"0.8\" /><polyline fill=\"none\" stroke=\"#66cc99\" stroke-width=\"1.1392201827648798\" points=\"1.3168596736088682,-8.370300642721805 1.2916298343757957,-8.273535694459156\" opacity=\"0.8\" /><polyline fill=\"none\" stroke=\"#66cc99\" stroke-width=\"1.1392201827648798\" points=\"0.6616156972245357,-8.46749690503733 0.6450483813108598,-8.36887883345095\" opacity=\"0.8\" /><polyline fill=\"none\" stroke=\"#66cc99\" stroke-width=\"1.1392201827648798\" points=\"8.881784197001252e-16,-8.5 -0.007726627016098473,-8.400298950682783\" opacity=\"0.8\" /><polyline fill=\"none\" stroke=\"#66cc99\" stroke-width=\"1.1392201827648798\" points=\"-0.661615697224534,-8.46749690503733 -0.6603845551575817,-8.367504483878468\" opacity=\"0.8\" /><polyline fill=\"none\" stroke=\"#66cc99\" stroke-width=\"1.1392201827648798\" points=\"-1.3168596736088665,-8.370300642721805 -1.3066176874408473,-8.270826516843092\" opacity=\"0.8\" /><polyline fill=\"none\" stroke=\"#66cc99\" stroke-width=\"1.1392201827648798\" points=\"-1.9594215714676193,-8.20934726619241 -1.940182697436718,-8.111215386937893\" opacity=\"0.8\" /><polyline fill=\"none\" stroke=\"#66cc99\" stroke-width=\"1.1392201827648798\" points=\"-2.5831131684643553,-7.986186844451186 -2.5549614998668932,-7.890231211186752\" opacity=\"0.8\" /><polyline fill=\"none\" stroke=\"#66cc99\" stroke-width=\"1.1392201827648798\" points=\"-3.181927973575484,-7.702968534351396 -3.1450208827221062,-7.6100284103750395\" opacity=\"0.8\" /><polyline fill=\"none\" stroke=\"#66cc99\" stroke-width=\"1.1392201827648798\" points=\"-3.750099072882313,-7.362419883042182 -3.7046703242659054,-7.273334369073034\" opacity=\"0.8\" /><polyline fill=\"none\" stroke=\"#66cc99\" stroke-width=\"1.1392201827648798\" points=\"-4.282154668104606,-6.967820560198476 -4.228517411485027,-6.883422428096365\" opacity=\"0.8\" /><polyline fill=\"none\" stroke=\"#66cc99\" stroke-width=\"1.1392201827648798\" points=\"-4.772970773009195,-6.522970773009197 -4.711520293521669,-6.444079464421032\" opacity=\"0.8\" /><polyline fill=\"none\" stroke=\"#66cc99\" stroke-width=\"1.1392201827648798\" points=\"-5.217820560198472,-6.03215466810461 -5.149036625941203,-5.959568371959321\" opacity=\"0.8\" /><polyline fill=\"none\" stroke=\"#66cc99\" stroke-width=\"1.1392201827648798\" points=\"-5.612419883042181,-5.500099072882315 -5.536868489821815,-5.434585814816014\" opacity=\"0.8\" /><polyline fill=\"none\" stroke=\"#66cc99\" stroke-width=\"1.1392201827648798\" points=\"-5.952968534351395,-4.931927973575485 -5.871302804339392,-4.8742156824963185\" opacity=\"0.8\" /><polyline fill=\"none\" stroke=\"#66cc99\" stroke-width=\"1.1392201827648798\" points=\"-6.236186844451184,-4.33311316846436 -6.149146793786751,-4.283878733560188\" opacity=\"0.8\" /><polyline fill=\"none\" stroke=\"#66cc99\" stroke-width=\"1.1392201827648798\" points=\"-6.45934726619241,-3.7094215714676215 -6.3677581210724945,-3.6692789694567516\" opacity=\"0.8\" /><polyline fill=\"none\" stroke=\"#66cc99\" stroke-width=\"1.1392201827648798\" points=\"-6.620300642721805,-3.0668596736088682 -6.525069361029833,-3.0363473320516516\" opacity=\"0.8\" /><polyline fill=\"none\" stroke=\"#66cc99\" stroke-width=\"1.1392201827648798\" points=\"-6.717496905037329,-2.411615697224533 -6.619606559434535,-2.391183364079109\" opacity=\"0.8\" /><polyline fill=\"none\" stroke=\"#66cc99\" stroke-width=\"1.1392201827648798\" points=\"-6.75,-1.750000000000001 -6.6505017078757005,-1.7399955077916174\" opacity=\"0.8\" /><polyline fill=\"none\" stroke=\"#66cc99\" stroke-width=\"1.1392201827648798\" points=\"-6.717496905037329,-1.0883843027754692 -6.61749905960277,-1.0890407389460468\" opacity=\"0.8\" /><polyline fill=\"none\" stroke=\"#66cc99\" stroke-width=\"1.1392201827648798\" points=\"-6.620300642721805,-0.43314032639113376 -6.520955314258498,-0.4445642360772976\" opacity=\"0.8\" /><polyline fill=\"none\" stroke=\"#66cc99\" stroke-width=\"1.1392201827648798\" points=\"-6.4593472661924105,0.20942157146761908 -6.361833804603898,0.18726023556416568\" opacity=\"0.8\" /><polyline fill=\"none\" stroke=\"#66cc99\" stroke-width=\"1.1392201827648798\" points=\"-6.2361868444511845,0.8331131684643576 -6.14169291805664,0.8003885924618707\" opacity=\"0.8\" /><polyline fill=\"none\" stroke=\"#66cc99\" stroke-width=\"1.1392201827648798\" points=\"-5.952968534351396,1.4319279735754837 -5.862669070437043,1.3889627921284045\" opacity=\"0.8\" /><polyline fill=\"none\" stroke=\"#66cc99\" stroke-width=\"1.1392201827648798\" points=\"-5.612419883042182,2.0000990728823123 -5.52745460893453,1.9473648127110383\" opacity=\"0.8\" /><polyline fill=\"none\" stroke=\"#66cc99\" stroke-width=\"1.1392201827648798\" points=\"-5.217820560198474,2.5321546681046074 -5.139271048394236,2.470267882800183\" opacity=\"0.8\" /><polyline fill=\"none\" stroke=\"#66cc99\" stroke-width=\"1.1392201827648798\" points=\"-4.772970773009197,3.0229707730091944 -4.701838036827415,2.9526846873073067\" opacity=\"0.8\" /></g><g><polyline fill=\"none\" stroke=\"#66cc99\" stroke-width=\"1.1392201827648798\" points=\"8.039356363755266,-6.4514765691023825 7.954296111010217,-6.398895646678479\" opacity=\"0.8\" /><polyline fill=\"none\" stroke=\"#66cc99\" stroke-width=\"1.1392201827648798\" points=\"7.3767546221340705,-7.052023781807909 7.296572351073793,-6.992267582065822\" opacity=\"0.8\" /><polyline fill=\"none\" stroke=\"#66cc99\" stroke-width=\"1.1392201827648798\" points=\"6.658479568583974,-7.584732867646913 6.58389030558254,-7.518126247518709\" opacity=\"0.8\" /><polyline fill=\"none\" stroke=\"#66cc99\" stroke-width=\"1.1392201827648798\" points=\"5.891448584519756,-8.044473546914354 5.823171523181057,-7.97141026684186\" opacity=\"0.8\" /><polyline fill=\"none\" stroke=\"#66cc99\" stroke-width=\"1.1392201827648798\" points=\"5.083048597619732,-8.42681826554907 5.02180300746826,-8.347767789984417\" opacity=\"0.8\" /><polyline fill=\"none\" stroke=\"#66cc99\" stroke-width=\"1.1392201827648798\" points=\"4.241064941674139,-8.728084834899722 4.187564500337356,-8.643599908571002\" opacity=\"0.8\" /><polyline fill=\"none\" stroke=\"#66cc99\" stroke-width=\"1.1392201827648798\" points=\"3.3736063795648223,-8.945371893214405 3.328551428807251,-8.856096748788687\" opacity=\"0.8\" /><polyline fill=\"none\" stroke=\"#66cc99\" stroke-width=\"1.1392201827648798\" points=\"2.489027011445973,-9.076586847340362 2.453094147705831,-8.983265738777336\" opacity=\"0.8\" /><polyline fill=\"none\" stroke=\"#66cc99\" stroke-width=\"1.1392201827648798\" points=\"1.5958458201928514,-9.120466025539969 1.5696741662098743,-9.023951547207465\" opacity=\"0.8\" /><polyline fill=\"none\" stroke=\"#66cc99\" stroke-width=\"1.1392201827648798\" points=\"0.7026646289397294,-9.076586847340364 0.6868381310974772,-8.977847179698381\" opacity=\"0.8\" /><polyline fill=\"none\" stroke=\"#66cc99\" stroke-width=\"1.1392201827648798\" points=\"-0.1819147391791196,-8.945371893214405 -0.18688952844834247,-8.845495712511863\" opacity=\"0.8\" /><polyline fill=\"none\" stroke=\"#66cc99\" stroke-width=\"1.1392201827648798\" points=\"-1.049373301288436,-8.728084834899724 -1.0430941932955866,-8.628282165582645\" opacity=\"0.8\" /><polyline fill=\"none\" stroke=\"#66cc99\" stroke-width=\"1.1392201827648798\" points=\"-1.8913569572340299,-8.42681826554907 -1.8735575154733206,-8.328415115838265\" opacity=\"0.8\" /><polyline fill=\"none\" stroke=\"#66cc99\" stroke-width=\"1.1392201827648798\" points=\"-2.699756944134053,-8.044473546914354 -2.67034106176575,-7.948897891726989\" opacity=\"0.8\" /><polyline fill=\"none\" stroke=\"#66cc99\" stroke-width=\"1.1392201827648798\" points=\"-3.4667879281982734,-7.584732867646913 -3.4258651563620646,-7.493489639157115\" opacity=\"0.8\" /><polyline fill=\"none\" stroke=\"#66cc99\" stroke-width=\"1.1392201827648798\" points=\"-4.185062981748368,-7.052023781807909 -4.1329807978271305,-6.966657242004574\" opacity=\"0.8\" /><polyline fill=\"none\" stroke=\"#66cc99\" stroke-width=\"1.1392201827648798\" points=\"-4.847664723369565,-6.451476569102384 -4.785032727940635,-6.373519958423171\" opacity=\"0.8\" /><polyline fill=\"none\" stroke=\"#66cc99\" stroke-width=\"1.1392201827648798\" points=\"-5.448211936075088,-5.788874827481191 -5.375912447134156,-5.7197894896816255\" opacity=\"0.8\" /><polyline fill=\"none\" stroke=\"#66cc99\" stroke-width=\"1.1392201827648798\" points=\"-5.980921021914094,-5.070599773931093 -5.9001012313821874,-5.0117086756362\" opacity=\"0.8\" /><polyline fill=\"none\" stroke=\"#66cc99\" stroke-width=\"1.1392201827648798\" points=\"-6.440661701181536,-4.303568789866873 -6.352704762911423,-4.2559917259584354\" opacity=\"0.8\" /><polyline fill=\"none\" stroke=\"#66cc99\" stroke-width=\"1.1392201827648798\" points=\"-6.823006419816249,-3.4951688029668535 -6.729482306400945,-3.459767670077052\" opacity=\"0.8\" /><polyline fill=\"none\" stroke=\"#66cc99\" stroke-width=\"1.1392201827648798\" points=\"-7.124272989166904,-2.653185147021257 -7.026873816218199,-2.630526790750155\" opacity=\"0.8\" /><polyline fill=\"none\" stroke=\"#66cc99\" stroke-width=\"1.1392201827648798\" points=\"-7.341560047481588,-1.7857265849119404 -7.242027593450159,-1.7760678792801592\" opacity=\"0.8\" /><polyline fill=\"none\" stroke=\"#66cc99\" stroke-width=\"1.1392201827648798\" points=\"-7.4727750016075465,-0.9011472167930875 -7.372829327977086,-0.9044430205726551\" opacity=\"0.8\" /><polyline fill=\"none\" stroke=\"#66cc99\" stroke-width=\"1.1392201827648798\" points=\"-7.516654179807151,-0.007966025539969612 -7.417931274916689,-0.02389675213949078\" opacity=\"0.8\" /><polyline fill=\"none\" stroke=\"#66cc99\" stroke-width=\"1.1392201827648798\" points=\"-7.4727750016075465,0.8852151657131486 -7.376778756570297,0.8572022947651655\" opacity=\"0.8\" /><polyline fill=\"none\" stroke=\"#66cc99\" stroke-width=\"1.1392201827648798\" points=\"-7.341560047481588,1.7697945338320014 -7.249630644435157,1.730437388921238\" opacity=\"0.8\" /><polyline fill=\"none\" stroke=\"#66cc99\" stroke-width=\"1.1392201827648798\" points=\"-7.124272989166906,2.637253095941318 -7.037570931487805,2.587425862481996\" opacity=\"0.8\" /><polyline fill=\"none\" stroke=\"#66cc99\" stroke-width=\"1.1392201827648798\" points=\"-6.823006419816251,3.479236751886915 -6.7425095485448905,3.4199050258415515\" opacity=\"0.8\" /><polyline fill=\"none\" stroke=\"#66cc99\" stroke-width=\"1.1392201827648798\" points=\"-6.440661701181536,4.2876367387869365 -6.367171729338723,4.219819159660706\" opacity=\"0.8\" /><polyline fill=\"none\" stroke=\"#66cc99\" stroke-width=\"1.1392201827648798\" points=\"-5.980921021914096,5.054667722851155 -5.915076154503098,4.97940515954357\" opacity=\"0.8\" /><polyline fill=\"none\" stroke=\"#66cc99\" stroke-width=\"1.1392201827648798\" points=\"-5.44821193607509,5.772942776401253 -5.390502683063347,5.691274899504479\" opacity=\"0.8\" /><polyline fill=\"none\" stroke=\"#66cc99\" stroke-width=\"1.1392201827648798\" points=\"-4.847664723369567,6.435544518022446 -4.798450744796459,6.348492899352799\" opacity=\"0.8\" /></g><g><polyline fill=\"none\" stroke=\"#66cc99\" stroke-width=\"1.1392201827648798\" points=\"7.117422040543849,-8.985538680118381 7.047480200893197,-8.914067433688208\" opacity=\"0.8\" /><polyline fill=\"none\" stroke=\"#66cc99\" stroke-width=\"1.1392201827648798\" points=\"6.222909689355236,-9.796277417270842 6.161217665530028,-9.717574849356255\" opacity=\"0.8\" /><polyline fill=\"none\" stroke=\"#66cc99\" stroke-width=\"1.1392201827648798\" points=\"5.2532383670626075,-10.515434683153497 5.20051340667953,-10.430463637775658\" opacity=\"0.8\" /><polyline fill=\"none\" stroke=\"#66cc99\" stroke-width=\"1.1392201827648798\" points=\"4.217746538575911,-11.13608460016454 4.174579868380281,-11.045881282131212\" opacity=\"0.8\" /><polyline fill=\"none\" stroke=\"#66cc99\" stroke-width=\"1.1392201827648798\" points=\"3.1264065562608794,-11.652249970321408 3.093256262824543,-11.557904551539758\" opacity=\"0.8\" /><polyline fill=\"none\" stroke=\"#66cc99\" stroke-width=\"1.1392201827648798\" points=\"1.9897286207343283,-12.058959838944789 1.9669161209352566,-11.961596653638857\" opacity=\"0.8\" /><polyline fill=\"none\" stroke=\"#66cc99\" stroke-width=\"1.1392201827648798\" points=\"0.8186595618867507,-12.352297367669612 0.8063695212763643,-12.253055466731576\" opacity=\"0.8\" /><polyline fill=\"none\" stroke=\"#66cc99\" stroke-width=\"1.1392201827648798\" points=\"-0.3755225850736954,-12.529437555739653 -0.37723920497137786,-12.42945229074462\" opacity=\"0.8\" /><polyline fill=\"none\" stroke=\"#66cc99\" stroke-width=\"1.1392201827648798\" points=\"-1.58131719326541,-12.588674446309122 -1.5725374076284235,-12.489060615120032\" opacity=\"0.8\" /><polyline fill=\"none\" stroke=\"#66cc99\" stroke-width=\"1.1392201827648798\" points=\"-2.787111801457125,-12.529437555739655 -2.768032720763077,-12.431274483864993\" opacity=\"0.8\" /><polyline fill=\"none\" stroke=\"#66cc99\" stroke-width=\"1.1392201827648798\" points=\"-3.9812939484175707,-12.352297367669612 -3.9522232948340386,-12.256616141192177\" opacity=\"0.8\" /><polyline fill=\"none\" stroke=\"#66cc99\" stroke-width=\"1.1392201827648798\" points=\"-5.152363007265148,-12.05895983894479 -5.113708563032861,-11.966732760811018\" opacity=\"0.8\" /><polyline fill=\"none\" stroke=\"#66cc99\" stroke-width=\"1.1392201827648798\" points=\"-6.289040942791699,-11.652249970321408 -6.241299414415756,-11.564382191993236\" opacity=\"0.8\" /><polyline fill=\"none\" stroke=\"#66cc99\" stroke-width=\"1.1392201827648798\" points=\"-7.380380925106731,-11.136084600164542 -7.324126635950466,-11.053407789924165\" opacity=\"0.8\" /><polyline fill=\"none\" stroke=\"#66cc99\" stroke-width=\"1.1392201827648798\" points=\"-8.415872753593426,-10.515434683153499 -8.351746496444825,-10.43870253119546\" opacity=\"0.8\" /><polyline fill=\"none\" stroke=\"#66cc99\" stroke-width=\"1.1392201827648798\" points=\"-9.385544075886056,-9.796277417270844 -9.314242375258493,-9.726162743431358\" opacity=\"0.8\" /><polyline fill=\"none\" stroke=\"#66cc99\" stroke-width=\"1.1392201827648798\" points=\"-10.28005642707467,-8.985538680118383 -10.202321384924293,-8.922631898116132\" opacity=\"0.8\" /><polyline fill=\"none\" stroke=\"#66cc99\" stroke-width=\"1.1392201827648798\" points=\"-11.090795164227128,-8.091026328929773 -11.00740499644703,-8.035835026013396\" opacity=\"0.8\" /><polyline fill=\"none\" stroke=\"#66cc99\" stroke-width=\"1.1392201827648798\" points=\"-11.809952430109785,-7.12135500663714 -11.721712746497648,-7.074304414334494\" opacity=\"0.8\" /><polyline fill=\"none\" stroke=\"#66cc99\" stroke-width=\"1.1392201827648798\" points=\"-12.43060234712083,-6.0858631781504435 -12.338338184794859,-6.047297333802281\" opacity=\"0.8\" /><polyline fill=\"none\" stroke=\"#66cc99\" stroke-width=\"1.1392201827648798\" points=\"-12.946767717277694,-4.994523195835416 -12.851316305927414,-4.964706622067801\" opacity=\"0.8\" /><polyline fill=\"none\" stroke=\"#66cc99\" stroke-width=\"1.1392201827648798\" points=\"-13.353477585901079,-3.8578452603088618 -13.255681801367315,-3.836965017795292\" opacity=\"0.8\" /><polyline fill=\"none\" stroke=\"#66cc99\" stroke-width=\"1.1392201827648798\" points=\"-13.6468151146259,-2.686776201461284 -13.547517563402597,-2.674944197359892\" opacity=\"0.8\" /><polyline fill=\"none\" stroke=\"#66cc99\" stroke-width=\"1.1392201827648798\" points=\"-13.823955302695945,-1.4925940545008327 -13.723992972312846,-1.4898495136685288\" opacity=\"0.8\" /><polyline fill=\"none\" stroke=\"#66cc99\" stroke-width=\"1.1392201827648798\" points=\"-13.883192193265412,-0.28679944630912324 -13.78339160056261,-0.29311147420586153\" opacity=\"0.8\" /><polyline fill=\"none\" stroke=\"#66cc99\" stroke-width=\"1.1392201827648798\" points=\"-13.823955302695945,0.918995161882586 -13.725128072378215,0.9037249769548736\" opacity=\"0.8\" /><polyline fill=\"none\" stroke=\"#66cc99\" stroke-width=\"1.1392201827648798\" points=\"-13.646815114625902,2.1131773088430377 -13.549753923076283,2.089112290767661\" opacity=\"0.8\" /><polyline fill=\"none\" stroke=\"#66cc99\" stroke-width=\"1.1392201827648798\" points=\"-13.35347758590108,3.2842463676906144 -13.258952409174432,3.2516121683776844\" opacity=\"0.8\" /><polyline fill=\"none\" stroke=\"#66cc99\" stroke-width=\"1.1392201827648798\" points=\"-12.946767717277696,4.420924303217172 -12.855522326843088,4.380006352090117\" opacity=\"0.8\" /><polyline fill=\"none\" stroke=\"#66cc99\" stroke-width=\"1.1392201827648798\" points=\"-12.430602347120832,5.512264285532199 -12.343351001823011,5.463405276703526\" opacity=\"0.8\" /><polyline fill=\"none\" stroke=\"#66cc99\" stroke-width=\"1.1392201827648798\" points=\"-11.809952430109789,6.547756114018894 -11.727376717678151,6.491353527939818\" opacity=\"0.8\" /><polyline fill=\"none\" stroke=\"#66cc99\" stroke-width=\"1.1392201827648798\" points=\"-11.09079516422713,7.517427436311527 -11.013540950305092,7.453931086563781\" opacity=\"0.8\" /><polyline fill=\"none\" stroke=\"#66cc99\" stroke-width=\"1.1392201827648798\" points=\"-10.280056427074673,8.411939787500136 -10.208730874103818,8.341849378074867\" opacity=\"0.8\" /></g><g><polyline fill=\"none\" stroke=\"#66cc99\" stroke-width=\"1.1392201827648798\" points=\"13.57895280718088,-14.649825996468142 13.506653181541871,-14.580740801726726\" opacity=\"0.8\" /><polyline fill=\"none\" stroke=\"#66cc99\" stroke-width=\"1.1392201827648798\" points=\"12.371361133076249,-15.744323291623964 12.305065127367287,-15.669457814753532\" opacity=\"0.8\" /><polyline fill=\"none\" stroke=\"#66cc99\" stroke-width=\"1.1392201827648798\" points=\"11.062304847981203,-16.715185600565547 11.002490195862789,-16.635046924559806\" opacity=\"0.8\" /><polyline fill=\"none\" stroke=\"#66cc99\" stroke-width=\"1.1392201827648798\" points=\"9.664390879524163,-17.553062988530456 9.611500861329182,-17.468194584661084\" opacity=\"0.8\" /><polyline fill=\"none\" stroke=\"#66cc99\" stroke-width=\"1.1392201827648798\" points=\"8.19108190339887,-18.249886238242226 8.145523282029133,-18.16086707166059\" opacity=\"0.8\" /><polyline fill=\"none\" stroke=\"#66cc99\" stroke-width=\"1.1392201827648798\" points=\"6.656566690438027,-18.798944560883793 6.618707438395874,-18.70638821569445\" opacity=\"0.8\" /><polyline fill=\"none\" stroke=\"#66cc99\" stroke-width=\"1.1392201827648798\" points=\"5.075623460993797,-19.194950224662303 5.045790242480648,-19.099504014296745\" opacity=\"0.8\" /><polyline fill=\"none\" stroke=\"#66cc99\" stroke-width=\"1.1392201827648798\" points=\"3.4634775625971947,-19.43408947855686 3.4419529319476103,-19.336433499347194\" opacity=\"0.8\" /><polyline fill=\"none\" stroke=\"#66cc99\" stroke-width=\"1.1392201827648798\" points=\"1.8356548415383802,-19.51405928082564 1.8226741170840044,-19.414905356079117\" opacity=\"0.8\" /><polyline fill=\"none\" stroke=\"#66cc99\" stroke-width=\"1.1392201827648798\" points=\"0.207832120479565,-19.43408947855686 0.2035798919293858,-19.334179926699406\" opacity=\"0.8\" /><polyline fill=\"none\" stroke=\"#66cc99\" stroke-width=\"1.1392201827648798\" points=\"-1.4043137779170367,-19.194950224662303 -1.3997075493946476,-19.09505636770003\" opacity=\"0.8\" /><polyline fill=\"none\" stroke=\"#66cc99\" stroke-width=\"1.1392201827648798\" points=\"-2.9852570073612656,-18.798944560883793 -2.971721332676773,-18.699864868157\" opacity=\"0.8\" /><polyline fill=\"none\" stroke=\"#66cc99\" stroke-width=\"1.1392201827648798\" points=\"-4.5197722203221105,-18.24988623824223 -4.4972998963425015,-18.15244397505548\" opacity=\"0.8\" /><polyline fill=\"none\" stroke=\"#66cc99\" stroke-width=\"1.1392201827648798\" points=\"-5.993081196447403,-17.55306298853046 -5.9617340999985915,-17.45810320997012\" opacity=\"0.8\" /><polyline fill=\"none\" stroke=\"#66cc99\" stroke-width=\"1.1392201827648798\" points=\"-7.390995164904445,-16.71518560056555 -7.350910009661647,-16.6235712985753\" opacity=\"0.8\" /><polyline fill=\"none\" stroke=\"#66cc99\" stroke-width=\"1.1392201827648798\" points=\"-8.700051449999492,-15.744323291623967 -8.651445948682845,-15.656930470169586\" opacity=\"0.8\" /><polyline fill=\"none\" stroke=\"#66cc99\" stroke-width=\"1.1392201827648798\" points=\"-9.907643124104123,-14.649825996468145 -9.850822441232634,-14.56753741890104\" opacity=\"0.8\" /><polyline fill=\"none\" stroke=\"#66cc99\" stroke-width=\"1.1392201827648798\" points=\"-11.002140419259941,-13.442234322363522 -10.937503722468753,-13.365931652502475\" opacity=\"0.8\" /><polyline fill=\"none\" stroke=\"#66cc99\" stroke-width=\"1.1392201827648798\" points=\"-11.973002728201529,-12.133178037268467 -11.90104954663235,-12.063732089495591\" opacity=\"0.8\" /><polyline fill=\"none\" stroke=\"#66cc99\" stroke-width=\"1.1392201827648798\" points=\"-12.810880116166437,-10.735264068811427 -12.732216093013074,-10.6735229037647\" opacity=\"0.8\" /><polyline fill=\"none\" stroke=\"#66cc99\" stroke-width=\"1.1392201827648798\" points=\"-13.507703365878204,-9.26195509268614 -13.423044853515208,-9.208729757699084\" opacity=\"0.8\" /><polyline fill=\"none\" stroke=\"#66cc99\" stroke-width=\"1.1392201827648798\" points=\"-14.056761688519774,-7.72743987972529 -13.96693849017503,-7.6834877120981915\" opacity=\"0.8\" /><polyline fill=\"none\" stroke=\"#66cc99\" stroke-width=\"1.1392201827648798\" points=\"-14.452767352298281,-6.14649665028106 -14.358722784307082,-6.112502250281225\" opacity=\"0.8\" /><polyline fill=\"none\" stroke=\"#66cc99\" stroke-width=\"1.1392201827648798\" points=\"-14.691906606192841,-4.5343507518844515 -14.594693970010828,-4.510904998184823\" opacity=\"0.8\" /><polyline fill=\"none\" stroke=\"#66cc99\" stroke-width=\"1.1392201827648798\" points=\"-14.771876408461623,-2.9065280308256436 -14.672650961249765,-2.8941058480220048\" opacity=\"0.8\" /><polyline fill=\"none\" stroke=\"#66cc99\" stroke-width=\"1.1392201827648798\" points=\"-14.691906606192841,-1.2787053097668357 -14.591912245892257,-1.2776432795992179\" opacity=\"0.8\" /><polyline fill=\"none\" stroke=\"#66cc99\" stroke-width=\"1.1392201827648798\" points=\"-14.452767352298284,0.3334405886297729 -14.353317523569281,0.32296530506454524\" opacity=\"0.8\" /><polyline fill=\"none\" stroke=\"#66cc99\" stroke-width=\"1.1392201827648798\" points=\"-14.056761688519774,1.9143838180740023 -13.959214483266,1.8923714863670198\" opacity=\"0.8\" /><polyline fill=\"none\" stroke=\"#66cc99\" stroke-width=\"1.1392201827648798\" points=\"-13.507703365878207,3.448899031034853 -13.41343141123834,3.415540395445566\" opacity=\"0.8\" /><polyline fill=\"none\" stroke=\"#66cc99\" stroke-width=\"1.1392201827648798\" points=\"-12.810880116166441,4.922208007160141 -12.721236539716621,4.877890638090155\" opacity=\"0.8\" /><polyline fill=\"none\" stroke=\"#66cc99\" stroke-width=\"1.1392201827648798\" points=\"-11.973002728201532,6.320121975617181 -11.889285145105775,6.265428591368214\" opacity=\"0.8\" /><polyline fill=\"none\" stroke=\"#66cc99\" stroke-width=\"1.1392201827648798\" points=\"-11.002140419259945,7.6291782607122345 -10.925555357019954,7.5648764081596305\" opacity=\"0.8\" /><polyline fill=\"none\" stroke=\"#66cc99\" stroke-width=\"1.1392201827648798\" points=\"-9.907643124104126,8.836769934816857 -9.839273461786595,8.763793299688983\" opacity=\"0.8\" /></g><g><polyline fill=\"none\" stroke=\"#66cc99\" stroke-width=\"1.1392201827648798\" points=\"16.676650830717133,-13.036199291557677 16.594357119653342,-12.979386043812552\" opacity=\"0.8\" /><polyline fill=\"none\" stroke=\"#66cc99\" stroke-width=\"1.1392201827648798\" points=\"15.046402070675885,-14.513770640018041 14.970472743168715,-14.44869578139884\" opacity=\"0.8\" /><polyline fill=\"none\" stroke=\"#66cc99\" stroke-width=\"1.1392201827648798\" points=\"13.27917608579757,-15.824434757089175 13.210589256980581,-15.751662187306124\" opacity=\"0.8\" /><polyline fill=\"none\" stroke=\"#66cc99\" stroke-width=\"1.1392201827648798\" points=\"11.391992228380563,-16.955569230841807 11.331692251169196,-16.875795095006257\" opacity=\"0.8\" /><polyline fill=\"none\" stroke=\"#66cc99\" stroke-width=\"1.1392201827648798\" points=\"9.403025110611416,-17.896280617952694 9.35190095146425,-17.81033691340434\" opacity=\"0.8\" /><polyline fill=\"none\" stroke=\"#66cc99\" stroke-width=\"1.1392201827648798\" points=\"7.331429573114278,-18.637509353518805 7.2902903690764,-18.546363503963654\" opacity=\"0.8\" /><polyline fill=\"none\" stroke=\"#66cc99\" stroke-width=\"1.1392201827648798\" points=\"5.1971562133645675,-19.1721169996198 5.166704830780082,-19.0768662080289\" opacity=\"0.8\" /><polyline fill=\"none\" stroke=\"#66cc99\" stroke-width=\"1.1392201827648798\" points=\"3.0207592505291534,-19.494954992377448 3.001565161901004,-19.39681434350179\" opacity=\"0.8\" /><polyline fill=\"none\" stroke=\"#66cc99\" stroke-width=\"1.1392201827648798\" points=\"0.8231985770997525,-19.602914225440305 0.8156718503147501,-19.503197885836887\" opacity=\"0.8\" /><polyline fill=\"none\" stroke=\"#66cc99\" stroke-width=\"1.1392201827648798\" points=\"-1.374362096329648,-19.494954992377455 -1.3699935489604518,-19.395050458977398\" opacity=\"0.8\" /><polyline fill=\"none\" stroke=\"#66cc99\" stroke-width=\"1.1392201827648798\" points=\"-3.5507590591650615,-19.1721169996198 -3.534466712940892,-19.07345312854983\" opacity=\"0.8\" /><polyline fill=\"none\" stroke=\"#66cc99\" stroke-width=\"1.1392201827648798\" points=\"-5.685032418914773,-18.637509353518812 -5.656996814139664,-18.541519745409946\" opacity=\"0.8\" /><polyline fill=\"none\" stroke=\"#66cc99\" stroke-width=\"1.1392201827648798\" points=\"-7.756627956411911,-17.8962806179527 -7.717239374092718,-17.804364680363598\" opacity=\"0.8\" /><polyline fill=\"none\" stroke=\"#66cc99\" stroke-width=\"1.1392201827648798\" points=\"-9.745595074181061,-16.955569230841807 -9.695444655899074,-16.869053708846376\" opacity=\"0.8\" /><polyline fill=\"none\" stroke=\"#66cc99\" stroke-width=\"1.1392201827648798\" points=\"-11.632778931598065,-15.824434757089183 -11.572640735451136,-15.74453859094716\" opacity=\"0.8\" /><polyline fill=\"none\" stroke=\"#66cc99\" stroke-width=\"1.1392201827648798\" points=\"-13.40000491647638,-14.513770640018041 -13.330810395330092,-14.441575638505917\" opacity=\"0.8\" /><polyline fill=\"none\" stroke=\"#66cc99\" stroke-width=\"1.1392201827648798\" points=\"-15.030253676517631,-13.036199291557683 -14.953060810045564,-12.97262837552035\" opacity=\"0.8\" /><polyline fill=\"none\" stroke=\"#66cc99\" stroke-width=\"1.1392201827648798\" points=\"-16.507825024977986,-11.40595053151644 -16.423784703324745,-11.351754366186965\" opacity=\"0.8\" /><polyline fill=\"none\" stroke=\"#66cc99\" stroke-width=\"1.1392201827648798\" points=\"-17.81848914204913,-9.638724546638116 -17.728811358049235,-9.59447643869136\" opacity=\"0.8\" /><polyline fill=\"none\" stroke=\"#66cc99\" stroke-width=\"1.1392201827648798\" points=\"-18.94962361580176,-7.7515406892211125 -18.85554564304321,-7.717638844999277\" opacity=\"0.8\" /><polyline fill=\"none\" stroke=\"#66cc99\" stroke-width=\"1.1392201827648798\" points=\"-19.890335002912646,-5.762573571451975 -19.79309314823712,-5.739249298703099\" opacity=\"0.8\" /><polyline fill=\"none\" stroke=\"#66cc99\" stroke-width=\"1.1392201827648798\" points=\"-20.63156373847876,-3.690978033954826 -20.53236960339875,-3.6783082444645427\" opacity=\"0.8\" /><polyline fill=\"none\" stroke=\"#66cc99\" stroke-width=\"1.1392201827648798\" points=\"-21.16617138457975,-1.5567046742051156 -21.066192969126583,-1.5546270689794892\" opacity=\"0.8\" /><polyline fill=\"none\" stroke=\"#66cc99\" stroke-width=\"1.1392201827648798\" points=\"-21.489009377337407,0.6196922886303078 -21.389356885430892,0.6113627714280931\" opacity=\"0.8\" /><polyline fill=\"none\" stroke=\"#66cc99\" stroke-width=\"1.1392201827648798\" points=\"-21.59696861040026,2.817252962059699 -21.49868449503247,2.798807565171279\" opacity=\"0.8\" /><polyline fill=\"none\" stroke=\"#66cc99\" stroke-width=\"1.1392201827648798\" points=\"-21.489009377337407,5.01481363548909 -21.393061988483023,4.9866338808410156\" opacity=\"0.8\" /><polyline fill=\"none\" stroke=\"#66cc99\" stroke-width=\"1.1392201827648798\" points=\"-21.166171384579755,7.191210598324513 -21.07345152441481,7.1537535892208295\" opacity=\"0.8\" /><polyline fill=\"none\" stroke=\"#66cc99\" stroke-width=\"1.1392201827648798\" points=\"-20.631563738478764,9.325483958074223 -20.542883452060302,9.279269168225737\" opacity=\"0.8\" /><polyline fill=\"none\" stroke=\"#66cc99\" stroke-width=\"1.1392201827648798\" points=\"-19.890335002912646,11.397079495571372 -19.806428005025655,11.342677145386915\" opacity=\"0.8\" /><polyline fill=\"none\" stroke=\"#66cc99\" stroke-width=\"1.1392201827648798\" points=\"-18.949623615801762,13.386046613340511 -18.87114685004271,13.324067606927057\" opacity=\"0.8\" /><polyline fill=\"none\" stroke=\"#66cc99\" stroke-width=\"1.1392201827648798\" points=\"-17.818489142049135,15.273230470757515 -17.746025068108082,15.204317786962255\" opacity=\"0.8\" /><polyline fill=\"none\" stroke=\"#66cc99\" stroke-width=\"1.1392201827648798\" points=\"-16.50782502497799,17.04045645563584 -16.441884323313083,16.965277842560447\" opacity=\"0.8\" /><polyline fill=\"none\" stroke=\"#66cc99\" stroke-width=\"1.1392201827648798\" points=\"-15.030253676517635,18.67070521567708 -14.971278140460694,18.58994702013758\" opacity=\"0.8\" /></g><g><polyline fill=\"none\" stroke=\"#66cc99\" stroke-width=\"1.1392201827648798\" points=\"18.013622683547,-25.20590475158506 17.952519541173306,-25.126744117479085\" opacity=\"0.8\" /><polyline fill=\"none\" stroke=\"#66cc99\" stroke-width=\"1.1392201827648798\" points=\"15.812786857491309,-27.20062607200655 15.759579021681231,-27.115956560324907\" opacity=\"0.8\" /><polyline fill=\"none\" stroke=\"#66cc99\" stroke-width=\"1.1392201827648798\" points=\"13.427031777905585,-28.97002263005259 13.382111200587168,-28.8806797974728\" opacity=\"0.8\" /><polyline fill=\"none\" stroke=\"#66cc99\" stroke-width=\"1.1392201827648798\" points=\"10.87933357039263,-30.497054169618636 10.84300745273812,-30.403885434647343\" opacity=\"0.8\" /><polyline fill=\"none\" stroke=\"#66cc99\" stroke-width=\"1.1392201827648798\" points=\"8.194227961404282,-31.767014542218334 8.166721932918074,-31.6708718441237\" opacity=\"0.8\" /><polyline fill=\"none\" stroke=\"#66cc99\" stroke-width=\"1.1392201827648798\" points=\"5.397573985783145,-32.76767333523259 5.379035537670356,-32.66940672879088\" opacity=\"0.8\" /><polyline fill=\"none\" stroke=\"#66cc99\" stroke-width=\"1.1392201827648798\" points=\"2.5163049501210377,-33.48939365746892 2.506806983364977,-33.38984573620735\" opacity=\"0.8\" /><polyline fill=\"none\" stroke=\"#66cc99\" stroke-width=\"1.1392201827648798\" points=\"-0.4218309497067718,-33.92522494769175 -0.42228656462604985,-33.82522598562191\" opacity=\"0.8\" /><polyline fill=\"none\" stroke=\"#66cc99\" stroke-width=\"1.1392201827648798\" points=\"-3.388537858836462,-34.07096991232661 -3.380016783249312,-33.971333617379244\" opacity=\"0.8\" /><polyline fill=\"none\" stroke=\"#66cc99\" stroke-width=\"1.1392201827648798\" points=\"-6.355244767966152,-33.92522494769175 -6.337876805452088,-33.82674472694611\" opacity=\"0.8\" /><polyline fill=\"none\" stroke=\"#66cc99\" stroke-width=\"1.1392201827648798\" points=\"-9.293380667793961,-33.48939365746892 -9.26735651252705,-33.39283930312566\" opacity=\"0.8\" /><polyline fill=\"none\" stroke=\"#66cc99\" stroke-width=\"1.1392201827648798\" points=\"-12.174649703456069,-32.76767333523259 -12.14021784035932,-32.673788049890916\" opacity=\"0.8\" /><polyline fill=\"none\" stroke=\"#66cc99\" stroke-width=\"1.1392201827648798\" points=\"-14.97130367907721,-31.76701454221834 -14.928767438463032,-31.676512231560476\" opacity=\"0.8\" /><polyline fill=\"none\" stroke=\"#66cc99\" stroke-width=\"1.1392201827648798\" points=\"-17.656409288065554,-30.497054169618636 -17.606124049086077,-30.410616939556718\" opacity=\"0.8\" /><polyline fill=\"none\" stroke=\"#66cc99\" stroke-width=\"1.1392201827648798\" points=\"-20.204107495578512,-28.97002263005259 -20.146478026626905,-28.888298433462133\" opacity=\"0.8\" /><polyline fill=\"none\" stroke=\"#66cc99\" stroke-width=\"1.1392201827648798\" points=\"-22.58986257516424,-27.20062607200655 -22.52534049474439,-27.124226457228108\" opacity=\"0.8\" /><polyline fill=\"none\" stroke=\"#66cc99\" stroke-width=\"1.1392201827648798\" points=\"-24.790698401219927,-25.205904751585066 -24.719779739214708,-25.13540267091088\" opacity=\"0.8\" /><polyline fill=\"none\" stroke=\"#66cc99\" stroke-width=\"1.1392201827648798\" points=\"-26.785419721641404,-23.005068925529393 -26.708642557919774,-22.94099656697391\" opacity=\"0.8\" /><polyline fill=\"none\" stroke=\"#66cc99\" stroke-width=\"1.1392201827648798\" points=\"-28.55481627968745,-20.61931384594365 -28.47275843422919,-20.562160455853927\" opacity=\"0.8\" /><polyline fill=\"none\" stroke=\"#66cc99\" stroke-width=\"1.1392201827648798\" points=\"-30.081847819253497,-18.0716156384307 -29.995124565128208,-18.021825306096797\" opacity=\"0.8\" /><polyline fill=\"none\" stroke=\"#66cc99\" stroke-width=\"1.1392201827648798\" points=\"-31.351808191853195,-15.386510029442364 -31.26106995920784,-15.344479408028953\" opacity=\"0.8\" /><polyline fill=\"none\" stroke=\"#66cc99\" stroke-width=\"1.1392201827648798\" points=\"-32.35246698486745,-12.589856053821213 -32.25839702033651,-12.555931994907988\" opacity=\"0.8\" /><polyline fill=\"none\" stroke=\"#66cc99\" stroke-width=\"1.1392201827648798\" points=\"-33.074187307103784,-9.708587018159106 -32.97749924858079,-9.683064100241006\" opacity=\"0.8\" /><polyline fill=\"none\" stroke=\"#66cc99\" stroke-width=\"1.1392201827648798\" points=\"-33.51001859732662,-6.770451118331284 -33.411453918690505,-6.753569053132999\" opacity=\"0.8\" /><polyline fill=\"none\" stroke=\"#66cc99\" stroke-width=\"1.1392201827648798\" points=\"-33.65576356196147,-3.8037442092016067 -33.55608883605419,-3.7956851140099435\" opacity=\"0.8\" /><polyline fill=\"none\" stroke=\"#66cc99\" stroke-width=\"1.1392201827648798\" points=\"-33.51001859732662,-0.8370373000719291 -33.41002251821943,-0.8379228299628877\" opacity=\"0.8\" /><polyline fill=\"none\" stroke=\"#66cc99\" stroke-width=\"1.1392201827648798\" points=\"-33.07418730710379,2.1010985997558924 -32.97467740455905,2.0912102583612406\" opacity=\"0.8\" /><polyline fill=\"none\" stroke=\"#66cc99\" stroke-width=\"1.1392201827648798\" points=\"-32.352466984867455,4.982367635418 -32.25426595513352,4.963484898349595\" opacity=\"0.8\" /><polyline fill=\"none\" stroke=\"#66cc99\" stroke-width=\"1.1392201827648798\" points=\"-31.351808191853195,7.77902161103915 -31.255749759951076,7.751222732275676\" opacity=\"0.8\" /><polyline fill=\"none\" stroke=\"#66cc99\" stroke-width=\"1.1392201827648798\" points=\"-30.081847819253504,10.464127220027487 -29.988772039421406,10.427563587704551\" opacity=\"0.8\" /><polyline fill=\"none\" stroke=\"#66cc99\" stroke-width=\"1.1392201827648798\" points=\"-28.554816279687458,13.011825427540442 -28.465564173681486,12.966724855775785\" opacity=\"0.8\" /><polyline fill=\"none\" stroke=\"#66cc99\" stroke-width=\"1.1392201827648798\" points=\"-26.78541972164141,15.397580507126177 -26.700827150615776,15.344250431865841\" opacity=\"0.8\" /><polyline fill=\"none\" stroke=\"#66cc99\" stroke-width=\"1.1392201827648798\" points=\"-24.790698401219935,17.598416333181852 -24.711589067893172,17.5372467869959\" opacity=\"0.8\" /></g></g></g></svg>"
      ],
      "text/plain": [
       "<GEOMETRYCOLLECTION (GEOMETRYCOLLECTION (LINESTRING (3.536 -3.536, 3.449 -3....>"
      ]
     },
     "execution_count": 207,
     "metadata": {},
     "output_type": "execute_result"
    }
   ],
   "source": [
    "geo_shadow = shu.print(new_geo)\n",
    "geo_shadow"
   ]
  },
  {
   "cell_type": "code",
   "execution_count": 208,
   "metadata": {},
   "outputs": [],
   "source": [
    "colored = {\n",
    "    'shadow':\"black\",\n",
    "    'rose': 'red',\n",
    "    'background': 'green'\n",
    "}"
   ]
  },
  {
   "cell_type": "code",
   "execution_count": 209,
   "metadata": {},
   "outputs": [],
   "source": [
    "geo_shadow = shu.print(new_geo)\n",
    "# scale = 0.9\n",
    "# translate = 0.1\n",
    "# geo_shadow = sh.affinity.scale(geo_shadow,scale,scale, 1, aw.rose.centroid)\n",
    "# geo_shadow = sh.affinity.translate(geo_shadow,translate,translate)\n",
    "# aw.shadow = geo_shadow"
   ]
  },
  {
   "cell_type": "code",
   "execution_count": 210,
   "metadata": {},
   "outputs": [],
   "source": [
    "cu.create_artwork(aw,colored, 0.2,0.1, 'svg')"
   ]
  },
  {
   "cell_type": "code",
   "execution_count": 227,
   "metadata": {},
   "outputs": [],
   "source": [
    "def start_at_0(geometry):\n",
    "    bounds = geometry.bounds\n",
    "    translate_x = abs(min(bounds[0],0))\n",
    "    translate_y = abs(min(bounds[1],0))\n",
    "    geometry_translated = sh.affinity.translate(geometry, translate_x,translate_y)\n",
    "    return geometry_translated"
   ]
  },
  {
   "cell_type": "code",
   "execution_count": 228,
   "metadata": {},
   "outputs": [],
   "source": [
    "def resize(geo, new_size, maintain_proportion=True,):\n",
    "    w,h = shu.size(geo)\n",
    "    prop_w, prop_h = new_size[0]/w, new_size[1]/h\n",
    "    if prop_w>1 and prop_h<1 or prop_w<1 and prop_h>1:\n",
    "        print('cant')\n",
    "        return geo\n",
    "    if maintain_proportion:\n",
    "        if prop_w>1:\n",
    "            max_w_h = max(prop_w,prop_h)\n",
    "            prop_w = max_w_h\n",
    "            prop_h = max_w_h\n",
    "        if prop_w<1:\n",
    "            min_w_h = min(prop_w,prop_h)\n",
    "            prop_w = min_w_h\n",
    "            prop_h = min_w_h\n",
    "    return sh.affinity.scale(geo,prop_w,prop_h, )"
   ]
  },
  {
   "cell_type": "code",
   "execution_count": null,
   "metadata": {},
   "outputs": [],
   "source": [
    "def translate_all_layers()"
   ]
  },
  {
   "cell_type": "code",
   "execution_count": null,
   "metadata": {},
   "outputs": [],
   "source": [
    "def plot_grid(geo, padding, rows=1, cols=1):\n",
    "    padding_top,padding_right,padding_bottom,padding_left=padding\n",
    "    start_geo = sh.affinity.translate(geo, padding_top, padding_right)\n",
    "    current_x, current_y = (0,0)\n",
    "    for i in range(0,rows):\n",
    "        current_y += padding_top\n",
    "        for j in range(0,cols):\n",
    "            current_x += padding_right\n",
    "            geo\n",
    "            current_y += padding_left"
   ]
  },
  {
   "cell_type": "code",
   "execution_count": null,
   "metadata": {},
   "outputs": [],
   "source": [
    "def padding(geo,padding_top=0,padding_right=0,padding_bottom=0,padding_left=0):\n",
    "    return "
   ]
  },
  {
   "cell_type": "code",
   "execution_count": 229,
   "metadata": {},
   "outputs": [
    {
     "ename": "TypeError",
     "evalue": "resize() missing 1 required positional argument: 'new_size'",
     "output_type": "error",
     "traceback": [
      "\u001b[1;31m---------------------------------------------------------------------------\u001b[0m",
      "\u001b[1;31mTypeError\u001b[0m                                 Traceback (most recent call last)",
      "Cell \u001b[1;32mIn[229], line 1\u001b[0m\n\u001b[1;32m----> 1\u001b[0m \u001b[43mresize\u001b[49m\u001b[43m(\u001b[49m\u001b[43mstart_at_0\u001b[49m\u001b[43m(\u001b[49m\u001b[43maw\u001b[49m\u001b[38;5;241;43m.\u001b[39;49m\u001b[43mrose\u001b[49m\u001b[43m)\u001b[49m\u001b[43m)\u001b[49m\u001b[38;5;241m.\u001b[39mbounds\n",
      "\u001b[1;31mTypeError\u001b[0m: resize() missing 1 required positional argument: 'new_size'"
     ]
    }
   ],
   "source": [
    "resize(start_at_0(aw.rose), ).bounds"
   ]
  },
  {
   "cell_type": "code",
   "execution_count": 226,
   "metadata": {},
   "outputs": [
    {
     "data": {
      "text/plain": [
       "(0.5, 1.0)"
      ]
     },
     "execution_count": 226,
     "metadata": {},
     "output_type": "execute_result"
    }
   ],
   "source": [
    "shu.size(resize(g,(1,1)))"
   ]
  },
  {
   "cell_type": "code",
   "execution_count": 199,
   "metadata": {},
   "outputs": [
    {
     "ename": "TypeError",
     "evalue": "snap() missing 3 required positional arguments: 'geometry', 'reference', and 'tolerance'",
     "output_type": "error",
     "traceback": [
      "\u001b[1;31m---------------------------------------------------------------------------\u001b[0m",
      "\u001b[1;31mTypeError\u001b[0m                                 Traceback (most recent call last)",
      "Cell \u001b[1;32mIn[199], line 1\u001b[0m\n\u001b[1;32m----> 1\u001b[0m \u001b[43msh\u001b[49m\u001b[38;5;241;43m.\u001b[39;49m\u001b[43msnap\u001b[49m\u001b[43m(\u001b[49m\u001b[43m)\u001b[49m\n",
      "File \u001b[1;32mc:\\Users\\bernat\\miniconda3\\lib\\site-packages\\shapely\\decorators.py:77\u001b[0m, in \u001b[0;36mmultithreading_enabled.<locals>.wrapped\u001b[1;34m(*args, **kwargs)\u001b[0m\n\u001b[0;32m     75\u001b[0m     \u001b[38;5;28;01mfor\u001b[39;00m arr \u001b[38;5;129;01min\u001b[39;00m array_args:\n\u001b[0;32m     76\u001b[0m         arr\u001b[38;5;241m.\u001b[39mflags\u001b[38;5;241m.\u001b[39mwriteable \u001b[38;5;241m=\u001b[39m \u001b[38;5;28;01mFalse\u001b[39;00m\n\u001b[1;32m---> 77\u001b[0m     \u001b[38;5;28;01mreturn\u001b[39;00m func(\u001b[38;5;241m*\u001b[39margs, \u001b[38;5;241m*\u001b[39m\u001b[38;5;241m*\u001b[39mkwargs)\n\u001b[0;32m     78\u001b[0m \u001b[38;5;28;01mfinally\u001b[39;00m:\n\u001b[0;32m     79\u001b[0m     \u001b[38;5;28;01mfor\u001b[39;00m arr, old_flag \u001b[38;5;129;01min\u001b[39;00m \u001b[38;5;28mzip\u001b[39m(array_args, old_flags):\n",
      "\u001b[1;31mTypeError\u001b[0m: snap() missing 3 required positional arguments: 'geometry', 'reference', and 'tolerance'"
     ]
    }
   ],
   "source": [
    "sh.snap()"
   ]
  },
  {
   "cell_type": "code",
   "execution_count": null,
   "metadata": {},
   "outputs": [],
   "source": [
    "# def autotolerance(line,number_points):\n",
    "#     pass\n",
    "    "
   ]
  },
  {
   "cell_type": "code",
   "execution_count": null,
   "metadata": {},
   "outputs": [],
   "source": [
    "from shapely.ops import split\n",
    "\n",
    "# shu.printg(a,p.buffer(1))"
   ]
  },
  {
   "cell_type": "code",
   "execution_count": null,
   "metadata": {},
   "outputs": [],
   "source": [
    "slope_index_selected"
   ]
  },
  {
   "cell_type": "code",
   "execution_count": null,
   "metadata": {},
   "outputs": [],
   "source": [
    "a.segmentize()"
   ]
  },
  {
   "cell_type": "code",
   "execution_count": null,
   "metadata": {},
   "outputs": [],
   "source": [
    "shu.size(rose)"
   ]
  },
  {
   "cell_type": "code",
   "execution_count": null,
   "metadata": {},
   "outputs": [],
   "source": []
  }
 ],
 "metadata": {
  "kernelspec": {
   "display_name": "base",
   "language": "python",
   "name": "python3"
  },
  "language_info": {
   "codemirror_mode": {
    "name": "ipython",
    "version": 3
   },
   "file_extension": ".py",
   "mimetype": "text/x-python",
   "name": "python",
   "nbconvert_exporter": "python",
   "pygments_lexer": "ipython3",
   "version": "3.10.13"
  }
 },
 "nbformat": 4,
 "nbformat_minor": 2
}
