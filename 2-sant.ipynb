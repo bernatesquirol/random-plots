{
 "cells": [
  {
   "cell_type": "code",
   "execution_count": null,
   "metadata": {},
   "outputs": [],
   "source": [
    "import utils, shapely_utils as shu, python_utils as pu, cairo_utils as cu\n",
    "from shapely import LineString, MultiLineString, GeometryCollection\n",
    "import shapely as sh\n",
    "import numpy as  np\n",
    "import bezier"
   ]
  },
  {
   "cell_type": "code",
   "execution_count": null,
   "metadata": {},
   "outputs": [],
   "source": []
  },
  {
   "cell_type": "code",
   "execution_count": null,
   "metadata": {},
   "outputs": [],
   "source": [
    "def random_point_line(line):\n",
    "    import random\n",
    "    return line.interpolate(line.length*random.random())\n"
   ]
  },
  {
   "cell_type": "code",
   "execution_count": null,
   "metadata": {},
   "outputs": [],
   "source": [
    "def follow_line(line, distance, starting_point=None):\n",
    "    if starting_point is None:\n",
    "        starting_point = shu.first(line)\n",
    "    return starting_point+shu.unit_vector(line)*distance"
   ]
  },
  {
   "cell_type": "code",
   "execution_count": null,
   "metadata": {},
   "outputs": [],
   "source": [
    "golden_angle = (180*(3-5**0.5))\n",
    "def get_rose(init_radius=1,number_of_circles = 6, increase=lambda i: 0.35, angle_change=lambda i:golden_angle*i):\n",
    "    import random\n",
    "    \n",
    "    radius = init_radius\n",
    "    last_circle = shu.Circle((0,0),radius)\n",
    "    last_line = LineString([last_circle.centroid,shu.first(last_circle)])\n",
    "    circles = [last_circle]\n",
    "    points = [last_circle.centroid]\n",
    "    for i in range(number_of_circles):\n",
    "        new_angle = angle_change(i)\n",
    "        last_circle = sh.affinity.rotate(last_circle,new_angle)\n",
    "        a = shu.first(last_circle)\n",
    "        half_line = LineString([a,last_circle.centroid])\n",
    "        b = follow_line(half_line,half_line.length*2)\n",
    "        new_line = LineString([a,b])\n",
    "        # new_line = sh.affinity.rotate(new_line, golden_angle,  )\n",
    "        # points.append(new_line)\n",
    "        random_distance = increase(i) #random.random()\n",
    "        sliced_line = shu.sliceLine(new_line, 0.5, 1)\n",
    "        random_point = shu.interpolateTotal(sliced_line,random_distance)\n",
    "        points.append(random_point)\n",
    "        radius = 0.5*new_line.length+random_distance*sliced_line.length\n",
    "        new_circle = shu.Circle(random_point, radius)\n",
    "        circles.append(new_circle)\n",
    "        last_circle = new_circle\n",
    "    rose = shu.printg(*(circles))\n",
    "    return rose\n"
   ]
  },
  {
   "cell_type": "code",
   "execution_count": null,
   "metadata": {},
   "outputs": [],
   "source": [
    "all_ls = []\n",
    "for c1,c2 in pu.iter_two(shu.geoms(rose)):\n",
    "    ls = LineString((shu.coords(c1)+shu.coords(c2)))\n",
    "    all_ls.append(ls)"
   ]
  },
  {
   "cell_type": "code",
   "execution_count": null,
   "metadata": {},
   "outputs": [],
   "source": [
    "# shu.printg(c1,c2,c1.intersection(c2))"
   ]
  },
  {
   "cell_type": "code",
   "execution_count": null,
   "metadata": {},
   "outputs": [],
   "source": [
    "# shu.printg(*all_ls)"
   ]
  },
  {
   "cell_type": "code",
   "execution_count": null,
   "metadata": {},
   "outputs": [],
   "source": [
    "import random\n",
    "random.randint(90,180)"
   ]
  },
  {
   "cell_type": "code",
   "execution_count": null,
   "metadata": {},
   "outputs": [],
   "source": [
    "rose = get_rose(\n",
    "    angle_change=lambda i:golden_angle*i,\n",
    "    increase=lambda i: 0.3,\n",
    "    number_of_circles = 10,\n",
    ")"
   ]
  },
  {
   "cell_type": "code",
   "execution_count": null,
   "metadata": {},
   "outputs": [],
   "source": [
    "rose_ok = shu.resize(rose,(5,5))\n",
    "rose_ok = shu.start_at_0(rose_ok)\n",
    "rose_ok.bounds"
   ]
  },
  {
   "cell_type": "code",
   "execution_count": null,
   "metadata": {},
   "outputs": [],
   "source": [
    "\n",
    "    "
   ]
  },
  {
   "cell_type": "code",
   "execution_count": null,
   "metadata": {},
   "outputs": [],
   "source": [
    "pu.reload(shu)"
   ]
  },
  {
   "cell_type": "code",
   "execution_count": null,
   "metadata": {},
   "outputs": [],
   "source": []
  },
  {
   "cell_type": "code",
   "execution_count": null,
   "metadata": {},
   "outputs": [],
   "source": [
    "shu.coords(shu.segmentize(LineString([[0,0],[1,1]]),10))"
   ]
  },
  {
   "cell_type": "code",
   "execution_count": null,
   "metadata": {},
   "outputs": [],
   "source": []
  },
  {
   "cell_type": "code",
   "execution_count": null,
   "metadata": {},
   "outputs": [],
   "source": [
    "# filter_tangent_condition(circles[0], condition = lambda x,y:x-y>0)"
   ]
  },
  {
   "cell_type": "code",
   "execution_count": null,
   "metadata": {},
   "outputs": [],
   "source": []
  },
  {
   "cell_type": "code",
   "execution_count": null,
   "metadata": {},
   "outputs": [],
   "source": [
    "new_geo = []\n",
    "for circle in circles:\n",
    "    circle2 = filter_tangent_condition(circle, condition = lambda x,y:x-y>0, )\n",
    "    new_geo.append(circle2)\n",
    "    # circle2_merge = sh.line_merge(circle2)\n",
    "    # circle2_merge = circle2_merge.segmentize(3)\n",
    "    # lines = [sliceLineLength(LineString([c, aw.rose.centroid]), 0,0.1) for c in shu.coords(circle2_merge)]\n",
    "    # new_geo.append(GeometryCollection(lines))"
   ]
  },
  {
   "cell_type": "code",
   "execution_count": null,
   "metadata": {},
   "outputs": [],
   "source": []
  },
  {
   "cell_type": "code",
   "execution_count": null,
   "metadata": {},
   "outputs": [],
   "source": [
    "geo_shadow = shu.printg(*new_geo)\n",
    "\n",
    "aw.shadow = geo_shadow"
   ]
  },
  {
   "cell_type": "code",
   "execution_count": null,
   "metadata": {},
   "outputs": [],
   "source": [
    "pu.reload(cu)"
   ]
  },
  {
   "cell_type": "code",
   "execution_count": null,
   "metadata": {},
   "outputs": [],
   "source": [
    "colored = {\n",
    "    # 'shadow':\"black\",\n",
    "    'rose': 'red',\n",
    "    'background': 'green'\n",
    "}"
   ]
  },
  {
   "cell_type": "code",
   "execution_count": null,
   "metadata": {},
   "outputs": [],
   "source": [
    "list(aw.keys())"
   ]
  },
  {
   "cell_type": "code",
   "execution_count": null,
   "metadata": {},
   "outputs": [],
   "source": [
    "cu.create_artwork(aw,colored, 0.2,0.1, 'svg')"
   ]
  },
  {
   "cell_type": "code",
   "execution_count": null,
   "metadata": {},
   "outputs": [],
   "source": []
  },
  {
   "cell_type": "code",
   "execution_count": null,
   "metadata": {},
   "outputs": [],
   "source": []
  },
  {
   "cell_type": "code",
   "execution_count": null,
   "metadata": {},
   "outputs": [],
   "source": [
    "def translate_absolute(geo, new_x, new_y):\n",
    "    x_min,y_min,x_max,y_max = geo.bounds\n",
    "    xoff = new_x-x_min\n",
    "    yoff = new_y-y_min\n",
    "    return sh.affinity.translate(geo,xoff,yoff)"
   ]
  },
  {
   "cell_type": "code",
   "execution_count": null,
   "metadata": {},
   "outputs": [],
   "source": [
    "translate_absolute(rose,5,5).bounds"
   ]
  },
  {
   "cell_type": "code",
   "execution_count": null,
   "metadata": {},
   "outputs": [],
   "source": [
    "def plot_grid(geo, padding=(0,0,0,0), rows=1, cols=1, box=False):\n",
    "    padding_top,padding_right,padding_bottom,padding_left=padding\n",
    "    # start_geo = sh.affinity.translate(geo, padding_top, padding_right)\n",
    "    geo_item = geo\n",
    "    if type(geo)==list:\n",
    "        geo_item = geo[0]\n",
    "    x_min,y_min,x_max,y_max = geo_item.bounds\n",
    "    current_x, current_y = (x_min,y_min)\n",
    "    resulting_geos = []\n",
    "    k = 0\n",
    "    for i in range(0,rows):\n",
    "        current_x = 0\n",
    "        for j in range(0,cols):\n",
    "            geo_item = geo\n",
    "            if type(geo)==list:\n",
    "                geo_item = geo[k]\n",
    "            w,h = shu.size(geo_item)\n",
    "            w_rect = w+padding_right+padding_left\n",
    "            h_rect = h+padding_bottom+padding_top\n",
    "            \n",
    "            new_geo = translate_absolute(geo_item, current_x+padding_left, current_y+padding_bottom)\n",
    "            if box:\n",
    "                rect = shu.Rect((current_x,current_y), w_rect, h_rect).boundary\n",
    "                new_geo = GeometryCollection([new_geo,rect])\n",
    "            resulting_geos.append(new_geo)\n",
    "            current_x += w_rect\n",
    "            k += 1\n",
    "        current_y += h_rect\n",
    "    if len(resulting_geos)==1:\n",
    "        return resulting_geos[0]\n",
    "    return resulting_geos"
   ]
  },
  {
   "cell_type": "code",
   "execution_count": null,
   "metadata": {},
   "outputs": [],
   "source": [
    "shu.printg(*plot_grid([plot_grid(rose_ok,padding=(0,0,5,0),box=True) for i in range(6)], rows=2,cols=3))"
   ]
  },
  {
   "cell_type": "code",
   "execution_count": null,
   "metadata": {},
   "outputs": [],
   "source": [
    "def padding(geo,padding_top=0,padding_right=0,padding_bottom=0,padding_left=0):\n",
    "    return "
   ]
  },
  {
   "cell_type": "code",
   "execution_count": null,
   "metadata": {},
   "outputs": [],
   "source": [
    "resize(start_at_0(aw.rose), ).bounds"
   ]
  },
  {
   "cell_type": "code",
   "execution_count": null,
   "metadata": {},
   "outputs": [],
   "source": [
    "shu.size(resize(g,(1,1)))"
   ]
  },
  {
   "cell_type": "code",
   "execution_count": null,
   "metadata": {},
   "outputs": [],
   "source": [
    "sh.snap()"
   ]
  },
  {
   "cell_type": "code",
   "execution_count": null,
   "metadata": {},
   "outputs": [],
   "source": [
    "# def autotolerance(line,number_points):\n",
    "#     pass\n",
    "    "
   ]
  },
  {
   "cell_type": "code",
   "execution_count": null,
   "metadata": {},
   "outputs": [],
   "source": [
    "from shapely.ops import split\n",
    "\n",
    "# shu.printg(a,p.buffer(1))"
   ]
  },
  {
   "cell_type": "code",
   "execution_count": null,
   "metadata": {},
   "outputs": [],
   "source": [
    "slope_index_selected"
   ]
  },
  {
   "cell_type": "code",
   "execution_count": null,
   "metadata": {},
   "outputs": [],
   "source": [
    "a.segmentize()"
   ]
  },
  {
   "cell_type": "code",
   "execution_count": null,
   "metadata": {},
   "outputs": [],
   "source": [
    "shu.size(rose)"
   ]
  },
  {
   "cell_type": "code",
   "execution_count": null,
   "metadata": {},
   "outputs": [],
   "source": []
  }
 ],
 "metadata": {
  "kernelspec": {
   "display_name": "base",
   "language": "python",
   "name": "python3"
  },
  "language_info": {
   "codemirror_mode": {
    "name": "ipython",
    "version": 3
   },
   "file_extension": ".py",
   "mimetype": "text/x-python",
   "name": "python",
   "nbconvert_exporter": "python",
   "pygments_lexer": "ipython3",
   "version": "3.10.10"
  }
 },
 "nbformat": 4,
 "nbformat_minor": 2
}
