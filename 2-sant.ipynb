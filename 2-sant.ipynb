{
 "cells": [
  {
   "cell_type": "code",
   "execution_count": null,
   "metadata": {},
   "outputs": [],
   "source": [
    "import utils, shapely_utils as shu, python_utils as pu, cairo_utils as cu, plotter_utils as plu\n",
    "from shapely import LineString, MultiLineString, GeometryCollection\n",
    "import shapely as sh\n",
    "import numpy as  np\n",
    "import bezier\n",
    "import random"
   ]
  },
  {
   "cell_type": "code",
   "execution_count": null,
   "metadata": {},
   "outputs": [],
   "source": []
  },
  {
   "cell_type": "code",
   "execution_count": null,
   "metadata": {},
   "outputs": [],
   "source": [
    "def random_point_line(line):\n",
    "    import random\n",
    "    return line.interpolate(line.length*random.random())\n"
   ]
  },
  {
   "cell_type": "code",
   "execution_count": null,
   "metadata": {},
   "outputs": [],
   "source": [
    "def follow_line(line, distance, starting_point=None):\n",
    "    if starting_point is None:\n",
    "        starting_point = shu.first(line)\n",
    "    return starting_point+shu.unit_vector(line)*distance"
   ]
  },
  {
   "cell_type": "code",
   "execution_count": null,
   "metadata": {},
   "outputs": [],
   "source": [
    "golden_angle = (180*(3-5**0.5))\n",
    "def get_rose(init_radius=1,number_of_circles = 6, increase=lambda i: 0.35, angle_change=lambda i:golden_angle*i):\n",
    "    import random\n",
    "    \n",
    "    radius = init_radius\n",
    "    last_circle = shu.Circle((0,0),radius)\n",
    "    last_line = LineString([last_circle.centroid,shu.first(last_circle)])\n",
    "    circles = [last_circle]\n",
    "    points = [last_circle.centroid]\n",
    "    for i in range(number_of_circles):\n",
    "        new_angle = angle_change(i)\n",
    "        last_circle = sh.affinity.rotate(last_circle,new_angle)\n",
    "        a = shu.first(last_circle)\n",
    "        half_line = LineString([a,last_circle.centroid])\n",
    "        b = follow_line(half_line,half_line.length*2)\n",
    "        new_line = LineString([a,b])\n",
    "        # new_line = sh.affinity.rotate(new_line, golden_angle,  )\n",
    "        # points.append(new_line)\n",
    "        random_distance = increase(i) #random.random()\n",
    "        sliced_line = shu.sliceLine(new_line, 0.5, 1)\n",
    "        random_point = shu.interpolateTotal(sliced_line,random_distance)\n",
    "        points.append(random_point)\n",
    "        radius = 0.5*new_line.length+random_distance*sliced_line.length\n",
    "        new_circle = shu.Circle(random_point, radius)\n",
    "        circles.append(new_circle)\n",
    "        last_circle = new_circle\n",
    "    rose = shu.printg(*(circles))\n",
    "    return rose_ok\n",
    "\n"
   ]
  },
  {
   "cell_type": "code",
   "execution_count": null,
   "metadata": {},
   "outputs": [],
   "source": [
    "rose = get_rose(\n",
    "        angle_change=lambda i:golden_angle*i,\n",
    "        increase=lambda i: 0.25,\n",
    "        number_of_circles = 11,\n",
    "    )\n",
    "\n",
    "rose_ok = shu.resize(rose,(14,14))\n",
    "rose_ok = shu.start_at(rose_ok)\n",
    "# shu.size(rose)\n",
    "rose_ok"
   ]
  },
  {
   "cell_type": "code",
   "execution_count": null,
   "metadata": {},
   "outputs": [],
   "source": []
  },
  {
   "cell_type": "code",
   "execution_count": null,
   "metadata": {},
   "outputs": [],
   "source": [
    "def get_random_rose():\n",
    "    rose_int = random.randint(70,150)\n",
    "    rose = get_rose(\n",
    "        angle_change=lambda i:rose_int*i,\n",
    "        increase=lambda i: 0.3,\n",
    "        number_of_circles = 9,\n",
    "    )\n",
    "    return rose"
   ]
  },
  {
   "cell_type": "code",
   "execution_count": null,
   "metadata": {},
   "outputs": [],
   "source": [
    "pu.reload(shu)"
   ]
  },
  {
   "cell_type": "code",
   "execution_count": null,
   "metadata": {},
   "outputs": [],
   "source": [
    "padding_left = 0.5\n",
    "def get_single_book():\n",
    "    single_book = shu.plot_grid(get_random_rose(),padding=(padding_left,5,padding_left,padding_left),box=True)\n",
    "    return single_book"
   ]
  },
  {
   "cell_type": "code",
   "execution_count": null,
   "metadata": {},
   "outputs": [],
   "source": [
    "roses = shu.printg(*shu.plot_grid([get_single_book() for i in range(6*2)], rows=6,cols=2))"
   ]
  },
  {
   "cell_type": "code",
   "execution_count": null,
   "metadata": {},
   "outputs": [],
   "source": [
    "roses"
   ]
  },
  {
   "cell_type": "code",
   "execution_count": null,
   "metadata": {},
   "outputs": [],
   "source": [
    "plotter = plu.init_plotter()"
   ]
  },
  {
   "cell_type": "code",
   "execution_count": null,
   "metadata": {},
   "outputs": [],
   "source": [
    "plotter.pendown()"
   ]
  },
  {
   "cell_type": "code",
   "execution_count": null,
   "metadata": {},
   "outputs": [],
   "source": [
    "plotter.penup()"
   ]
  },
  {
   "cell_type": "code",
   "execution_count": null,
   "metadata": {},
   "outputs": [],
   "source": [
    "plotter.lineto(20,10)"
   ]
  },
  {
   "cell_type": "code",
   "execution_count": null,
   "metadata": {},
   "outputs": [],
   "source": [
    "boundary = shu.printg(*[shu.geoms(g)[1] for g in shu.geoms(roses)])"
   ]
  },
  {
   "cell_type": "code",
   "execution_count": null,
   "metadata": {},
   "outputs": [],
   "source": [
    "roses"
   ]
  },
  {
   "cell_type": "code",
   "execution_count": null,
   "metadata": {},
   "outputs": [],
   "source": [
    "roses_only = shu.printg(*[shu.geoms(g)[0] for g in shu.geoms(roses)])"
   ]
  },
  {
   "cell_type": "code",
   "execution_count": null,
   "metadata": {},
   "outputs": [],
   "source": []
  },
  {
   "cell_type": "code",
   "execution_count": null,
   "metadata": {},
   "outputs": [],
   "source": [
    "x_min,y_min,x_max,y_max = boundary.bounds\n",
    "plotter.penup()\n",
    "iter_points = [[x_min,y_min],[x_max,y_min],[x_max,y_max],[x_min,y_max],]\n",
    "for x,y in iter_points:\n",
    "    import pdb\n",
    "    pdb.set_trace()\n",
    "    plotter.moveto(x,y)\n",
    "pdb.set_trace()\n",
    "    "
   ]
  },
  {
   "cell_type": "code",
   "execution_count": null,
   "metadata": {},
   "outputs": [],
   "source": [
    "plotter.moveto(0,y_max)"
   ]
  },
  {
   "cell_type": "code",
   "execution_count": null,
   "metadata": {},
   "outputs": [],
   "source": [
    "roses"
   ]
  },
  {
   "cell_type": "code",
   "execution_count": null,
   "metadata": {},
   "outputs": [],
   "source": [
    "plu.plot(plotter, roses)"
   ]
  },
  {
   "cell_type": "code",
   "execution_count": null,
   "metadata": {},
   "outputs": [],
   "source": [
    "def padding(geo,padding_top=0,padding_right=0,padding_bottom=0,padding_left=0):\n",
    "    return "
   ]
  },
  {
   "cell_type": "code",
   "execution_count": null,
   "metadata": {},
   "outputs": [],
   "source": [
    "resize(start_at_0(aw.rose), ).bounds"
   ]
  },
  {
   "cell_type": "code",
   "execution_count": null,
   "metadata": {},
   "outputs": [],
   "source": [
    "shu.size(resize(g,(1,1)))"
   ]
  },
  {
   "cell_type": "code",
   "execution_count": null,
   "metadata": {},
   "outputs": [],
   "source": [
    "sh.snap()"
   ]
  },
  {
   "cell_type": "code",
   "execution_count": null,
   "metadata": {},
   "outputs": [],
   "source": [
    "# def autotolerance(line,number_points):\n",
    "#     pass\n",
    "    "
   ]
  },
  {
   "cell_type": "code",
   "execution_count": null,
   "metadata": {},
   "outputs": [],
   "source": [
    "from shapely.ops import split\n",
    "\n",
    "# shu.printg(a,p.buffer(1))"
   ]
  },
  {
   "cell_type": "code",
   "execution_count": null,
   "metadata": {},
   "outputs": [],
   "source": [
    "slope_index_selected"
   ]
  },
  {
   "cell_type": "code",
   "execution_count": null,
   "metadata": {},
   "outputs": [],
   "source": [
    "a.segmentize()"
   ]
  },
  {
   "cell_type": "code",
   "execution_count": null,
   "metadata": {},
   "outputs": [],
   "source": [
    "shu.size(rose)"
   ]
  },
  {
   "cell_type": "code",
   "execution_count": null,
   "metadata": {},
   "outputs": [],
   "source": []
  }
 ],
 "metadata": {
  "kernelspec": {
   "display_name": "base",
   "language": "python",
   "name": "python3"
  },
  "language_info": {
   "codemirror_mode": {
    "name": "ipython",
    "version": 3
   },
   "file_extension": ".py",
   "mimetype": "text/x-python",
   "name": "python",
   "nbconvert_exporter": "python",
   "pygments_lexer": "ipython3",
   "version": "3.12.8"
  }
 },
 "nbformat": 4,
 "nbformat_minor": 2
}
