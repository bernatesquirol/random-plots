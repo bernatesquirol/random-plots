{
 "cells": [
  {
   "cell_type": "code",
   "execution_count": 4,
   "metadata": {},
   "outputs": [],
   "source": [
    "import utils, shapely_utils as shu, python_utils as pu, cairo_utils as cu, plotter_utils as plu\n",
    "from shapely import LineString, MultiLineString, GeometryCollection\n",
    "import shapely as sh\n",
    "import numpy as  np\n",
    "import bezier\n",
    "import random"
   ]
  },
  {
   "cell_type": "code",
   "execution_count": null,
   "metadata": {},
   "outputs": [],
   "source": []
  },
  {
   "cell_type": "code",
   "execution_count": 5,
   "metadata": {},
   "outputs": [],
   "source": [
    "def random_point_line(line):\n",
    "    import random\n",
    "    return line.interpolate(line.length*random.random())\n"
   ]
  },
  {
   "cell_type": "code",
   "execution_count": 6,
   "metadata": {},
   "outputs": [],
   "source": [
    "def follow_line(line, distance, starting_point=None):\n",
    "    if starting_point is None:\n",
    "        starting_point = shu.first(line)\n",
    "    return starting_point+shu.unit_vector(line)*distance"
   ]
  },
  {
   "cell_type": "code",
   "execution_count": 7,
   "metadata": {},
   "outputs": [],
   "source": [
    "golden_angle = (180*(3-5**0.5))\n",
    "def get_rose(init_radius=1,number_of_circles = 6, increase=lambda i: 0.35, angle_change=lambda i:golden_angle*i):\n",
    "    import random\n",
    "    \n",
    "    radius = init_radius\n",
    "    last_circle = shu.Circle((0,0),radius)\n",
    "    last_line = LineString([last_circle.centroid,shu.first(last_circle)])\n",
    "    circles = [last_circle]\n",
    "    points = [last_circle.centroid]\n",
    "    for i in range(number_of_circles):\n",
    "        new_angle = angle_change(i)\n",
    "        last_circle = sh.affinity.rotate(last_circle,new_angle)\n",
    "        a = shu.first(last_circle)\n",
    "        half_line = LineString([a,last_circle.centroid])\n",
    "        b = follow_line(half_line,half_line.length*2)\n",
    "        new_line = LineString([a,b])\n",
    "        # new_line = sh.affinity.rotate(new_line, golden_angle,  )\n",
    "        # points.append(new_line)\n",
    "        random_distance = increase(i) #random.random()\n",
    "        sliced_line = shu.sliceLine(new_line, 0.5, 1)\n",
    "        random_point = shu.interpolateTotal(sliced_line,random_distance)\n",
    "        points.append(random_point)\n",
    "        radius = 0.5*new_line.length+random_distance*sliced_line.length\n",
    "        new_circle = shu.Circle(random_point, radius)\n",
    "        circles.append(new_circle)\n",
    "        last_circle = new_circle\n",
    "    rose = shu.printg(*(circles))\n",
    "    return rose_ok\n",
    "\n"
   ]
  },
  {
   "cell_type": "code",
   "execution_count": 8,
   "metadata": {},
   "outputs": [
    {
     "ename": "NameError",
     "evalue": "name 'rose_ok' is not defined",
     "output_type": "error",
     "traceback": [
      "\u001b[31m---------------------------------------------------------------------------\u001b[39m",
      "\u001b[31mNameError\u001b[39m                                 Traceback (most recent call last)",
      "\u001b[36mCell\u001b[39m\u001b[36m \u001b[39m\u001b[32mIn[8]\u001b[39m\u001b[32m, line 1\u001b[39m\n\u001b[32m----> \u001b[39m\u001b[32m1\u001b[39m rose = \u001b[43mget_rose\u001b[49m\u001b[43m(\u001b[49m\n\u001b[32m      2\u001b[39m \u001b[43m        \u001b[49m\u001b[43mangle_change\u001b[49m\u001b[43m=\u001b[49m\u001b[38;5;28;43;01mlambda\u001b[39;49;00m\u001b[43m \u001b[49m\u001b[43mi\u001b[49m\u001b[43m:\u001b[49m\u001b[43mgolden_angle\u001b[49m\u001b[43m*\u001b[49m\u001b[43mi\u001b[49m\u001b[43m,\u001b[49m\n\u001b[32m      3\u001b[39m \u001b[43m        \u001b[49m\u001b[43mincrease\u001b[49m\u001b[43m=\u001b[49m\u001b[38;5;28;43;01mlambda\u001b[39;49;00m\u001b[43m \u001b[49m\u001b[43mi\u001b[49m\u001b[43m:\u001b[49m\u001b[43m \u001b[49m\u001b[32;43m0.25\u001b[39;49m\u001b[43m,\u001b[49m\n\u001b[32m      4\u001b[39m \u001b[43m        \u001b[49m\u001b[43mnumber_of_circles\u001b[49m\u001b[43m \u001b[49m\u001b[43m=\u001b[49m\u001b[43m \u001b[49m\u001b[32;43m11\u001b[39;49m\u001b[43m,\u001b[49m\n\u001b[32m      5\u001b[39m \u001b[43m    \u001b[49m\u001b[43m)\u001b[49m\n\u001b[32m      7\u001b[39m rose_ok = shu.resize(rose,(\u001b[32m14\u001b[39m,\u001b[32m14\u001b[39m))\n\u001b[32m      8\u001b[39m rose_ok = shu.start_at(rose_ok)\n",
      "\u001b[36mCell\u001b[39m\u001b[36m \u001b[39m\u001b[32mIn[7]\u001b[39m\u001b[32m, line 28\u001b[39m, in \u001b[36mget_rose\u001b[39m\u001b[34m(init_radius, number_of_circles, increase, angle_change)\u001b[39m\n\u001b[32m     26\u001b[39m     last_circle = new_circle\n\u001b[32m     27\u001b[39m rose = shu.printg(*(circles))\n\u001b[32m---> \u001b[39m\u001b[32m28\u001b[39m \u001b[38;5;28;01mreturn\u001b[39;00m \u001b[43mrose_ok\u001b[49m\n",
      "\u001b[31mNameError\u001b[39m: name 'rose_ok' is not defined"
     ]
    }
   ],
   "source": [
    "rose = get_rose(\n",
    "        angle_change=lambda i:golden_angle*i,\n",
    "        increase=lambda i: 0.25,\n",
    "        number_of_circles = 11,\n",
    "    )\n",
    "\n",
    "rose_ok = shu.resize(rose,(14,14))\n",
    "rose_ok = shu.start_at(rose_ok)\n",
    "# shu.size(rose)\n",
    "rose_ok"
   ]
  },
  {
   "cell_type": "code",
   "execution_count": null,
   "metadata": {},
   "outputs": [],
   "source": []
  },
  {
   "cell_type": "code",
   "execution_count": null,
   "metadata": {},
   "outputs": [],
   "source": [
    "def get_random_rose():\n",
    "    rose_int = random.randint(70,150)\n",
    "    rose = get_rose(\n",
    "        angle_change=lambda i:rose_int*i,\n",
    "        increase=lambda i: 0.3,\n",
    "        number_of_circles = 9,\n",
    "    )\n",
    "    return rose"
   ]
  },
  {
   "cell_type": "code",
   "execution_count": null,
   "metadata": {},
   "outputs": [],
   "source": [
    "pu.reload(shu)"
   ]
  },
  {
   "cell_type": "code",
   "execution_count": null,
   "metadata": {},
   "outputs": [],
   "source": [
    "padding_left = 0.5\n",
    "def get_single_book():\n",
    "    single_book = shu.plot_grid(get_random_rose(),padding=(padding_left,5,padding_left,padding_left),box=True)\n",
    "    return single_book"
   ]
  },
  {
   "cell_type": "code",
   "execution_count": null,
   "metadata": {},
   "outputs": [],
   "source": [
    "roses = shu.printg(*shu.plot_grid([get_single_book() for i in range(6*2)], rows=6,cols=2))"
   ]
  },
  {
   "cell_type": "code",
   "execution_count": null,
   "metadata": {},
   "outputs": [],
   "source": [
    "roses"
   ]
  },
  {
   "cell_type": "code",
   "execution_count": null,
   "metadata": {},
   "outputs": [],
   "source": [
    "plotter = plu.init_plotter()"
   ]
  },
  {
   "cell_type": "code",
   "execution_count": null,
   "metadata": {},
   "outputs": [],
   "source": [
    "plotter.pendown()"
   ]
  },
  {
   "cell_type": "code",
   "execution_count": null,
   "metadata": {},
   "outputs": [],
   "source": [
    "plotter.penup()"
   ]
  },
  {
   "cell_type": "code",
   "execution_count": null,
   "metadata": {},
   "outputs": [],
   "source": [
    "plotter.lineto(20,10)"
   ]
  },
  {
   "cell_type": "code",
   "execution_count": null,
   "metadata": {},
   "outputs": [],
   "source": [
    "boundary = shu.printg(*[shu.geoms(g)[1] for g in shu.geoms(roses)])"
   ]
  },
  {
   "cell_type": "code",
   "execution_count": null,
   "metadata": {},
   "outputs": [],
   "source": [
    "roses"
   ]
  },
  {
   "cell_type": "code",
   "execution_count": null,
   "metadata": {},
   "outputs": [],
   "source": [
    "roses_only = shu.printg(*[shu.geoms(g)[0] for g in shu.geoms(roses)])"
   ]
  },
  {
   "cell_type": "code",
   "execution_count": null,
   "metadata": {},
   "outputs": [],
   "source": []
  },
  {
   "cell_type": "code",
   "execution_count": null,
   "metadata": {},
   "outputs": [],
   "source": [
    "x_min,y_min,x_max,y_max = boundary.bounds\n",
    "plotter.penup()\n",
    "iter_points = [[x_min,y_min],[x_max,y_min],[x_max,y_max],[x_min,y_max],]\n",
    "for x,y in iter_points:\n",
    "    import pdb\n",
    "    pdb.set_trace()\n",
    "    plotter.moveto(x,y)\n",
    "pdb.set_trace()\n",
    "    "
   ]
  },
  {
   "cell_type": "code",
   "execution_count": null,
   "metadata": {},
   "outputs": [],
   "source": [
    "plotter.moveto(0,y_max)"
   ]
  },
  {
   "cell_type": "code",
   "execution_count": null,
   "metadata": {},
   "outputs": [],
   "source": [
    "roses"
   ]
  },
  {
   "cell_type": "code",
   "execution_count": null,
   "metadata": {},
   "outputs": [],
   "source": [
    "plu.plot(plotter, roses)"
   ]
  },
  {
   "cell_type": "code",
   "execution_count": null,
   "metadata": {},
   "outputs": [],
   "source": [
    "def padding(geo,padding_top=0,padding_right=0,padding_bottom=0,padding_left=0):\n",
    "    return "
   ]
  },
  {
   "cell_type": "code",
   "execution_count": null,
   "metadata": {},
   "outputs": [],
   "source": [
    "resize(start_at_0(aw.rose), ).bounds"
   ]
  },
  {
   "cell_type": "code",
   "execution_count": null,
   "metadata": {},
   "outputs": [],
   "source": [
    "shu.size(resize(g,(1,1)))"
   ]
  },
  {
   "cell_type": "code",
   "execution_count": null,
   "metadata": {},
   "outputs": [],
   "source": [
    "sh.snap()"
   ]
  },
  {
   "cell_type": "code",
   "execution_count": null,
   "metadata": {},
   "outputs": [],
   "source": [
    "# def autotolerance(line,number_points):\n",
    "#     pass\n",
    "    "
   ]
  },
  {
   "cell_type": "code",
   "execution_count": null,
   "metadata": {},
   "outputs": [],
   "source": [
    "from shapely.ops import split\n",
    "\n",
    "# shu.printg(a,p.buffer(1))"
   ]
  },
  {
   "cell_type": "code",
   "execution_count": null,
   "metadata": {},
   "outputs": [],
   "source": [
    "slope_index_selected"
   ]
  },
  {
   "cell_type": "code",
   "execution_count": null,
   "metadata": {},
   "outputs": [],
   "source": [
    "a.segmentize()"
   ]
  },
  {
   "cell_type": "code",
   "execution_count": null,
   "metadata": {},
   "outputs": [],
   "source": [
    "shu.size(rose)"
   ]
  },
  {
   "cell_type": "code",
   "execution_count": null,
   "metadata": {},
   "outputs": [],
   "source": []
  }
 ],
 "metadata": {
  "kernelspec": {
   "display_name": "base",
   "language": "python",
   "name": "python3"
  },
  "language_info": {
   "codemirror_mode": {
    "name": "ipython",
    "version": 3
   },
   "file_extension": ".py",
   "mimetype": "text/x-python",
   "name": "python",
   "nbconvert_exporter": "python",
   "pygments_lexer": "ipython3",
   "version": "3.12.8"
  }
 },
 "nbformat": 4,
 "nbformat_minor": 2
}
