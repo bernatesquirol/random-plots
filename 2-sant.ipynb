{
 "cells": [
  {
   "cell_type": "code",
   "execution_count": null,
   "metadata": {},
   "outputs": [],
   "source": [
    "import utils, shapely_utils as shu, python_utils as pu, cairo_utils as cu\n",
    "from shapely import LineString, MultiLineString, GeometryCollection\n",
    "import shapely as sh\n",
    "import numpy as  np\n",
    "import bezier"
   ]
  },
  {
   "cell_type": "code",
   "execution_count": 5,
   "metadata": {},
   "outputs": [],
   "source": [
    "radius = 0.5\n",
    "first = shu.Circle((0,0),radius)"
   ]
  },
  {
   "cell_type": "code",
   "execution_count": 6,
   "metadata": {},
   "outputs": [],
   "source": [
    "def random_point_line(line):\n",
    "    import random\n",
    "    return line.interpolate(line.length*random.random())\n"
   ]
  },
  {
   "cell_type": "code",
   "execution_count": 7,
   "metadata": {},
   "outputs": [],
   "source": [
    "def follow_line(line, distance, starting_point=None):\n",
    "    if starting_point is None:\n",
    "        starting_point = shu.first(line)\n",
    "    return starting_point+shu.unit_vector(line)*distance"
   ]
  },
  {
   "cell_type": "code",
   "execution_count": null,
   "metadata": {},
   "outputs": [],
   "source": []
  },
  {
   "cell_type": "code",
   "execution_count": null,
   "metadata": {},
   "outputs": [],
   "source": [
    "golden_angle = (180*(3-5**0.5))\n",
    "golden_angle"
   ]
  },
  {
   "cell_type": "code",
   "execution_count": 9,
   "metadata": {},
   "outputs": [],
   "source": [
    "pu.reload(pu)"
   ]
  },
  {
   "cell_type": "code",
   "execution_count": 10,
   "metadata": {},
   "outputs": [],
   "source": [
    "import random\n",
    "number_of_circles = 6\n",
    "radius = 5\n",
    "last_circle = shu.Circle((0,0),radius)\n",
    "last_line = LineString([last_circle.centroid,shu.first(last_circle)])\n",
    "circles = [last_circle]\n",
    "points = [last_circle.centroid]\n",
    "for i in range(number_of_circles):\n",
    "    last_circle = sh.affinity.rotate(last_circle,golden_angle*i)\n",
    "    a = shu.first(last_circle)\n",
    "    half_line = LineString([a,last_circle.centroid])\n",
    "    b = follow_line(half_line,half_line.length*2)\n",
    "    new_line = LineString([a,b])\n",
    "    # new_line = sh.affinity.rotate(new_line, golden_angle,  )\n",
    "    # points.append(new_line)\n",
    "    random_distance = 0.35 #random.random()\n",
    "    sliced_line = shu.sliceLine(new_line, 0.5, 1)\n",
    "    random_point = shu.interpolateTotal(sliced_line,random_distance)\n",
    "    points.append(random_point)\n",
    "    radius = 0.5*new_line.length+random_distance*sliced_line.length\n",
    "    new_circle = shu.Circle(random_point, radius)\n",
    "    circles.append(new_circle)\n",
    "    last_circle = new_circle\n",
    "rose = shu.printg(*(circles))\n"
   ]
  },
  {
   "cell_type": "code",
   "execution_count": 11,
   "metadata": {},
   "outputs": [],
   "source": [
    "aw = pu.DotMap()\n",
    "aw.rose = rose"
   ]
  },
  {
   "cell_type": "code",
   "execution_count": 13,
   "metadata": {},
   "outputs": [],
   "source": [
    "def get_tolerance(line, point):\n",
    "    for tolerance in np.arange(0,20,0.1):\n",
    "        if line.buffer(i).intersects(point):\n",
    "            return tolerance\n",
    "    "
   ]
  },
  {
   "cell_type": "code",
   "execution_count": null,
   "metadata": {},
   "outputs": [],
   "source": []
  },
  {
   "cell_type": "code",
   "execution_count": null,
   "metadata": {},
   "outputs": [],
   "source": [
    "shu.coords(shu.segmentize(LineString([[0,0],[1,1]]),10))"
   ]
  },
  {
   "cell_type": "code",
   "execution_count": 15,
   "metadata": {},
   "outputs": [],
   "source": [
    "def filter_tangent_condition(ref, condition = lambda x,y:True, segmentize=None):\n",
    "    if not segmentize is None:\n",
    "        ref = ref.segmentize(segmentize)\n",
    "    points = [sh.Point(c) for c in shu.coords(ref)]\n",
    "    slopes = [((second.y-first.y),(second.x-first.x)) for first, second in pu.iter_two(points)]\n",
    "    filter_slope = condition\n",
    "    slope_index_selected = []\n",
    "    is_currently_ok = False\n",
    "    starting_point = None\n",
    "    for i,x_y in enumerate(slopes):\n",
    "        x,y=x_y\n",
    "        is_i_ok = filter_slope(x,y)\n",
    "        if (is_i_ok):\n",
    "            if (is_currently_ok):\n",
    "                pass\n",
    "            else:\n",
    "                starting_point = i\n",
    "                is_currently_ok = True\n",
    "        elif (is_currently_ok):\n",
    "            slope_index_selected.append((starting_point, i))\n",
    "            starting_point = None\n",
    "            is_currently_ok = False\n",
    "        else:\n",
    "            pass\n",
    "    if is_currently_ok:\n",
    "        slope_index_selected.append((starting_point, i))\n",
    "    from shapely.ops import split\n",
    "    # snapped_points = [sh.snap(p, ref, tolerance) for p in points]\n",
    "    geos_ok = []\n",
    "    for i,j in slope_index_selected:\n",
    "        splitted = split(ref, sh.MultiPoint([points[i],points[j]])).geoms\n",
    "        if len(splitted)==1:\n",
    "            print('splitting none')\n",
    "        if len(splitted)!=3:\n",
    "            print('error!')\n",
    "        else:\n",
    "            geo_ok = splitted[1]\n",
    "            geos_ok.append(geo_ok)\n",
    "    return MultiLineString(geos_ok)"
   ]
  },
  {
   "cell_type": "code",
   "execution_count": 19,
   "metadata": {},
   "outputs": [],
   "source": [
    "# filter_tangent_condition(circles[0], condition = lambda x,y:x-y>0)"
   ]
  },
  {
   "cell_type": "code",
   "execution_count": 20,
   "metadata": {},
   "outputs": [],
   "source": [
    "def sliceLineLength(g, startLength, endLength=1):\n",
    "    start_p = g.interpolate(startLength)\n",
    "    end_p = g.interpolate(endLength)\n",
    "    return LineString([start_p, end_p])"
   ]
  },
  {
   "cell_type": "code",
   "execution_count": null,
   "metadata": {},
   "outputs": [],
   "source": [
    "new_geo = []\n",
    "for circle in circles:\n",
    "    circle2 = filter_tangent_condition(circle, condition = lambda x,y:x-y>0, )\n",
    "    new_geo.append(circle2)\n",
    "    # circle2_merge = sh.line_merge(circle2)\n",
    "    # circle2_merge = circle2_merge.segmentize(3)\n",
    "    # lines = [sliceLineLength(LineString([c, aw.rose.centroid]), 0,0.1) for c in shu.coords(circle2_merge)]\n",
    "    # new_geo.append(GeometryCollection(lines))"
   ]
  },
  {
   "cell_type": "code",
   "execution_count": 202,
   "metadata": {},
   "outputs": [],
   "source": []
  },
  {
   "cell_type": "code",
   "execution_count": null,
   "metadata": {},
   "outputs": [],
   "source": [
    "geo_shadow = shu.printg(*new_geo)\n",
    "\n",
    "aw.shadow = geo_shadow"
   ]
  },
  {
   "cell_type": "code",
   "execution_count": null,
   "metadata": {},
   "outputs": [],
   "source": [
    "pu.reload(cu)"
   ]
  },
  {
   "cell_type": "code",
   "execution_count": 48,
   "metadata": {},
   "outputs": [],
   "source": [
    "colored = {\n",
    "    # 'shadow':\"black\",\n",
    "    'rose': 'red',\n",
    "    'background': 'green'\n",
    "}"
   ]
  },
  {
   "cell_type": "code",
   "execution_count": null,
   "metadata": {},
   "outputs": [],
   "source": [
    "list(aw.keys())"
   ]
  },
  {
   "cell_type": "code",
   "execution_count": 50,
   "metadata": {},
   "outputs": [],
   "source": [
    "cu.create_artwork(aw,colored, 0.2,0.1, 'svg')"
   ]
  },
  {
   "cell_type": "code",
   "execution_count": 51,
   "metadata": {},
   "outputs": [],
   "source": [
    "def start_at_0(geometry):\n",
    "    bounds = geometry.bounds\n",
    "    translate_x = abs(min(bounds[0],0))\n",
    "    translate_y = abs(min(bounds[1],0))\n",
    "    geometry_translated = sh.affinity.translate(geometry, translate_x,translate_y)\n",
    "    return geometry_translated"
   ]
  },
  {
   "cell_type": "code",
   "execution_count": 228,
   "metadata": {},
   "outputs": [],
   "source": [
    "def resize(geo, new_size, maintain_proportion=True,):\n",
    "    w,h = shu.size(geo)\n",
    "    prop_w, prop_h = new_size[0]/w, new_size[1]/h\n",
    "    if prop_w>1 and prop_h<1 or prop_w<1 and prop_h>1:\n",
    "        print('cant')\n",
    "        return geo\n",
    "    if maintain_proportion:\n",
    "        if prop_w>1:\n",
    "            max_w_h = max(prop_w,prop_h)\n",
    "            prop_w = max_w_h\n",
    "            prop_h = max_w_h\n",
    "        if prop_w<1:\n",
    "            min_w_h = min(prop_w,prop_h)\n",
    "            prop_w = min_w_h\n",
    "            prop_h = min_w_h\n",
    "    return sh.affinity.scale(geo,prop_w,prop_h, )"
   ]
  },
  {
   "cell_type": "code",
   "execution_count": null,
   "metadata": {},
   "outputs": [],
   "source": [
    "def translate_all_layers()"
   ]
  },
  {
   "cell_type": "code",
   "execution_count": null,
   "metadata": {},
   "outputs": [],
   "source": [
    "def plot_grid(geo, padding, rows=1, cols=1):\n",
    "    padding_top,padding_right,padding_bottom,padding_left=padding\n",
    "    start_geo = sh.affinity.translate(geo, padding_top, padding_right)\n",
    "    current_x, current_y = (0,0)\n",
    "    for i in range(0,rows):\n",
    "        current_y += padding_top\n",
    "        for j in range(0,cols):\n",
    "            current_x += padding_right\n",
    "            geo\n",
    "            current_y += padding_left"
   ]
  },
  {
   "cell_type": "code",
   "execution_count": null,
   "metadata": {},
   "outputs": [],
   "source": [
    "def padding(geo,padding_top=0,padding_right=0,padding_bottom=0,padding_left=0):\n",
    "    return "
   ]
  },
  {
   "cell_type": "code",
   "execution_count": null,
   "metadata": {},
   "outputs": [],
   "source": [
    "resize(start_at_0(aw.rose), ).bounds"
   ]
  },
  {
   "cell_type": "code",
   "execution_count": null,
   "metadata": {},
   "outputs": [],
   "source": [
    "shu.size(resize(g,(1,1)))"
   ]
  },
  {
   "cell_type": "code",
   "execution_count": null,
   "metadata": {},
   "outputs": [],
   "source": [
    "sh.snap()"
   ]
  },
  {
   "cell_type": "code",
   "execution_count": null,
   "metadata": {},
   "outputs": [],
   "source": [
    "# def autotolerance(line,number_points):\n",
    "#     pass\n",
    "    "
   ]
  },
  {
   "cell_type": "code",
   "execution_count": null,
   "metadata": {},
   "outputs": [],
   "source": [
    "from shapely.ops import split\n",
    "\n",
    "# shu.printg(a,p.buffer(1))"
   ]
  },
  {
   "cell_type": "code",
   "execution_count": null,
   "metadata": {},
   "outputs": [],
   "source": [
    "slope_index_selected"
   ]
  },
  {
   "cell_type": "code",
   "execution_count": null,
   "metadata": {},
   "outputs": [],
   "source": [
    "a.segmentize()"
   ]
  },
  {
   "cell_type": "code",
   "execution_count": null,
   "metadata": {},
   "outputs": [],
   "source": [
    "shu.size(rose)"
   ]
  },
  {
   "cell_type": "code",
   "execution_count": null,
   "metadata": {},
   "outputs": [],
   "source": []
  }
 ],
 "metadata": {
  "kernelspec": {
   "display_name": "base",
   "language": "python",
   "name": "python3"
  },
  "language_info": {
   "codemirror_mode": {
    "name": "ipython",
    "version": 3
   },
   "file_extension": ".py",
   "mimetype": "text/x-python",
   "name": "python",
   "nbconvert_exporter": "python",
   "pygments_lexer": "ipython3",
   "version": "3.12.8"
  }
 },
 "nbformat": 4,
 "nbformat_minor": 2
}
