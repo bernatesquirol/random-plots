{
 "cells": [
  {
   "cell_type": "code",
   "execution_count": 1,
   "metadata": {},
   "outputs": [],
   "source": [
    "import utils, shapely_utils as shu, python_utils as pu\n",
    "import bezier\n",
    "import numpy as  np\n",
    "from shapely import LineString, MultiLineString, GeometryCollection\n",
    "import shapely as sh"
   ]
  },
  {
   "cell_type": "code",
   "execution_count": 2,
   "metadata": {},
   "outputs": [],
   "source": [
    "# imports\n",
    "from pathlib import Path, PurePath\n",
    "import sys"
   ]
  },
  {
   "cell_type": "code",
   "execution_count": 3,
   "metadata": {},
   "outputs": [],
   "source": [
    "\n",
    "def bball_net(radius,m=0.15,n=0.25,total_slices=12,len_straight=4, prop_h=0.5):\n",
    "    curve = bezier.Curve(np.asfortranarray(np.matrix([[0,0],[n/4,m],[n,prop_h*m]]).transpose()), degree=2)\n",
    "    line = LineString([[-n/3,-n/len_straight],[0,0]])\n",
    "    # return line\n",
    "    l = sh.line_merge(MultiLineString([line,shu.curve_to_ls(curve)]))\n",
    "    # return line\n",
    "    a,b,c,d = l.bounds\n",
    "    x_dist = c-a\n",
    "    y_dist = d-b\n",
    "    w_line,h_line = shu.size(line)\n",
    "    \n",
    "    p = sh.line_merge(MultiLineString([l,sh.affinity.translate(sh.affinity.scale(l, -1, 1),x_dist)]))\n",
    "    # return l\n",
    "    # return p\n",
    "    w,h = shu.size(p)\n",
    "    scale_prop = radius/w\n",
    "    p = sh.affinity.scale(p, scale_prop, scale_prop)\n",
    "    p2 = sh.affinity.translate(sh.affinity.scale(p, 1, -1),0,- h * scale_prop + h_line*scale_prop*2)\n",
    "    lip = GeometryCollection([p,p2])\n",
    "    # return lip\n",
    "    # return lip\n",
    "    # return lip\n",
    "    tots_lips = []\n",
    "    mergers_entre_lips = []\n",
    "    def getLines(last_line, new_line):\n",
    "        line = LineString([list(list(new_line.geoms)[1].coords)[0],list(list(last_line.geoms)[0].coords)[0]])\n",
    "        line2 = LineString([list(list(new_line.geoms)[0].coords)[-1],list(list(last_line.geoms)[1].coords)[-1]])\n",
    "        return [line, line2]\n",
    "    first_line = None\n",
    "    for i in range(int(total_slices/2)):\n",
    "        new_line = sh.affinity.rotate(lip, i*(360/total_slices))\n",
    "        if (i>0):\n",
    "            mergers_entre_lips += getLines(last_line, new_line)\n",
    "        else:\n",
    "            first_line = new_line\n",
    "        tots_lips.append(new_line)\n",
    "        last_line = new_line\n",
    "    # inverse\n",
    "    line = LineString([list(list(first_line.geoms)[1].coords)[0],list(list(last_line.geoms)[1].coords)[-1]])\n",
    "    line2 = LineString([list(list(first_line.geoms)[0].coords)[-1],list(list(last_line.geoms)[0].coords)[0]])\n",
    "    mergers_entre_lips += [line, line2]\n",
    "    # return tots_lips\n",
    "    # print(len(tots_lips))\n",
    "    # return [tots_lips,mergers_entre_lips]\n",
    "    return shu.StructuredCollection(lips=tots_lips, lips_mergers=mergers_entre_lips)"
   ]
  },
  {
   "cell_type": "code",
   "execution_count": 4,
   "metadata": {},
   "outputs": [],
   "source": [
    "pu.reload(shu)"
   ]
  },
  {
   "cell_type": "code",
   "execution_count": 5,
   "metadata": {},
   "outputs": [],
   "source": [
    "pu.reload(shu)"
   ]
  },
  {
   "cell_type": "code",
   "execution_count": null,
   "metadata": {},
   "outputs": [],
   "source": [
    "upB = bball_net(50, 0.15,0.25,10,3.7,0.85)\n",
    "upB.geo\n",
    "#si poso 10 tot palma"
   ]
  },
  {
   "cell_type": "code",
   "execution_count": 7,
   "metadata": {},
   "outputs": [],
   "source": [
    "upB = bball_net(50, 0.15,0.25,10,3.7,0.85)\n",
    "downB = bball_net(50, 0.15,0.25,10,3.7,0.85).translate(0,-100)\n",
    "# downB2 = bball_net(50, 0.15,0.25,12,3.7,0.85).translate(0,90)\n",
    "# shu.print([upB.geo, downB.geo])"
   ]
  },
  {
   "cell_type": "code",
   "execution_count": 9,
   "metadata": {},
   "outputs": [],
   "source": [
    "# shu.get_quadrant(shu.first(l2),shu.last(l2))"
   ]
  },
  {
   "cell_type": "code",
   "execution_count": 10,
   "metadata": {},
   "outputs": [],
   "source": [
    "# shu.last(l2)"
   ]
  },
  {
   "cell_type": "code",
   "execution_count": 11,
   "metadata": {},
   "outputs": [],
   "source": [
    "pu.reload(shu)"
   ]
  },
  {
   "cell_type": "code",
   "execution_count": null,
   "metadata": {},
   "outputs": [],
   "source": [
    "# shu.spring(l2,3,1,0.8)"
   ]
  },
  {
   "cell_type": "code",
   "execution_count": 14,
   "metadata": {},
   "outputs": [],
   "source": [
    "top_mergers = 5\n",
    "top_mergers_up = shu.reorder_geos(upB['lips_mergers'], \"S\", top_mergers)\n",
    "top_mergers_down = shu.reorder_geos(downB['lips_mergers'], \"N\", top_mergers)\n",
    "springs_top = []\n",
    "springs_bottom = []\n",
    "for i in range(top_mergers):\n",
    "    l1 = top_mergers_up.geoms[i]\n",
    "    spring_l1 = shu.spring(l1,3,1,0.8)\n",
    "    springs_top.append(spring_l1)\n",
    "    l2 = top_mergers_down.geoms[i]\n",
    "    spring_l2 = shu.spring(l2,3,1,0.8)\n",
    "    springs_bottom.append(spring_l2)"
   ]
  },
  {
   "cell_type": "code",
   "execution_count": 15,
   "metadata": {},
   "outputs": [],
   "source": [
    "# l1"
   ]
  },
  {
   "cell_type": "code",
   "execution_count": 16,
   "metadata": {},
   "outputs": [],
   "source": [
    "# shu.print([reorder_geos(upB['lips_mergers'], \"E\", 6),top_mergers_down])"
   ]
  },
  {
   "cell_type": "code",
   "execution_count": 17,
   "metadata": {},
   "outputs": [],
   "source": [
    "# i = 0\n",
    "# flow_total = []\n",
    "# while (len(springs_bottom)>0 or len(springs_top)>0):\n",
    "#     list_to_pick = springs_top\n",
    "#     if i%2==1:\n",
    "#         list_to_pick = springs_bottom\n",
    "#     item = list_to_pick.pop()\n",
    "#     flow_total.append(item)\n",
    "#     i+=1"
   ]
  },
  {
   "cell_type": "code",
   "execution_count": null,
   "metadata": {},
   "outputs": [],
   "source": []
  },
  {
   "cell_type": "code",
   "execution_count": 18,
   "metadata": {},
   "outputs": [],
   "source": [
    "# last = None\n",
    "# first_item = None\n",
    "# guides = []\n",
    "# for i,springs in enumerate(shu.iter_two(flow_total)):\n",
    "#     s1, s2 = springs\n",
    "#     if (not last is None):\n",
    "#         guides.append(LineString([last, shu.first(s1)]))\n",
    "#     guides.append(LineString([shu.last(s1), shu.first(s2)]))\n",
    "#     last = shu.last(s2)\n",
    "# last = None\n",
    "first_item = None\n",
    "guides = []\n",
    "reorder_g = shu.reorder_geos(springs_top, \"E\")\n",
    "for i,springs in enumerate(zip(shu.reorder_geos(springs_top, \"E\"), shu.reorder_geos(springs_bottom, \"E\"))):\n",
    "    s1, s2 = springs\n",
    "    # if (not last is None):\n",
    "    guides.append(LineString([shu.first(s1), shu.last(s2)]))\n",
    "    guides.append(LineString([shu.last(s1), shu.first(s2)]))\n",
    "    # last = shu.last(s2)"
   ]
  },
  {
   "cell_type": "code",
   "execution_count": 19,
   "metadata": {},
   "outputs": [],
   "source": [
    "springs_lip_merger = GeometryCollection([shu.spring(l,3,None,0.6) for l in shu.geoms(upB['lips_mergers'])])\n",
    "# sh.affinity.scale(shu.print([springs_lip_merger, upB['lips_mergers']]),500,500)\n",
    "# springs_lip_merger"
   ]
  },
  {
   "cell_type": "code",
   "execution_count": null,
   "metadata": {},
   "outputs": [],
   "source": [
    "def deform_lines(lines, point, force, a):\n",
    "    shu.curved_path(lines,shu.last(l1), c1, 1)"
   ]
  },
  {
   "cell_type": "code",
   "execution_count": null,
   "metadata": {},
   "outputs": [],
   "source": [
    "l = guides[0]\n",
    "point = GeometryCollection(guides).centroid\n",
    "l,point"
   ]
  },
  {
   "cell_type": "code",
   "execution_count": null,
   "metadata": {},
   "outputs": [],
   "source": []
  },
  {
   "cell_type": "code",
   "execution_count": 21,
   "metadata": {},
   "outputs": [],
   "source": [
    "# line = LineString([(0,1),(9,3)])\n",
    "# shu.spring(line, 3,None,0.8)\n",
    "# shu.print([shu.spring(line, 3, None,0.8)])"
   ]
  },
  {
   "cell_type": "code",
   "execution_count": 22,
   "metadata": {},
   "outputs": [],
   "source": [
    "# x_off,y_off = line.bounds\n"
   ]
  },
  {
   "cell_type": "code",
   "execution_count": 25,
   "metadata": {},
   "outputs": [],
   "source": [
    "\n"
   ]
  },
  {
   "cell_type": "code",
   "execution_count": null,
   "metadata": {},
   "outputs": [],
   "source": [
    "# chunk_list([1,2,3,4,5])\n"
   ]
  },
  {
   "cell_type": "code",
   "execution_count": 88,
   "metadata": {},
   "outputs": [],
   "source": [
    "pu.reload(shu)"
   ]
  },
  {
   "cell_type": "code",
   "execution_count": 94,
   "metadata": {},
   "outputs": [],
   "source": []
  },
  {
   "cell_type": "code",
   "execution_count": 120,
   "metadata": {},
   "outputs": [],
   "source": []
  },
  {
   "cell_type": "code",
   "execution_count": null,
   "metadata": {},
   "outputs": [],
   "source": [
    "import random\n",
    "random.seed(10)\n",
    "curves = []\n",
    "right_lines = []\n",
    "for j,g in enumerate(pu.chunk_list(guides,2)):\n",
    "    guide = g[1]\n",
    "    if g[0].length>g[1].length:\n",
    "        guide = g[0]\n",
    "    segments = [LineString(l) for l in shu.iter_two(shu.coords(shu.segmentize(guide, 5)))]\n",
    "    initial_coords = [shu.first(g[0]),shu.first(g[1])]\n",
    "    last = None\n",
    "    last_coords = [shu.last(g[0]),shu.last(g[1])]\n",
    "    for i in range(len(segments)):\n",
    "        segment = segments[i]\n",
    "        total = 2+random.random()*1\n",
    "        if (i==0):\n",
    "            initial_coords = shu.reorder_geos([sh.Point(v) for v in initial_coords], \"O\")\n",
    "            curves_el = shu.create_ellipse(initial_coords[0], shu.last(segment), total, initial_coords[1])\n",
    "            curves += curves_el\n",
    "            last = shu.last(segment)\n",
    "        elif (i==len(segments)-1):\n",
    "            last_coords = shu.reorder_geos([sh.Point(v) for v in last_coords], \"E\")\n",
    "            curves_el = shu.create_ellipse(last_coords[0], shu.first(segment), total, last_coords[1])\n",
    "            curves += curves_el\n",
    "        else:\n",
    "            curves_el = shu.create_ellipse(last, shu.last(segment), total)\n",
    "            curves += curves_el\n",
    "            last = shu.last(segment)\n",
    "        lines_in_between = 5\n",
    "        curv1, curv2 = curves[-2],curves[-1]\n",
    "        points_in_curv1 = shu.distribute_points(curv1,lines_in_between)\n",
    "        points_in_curv2 = shu.distribute_points(curv2,lines_in_between)\n",
    "        for i in range(lines_in_between):\n",
    "            right_lines.append(LineString([points_in_curv1[i],points_in_curv2[i]]))\n",
    "    # for i in range(len(segments1)):\n",
    "    #     s1 = segments1[i]        \n",
    "    #     # pot = 1 if (j+i)%2==0 else -1\n",
    "    #     total = 2+random.random()*3\n",
    "    #     # total = 3\n",
    "    #     norm = shu.sum_point_vector(s1.centroid,shu.normal_vector(s1), total )\n",
    "    #     c = shu.last(norm)\n",
    "    #     # if (random.random()<0.75):\n",
    "    #     curv1 = shu.curved_path(shu.first(s1),shu.last(s1), c, 1)\n",
    "    #     curves.append(curv1)\n",
    "        \n",
    "    #     lines_in_between = 10\n",
    "    #     points_in_curv1 = distribute_points(curv1,lines_in_between)\n",
    "    #     points_in_curv2 = distribute_points(curv2,lines_in_between)\n",
    "    #     for i in range(lines_in_between):\n",
    "    #         right_lines.append(LineString([points_in_curv1[i],points_in_curv2[i]]))\n",
    "    # else:\n",
    "    #     curves.append(s)\n",
    "        \n",
    "        \n"
   ]
  },
  {
   "cell_type": "code",
   "execution_count": null,
   "metadata": {},
   "outputs": [],
   "source": [
    "upB"
   ]
  },
  {
   "cell_type": "code",
   "execution_count": null,
   "metadata": {},
   "outputs": [],
   "source": [
    "upB['lips']"
   ]
  },
  {
   "cell_type": "code",
   "execution_count": null,
   "metadata": {},
   "outputs": [],
   "source": [
    "sh.affinity.scale(shu.print(right_lines+list(upB['lips'].geoms)+list(downB['lips'].geoms)),500,500)"
   ]
  },
  {
   "cell_type": "code",
   "execution_count": null,
   "metadata": {},
   "outputs": [],
   "source": [
    "sh.affinity.scale(shu.print(right_lines+curves+springs_top+springs_bottom+list(upB.geo.geoms)+list(downB.geo.geoms)),500,500)"
   ]
  },
  {
   "cell_type": "code",
   "execution_count": null,
   "metadata": {},
   "outputs": [],
   "source": [
    "# 5->0\n",
    "# 4->0.5\n",
    "# 3->1\n",
    "# 2->0.5\n",
    "# 1->0"
   ]
  },
  {
   "cell_type": "code",
   "execution_count": 133,
   "metadata": {},
   "outputs": [],
   "source": [
    "def create_symmetrical_force(max_value_at=2, max_index=4,min_index=0):\n",
    "    total_index = max_index-min_index\n",
    "    def force(i):\n",
    "        return 1-abs(max_value_at-i)/max_value_at\n",
    "        \n",
    "    return force"
   ]
  },
  {
   "cell_type": "code",
   "execution_count": null,
   "metadata": {},
   "outputs": [],
   "source": [
    "force = create_symmetrical_force()\n",
    "[force(i) for i in range(5)]"
   ]
  },
  {
   "cell_type": "code",
   "execution_count": null,
   "metadata": {},
   "outputs": [],
   "source": [
    "shu.print([segments[0], ])"
   ]
  },
  {
   "cell_type": "code",
   "execution_count": null,
   "metadata": {},
   "outputs": [],
   "source": [
    "print(p.one(0))"
   ]
  },
  {
   "cell_type": "code",
   "execution_count": 121,
   "metadata": {},
   "outputs": [],
   "source": [
    "def wiggleLine(line):\n",
    "    line"
   ]
  },
  {
   "cell_type": "code",
   "execution_count": null,
   "metadata": {},
   "outputs": [],
   "source": [
    "from shapely.geometry import Point\n",
    "import matplotlib.pyplot as plt\n",
    "\n",
    "a = (0, 0)\n",
    "b = (10, 0)\n",
    "c = (9.5, 5)\n",
    "\n",
    "line = shu.curved_path(a, b, c, curvature=1)\n",
    "shu.print([line,Point(a),Point(b),Point(c)])"
   ]
  },
  {
   "cell_type": "code",
   "execution_count": null,
   "metadata": {},
   "outputs": [],
   "source": [
    "shu.join(upB,sh.affinity.translate(upB, 0, d*1.5))"
   ]
  },
  {
   "cell_type": "code",
   "execution_count": null,
   "metadata": {},
   "outputs": [],
   "source": [
    "GeometryCollection([shu.Cirºcle(upB.centroid, d/2)]+list(upB_half.geoms))"
   ]
  },
  {
   "cell_type": "code",
   "execution_count": null,
   "metadata": {},
   "outputs": [],
   "source": [
    "\n",
    "square = sh.affinity.translate(shu.Rect(upB.centroid,d/2,d/2).union(shu.Rect(upB.centroid,-d/2,d/2)),0,-d/2)\n",
    "upB_half = shu.intersection_collection(upB, square)\n",
    "downB = upB.copy()\n",
    "square2 = sh.affinity.translate(shu.Rect(downB.centroid,d/2,d/2).union(shu.Rect(downB.centroid,-d/2,d/2)),0,0)\n",
    "downB_half = shu.intersection_collection(downB, square2)\n",
    "# crec k vull fer que totes les geometries .rotate .translate .affine_transform existeixin\n",
    "bottom = sh.affinity.translate(downB_half, 0, -shu.size(downB_half)[1]*3)\n",
    "GeometryCollection([bottom, upB_half])\n",
    "all_lines = []\n",
    "for i,ls in enumerate(bottom.geoms):\n",
    "    print(upB_half.geoms)\n",
    "    # print(upB_half.geoms[i].coords[0],ls[0])"
   ]
  },
  {
   "cell_type": "code",
   "execution_count": null,
   "metadata": {},
   "outputs": [],
   "source": []
  },
  {
   "cell_type": "code",
   "execution_count": null,
   "metadata": {},
   "outputs": [],
   "source": []
  },
  {
   "cell_type": "code",
   "execution_count": 16,
   "metadata": {},
   "outputs": [],
   "source": [
    "v = LineString([[1,0],[1,2]])\n",
    "hs = [{\"line\": LineString([[0,(0.5+i)*v.length/5],[2,(0.5+i)*v.length/5]]), \"orientation\": ((i%2==0)*2)-1} for i in range(5)]"
   ]
  },
  {
   "cell_type": "code",
   "execution_count": null,
   "metadata": {},
   "outputs": [],
   "source": [
    "for h in hs:\n",
    "    intersection = h['line'].intersection(v)\n",
    "    h['intersection'] = intersection\n",
    "hs.sort(key=lambda a: sh.distance(a['intersection'],v.boundary.geoms[0]))\n",
    "hs"
   ]
  },
  {
   "cell_type": "code",
   "execution_count": null,
   "metadata": {},
   "outputs": [],
   "source": [
    "\n",
    "import numpy as np\n",
    "current_inline = v.boundary.geoms[0]\n",
    "curves = []\n",
    "intensity = 0.5\n",
    "for i,h in enumerate(hs):\n",
    "    if (len(hs)>i+1):\n",
    "        print(h['intersection'],hs[i+1]['intersection'])\n",
    "        next_inline = LineString([h['intersection'],hs[i+1]['intersection']]).centroid\n",
    "    else:\n",
    "        next_inline = v.boundary.geoms[1]\n",
    "    line = h['line']\n",
    "    point = h['intersection']\n",
    "\n",
    "    middle_node = shu.move_point_along_line(point, line, intensity*h['orientation'])\n",
    "    \n",
    "    nodes = [list(a) for a in [current_inline.coords[0], middle_node.coords[0], next_inline.coords[0]]]\n",
    "    # print(nodes)\n",
    "    # sino transposes es pensa que ed 3d bezier\n",
    "    curve = bezier.Curve.from_nodes(np.asfortranarray(np.transpose(nodes)))\n",
    "    # enllaçar curves?\n",
    "    curves.append(curve)\n",
    "    current_inline = next_inline"
   ]
  },
  {
   "cell_type": "code",
   "execution_count": null,
   "metadata": {},
   "outputs": [],
   "source": [
    "MultiLineString([shu.curve_to_ls(c) for c in curves]+[v]+[h['line'] for h in hs])"
   ]
  },
  {
   "cell_type": "code",
   "execution_count": null,
   "metadata": {},
   "outputs": [],
   "source": []
  },
  {
   "cell_type": "code",
   "execution_count": null,
   "metadata": {},
   "outputs": [],
   "source": []
  }
 ],
 "metadata": {
  "kernelspec": {
   "display_name": "base",
   "language": "python",
   "name": "python3"
  },
  "language_info": {
   "codemirror_mode": {
    "name": "ipython",
    "version": 3
   },
   "file_extension": ".py",
   "mimetype": "text/x-python",
   "name": "python",
   "nbconvert_exporter": "python",
   "pygments_lexer": "ipython3",
   "version": "3.10.13"
  }
 },
 "nbformat": 4,
 "nbformat_minor": 2
}
