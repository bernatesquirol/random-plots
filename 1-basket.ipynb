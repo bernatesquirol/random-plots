{
 "cells": [
  {
   "cell_type": "code",
   "execution_count": null,
   "metadata": {},
   "outputs": [],
   "source": [
    "import utils, shapely_utils as shu, python_utils as pu\n",
    "import bezier\n",
    "import numpy as  np\n",
    "from shapely import LineString, MultiLineString, GeometryCollection\n",
    "import shapely as sh"
   ]
  },
  {
   "cell_type": "code",
   "execution_count": 7,
   "metadata": {},
   "outputs": [],
   "source": [
    "# imports\n",
    "from pathlib import Path, PurePath\n",
    "import sys"
   ]
  },
  {
   "cell_type": "code",
   "execution_count": 8,
   "metadata": {},
   "outputs": [],
   "source": [
    "\n",
    "def bball_net(radius,m=0.15,n=0.25,total_slices=12,len_straight=4, prop_h=0.5):\n",
    "    curve = bezier.Curve(np.asfortranarray(np.matrix([[0,0],[n/4,m],[n,prop_h*m]]).transpose()), degree=2)\n",
    "    line = LineString([[-n/3,-n/len_straight],[0,0]])\n",
    "    # return line\n",
    "    l = sh.line_merge(MultiLineString([line,shu.curve_to_ls(curve)]))\n",
    "    # return line\n",
    "    a,b,c,d = l.bounds\n",
    "    x_dist = c-a\n",
    "    y_dist = d-b\n",
    "    w_line,h_line = shu.size(line)\n",
    "    \n",
    "    p = sh.line_merge(MultiLineString([l,sh.affinity.translate(sh.affinity.scale(l, -1, 1),x_dist)]))\n",
    "    # return l\n",
    "    # return p\n",
    "    w,h = shu.size(p)\n",
    "    scale_prop = radius/w\n",
    "    p = sh.affinity.scale(p, scale_prop, scale_prop)\n",
    "    p2 = sh.affinity.translate(sh.affinity.scale(p, 1, -1),0,- h * scale_prop + h_line*scale_prop*2)\n",
    "    lip = GeometryCollection([p,p2])\n",
    "    # return lip\n",
    "    # return lip\n",
    "    # return lip\n",
    "    tots_lips = []\n",
    "    mergers_entre_lips = []\n",
    "    def getLines(last_line, new_line):\n",
    "        line = LineString([list(list(new_line.geoms)[1].coords)[0],list(list(last_line.geoms)[0].coords)[0]])\n",
    "        line2 = LineString([list(list(new_line.geoms)[0].coords)[-1],list(list(last_line.geoms)[1].coords)[-1]])\n",
    "        return [line, line2]\n",
    "    first_line = None\n",
    "    for i in range(int(total_slices/2)):\n",
    "        new_line = sh.affinity.rotate(lip, i*(360/total_slices))\n",
    "        if (i>0):\n",
    "            mergers_entre_lips += getLines(last_line, new_line)\n",
    "        else:\n",
    "            first_line = new_line\n",
    "        tots_lips.append(new_line)\n",
    "        last_line = new_line\n",
    "    # inverse\n",
    "    line = LineString([list(list(first_line.geoms)[1].coords)[0],list(list(last_line.geoms)[1].coords)[-1]])\n",
    "    line2 = LineString([list(list(first_line.geoms)[0].coords)[-1],list(list(last_line.geoms)[0].coords)[0]])\n",
    "    mergers_entre_lips += [line, line2]\n",
    "    # return tots_lips\n",
    "    # print(len(tots_lips))\n",
    "    # return [tots_lips,mergers_entre_lips]\n",
    "    return shu.StructuredCollection(lips=tots_lips, lips_mergers=mergers_entre_lips)"
   ]
  },
  {
   "cell_type": "code",
   "execution_count": null,
   "metadata": {},
   "outputs": [],
   "source": [
    "pu.reload(shu)"
   ]
  },
  {
   "cell_type": "code",
   "execution_count": 18,
   "metadata": {},
   "outputs": [],
   "source": [
    "pu.reload(shu)"
   ]
  },
  {
   "cell_type": "code",
   "execution_count": 15,
   "metadata": {},
   "outputs": [],
   "source": [
    "upB = bball_net(50, 0.15,0.25,12,3.7,0.85)\n",
    "downB = bball_net(50, 0.15,0.25,12,3.7,0.85).translate(0,-100)\n",
    "# downB2 = bball_net(50, 0.15,0.25,12,3.7,0.85).translate(0,90)\n",
    "# shu.print([upB.geo, downB.geo])"
   ]
  },
  {
   "cell_type": "code",
   "execution_count": 8,
   "metadata": {},
   "outputs": [],
   "source": []
  },
  {
   "cell_type": "code",
   "execution_count": null,
   "metadata": {},
   "outputs": [],
   "source": [
    "top_mergers = 6\n",
    "top_mergers_up = shu.reorder_geos(upB['lips_mergers'], \"S\", 6)\n",
    "top_mergers_down = shu.reorder_geos(downB['lips_mergers'], \"N\", 6)\n",
    "springs_top = []\n",
    "springs_bottom = []\n",
    "for i in range(top_mergers):\n",
    "    l1 = top_mergers_up.geoms[i]\n",
    "    spring_l1 = shu.spring(l1,3,1,0.8)\n",
    "    springs_top.append(spring_l1)\n",
    "    l2 = top_mergers_down.geoms[i]\n",
    "    spring_l2 = shu.spring(l2,3,1,0.8)\n",
    "    springs_bottom.append(spring_l2)"
   ]
  },
  {
   "cell_type": "code",
   "execution_count": 10,
   "metadata": {},
   "outputs": [],
   "source": [
    "# shu.print([reorder_geos(upB['lips_mergers'], \"E\", 6),top_mergers_down])"
   ]
  },
  {
   "cell_type": "code",
   "execution_count": 11,
   "metadata": {},
   "outputs": [],
   "source": [
    "# i = 0\n",
    "# flow_total = []\n",
    "# while (len(springs_bottom)>0 or len(springs_top)>0):\n",
    "#     list_to_pick = springs_top\n",
    "#     if i%2==1:\n",
    "#         list_to_pick = springs_bottom\n",
    "#     item = list_to_pick.pop()\n",
    "#     flow_total.append(item)\n",
    "#     i+=1"
   ]
  },
  {
   "cell_type": "code",
   "execution_count": null,
   "metadata": {},
   "outputs": [],
   "source": []
  },
  {
   "cell_type": "code",
   "execution_count": 20,
   "metadata": {},
   "outputs": [],
   "source": [
    "# last = None\n",
    "# first_item = None\n",
    "# guides = []\n",
    "# for i,springs in enumerate(shu.iter_two(flow_total)):\n",
    "#     s1, s2 = springs\n",
    "#     if (not last is None):\n",
    "#         guides.append(LineString([last, shu.first(s1)]))\n",
    "#     guides.append(LineString([shu.last(s1), shu.first(s2)]))\n",
    "#     last = shu.last(s2)\n",
    "# last = None\n",
    "first_item = None\n",
    "guides = []\n",
    "reorder_g = shu.reorder_geos(springs_top, \"E\")\n",
    "for i,springs in enumerate(zip(shu.reorder_geos(springs_top, \"E\"), shu.reorder_geos(springs_bottom, \"E\"))):\n",
    "    s1, s2 = springs\n",
    "    # if (not last is None):\n",
    "    guides.append(LineString([shu.first(s1), shu.first(s2)]))\n",
    "    guides.append(LineString([shu.last(s1), shu.last(s2)]))\n",
    "    # last = shu.last(s2)"
   ]
  },
  {
   "cell_type": "code",
   "execution_count": null,
   "metadata": {},
   "outputs": [],
   "source": [
    "sh.affinity.scale(shu.print(guides),50,50)"
   ]
  },
  {
   "cell_type": "code",
   "execution_count": 126,
   "metadata": {},
   "outputs": [],
   "source": []
  },
  {
   "cell_type": "code",
   "execution_count": null,
   "metadata": {},
   "outputs": [],
   "source": []
  },
  {
   "cell_type": "code",
   "execution_count": null,
   "metadata": {},
   "outputs": [],
   "source": [
    "shu.print(guides)"
   ]
  },
  {
   "cell_type": "code",
   "execution_count": null,
   "metadata": {},
   "outputs": [],
   "source": [
    "spring_g = shu.spring(l,3,1,0.8)\n",
    "spring_g"
   ]
  },
  {
   "cell_type": "code",
   "execution_count": null,
   "metadata": {},
   "outputs": [],
   "source": [
    "springs_lip_merger = GeometryCollection([shu.spring(l,3,None,0.6) for l in shu.geoms(upB['lips_mergers'])])\n",
    "# sh.affinity.scale(shu.print([springs_lip_merger, upB['lips_mergers']]),500,500)\n",
    "# springs_lip_merger"
   ]
  },
  {
   "cell_type": "code",
   "execution_count": 24,
   "metadata": {},
   "outputs": [],
   "source": [
    "pu.reload(shu)"
   ]
  },
  {
   "cell_type": "code",
   "execution_count": null,
   "metadata": {},
   "outputs": [],
   "source": [
    "# line = LineString([(0,1),(9,3)])\n",
    "# shu.spring(line, 3,None,0.8)\n",
    "# shu.print([shu.spring(line, 3, None,0.8)])"
   ]
  },
  {
   "cell_type": "code",
   "execution_count": 27,
   "metadata": {},
   "outputs": [],
   "source": [
    "# x_off,y_off = line.bounds\n"
   ]
  },
  {
   "cell_type": "code",
   "execution_count": 53,
   "metadata": {},
   "outputs": [],
   "source": [
    "# num_loops = 9\n",
    "# line = LineString([(0,0),(25,0)])\n",
    "# radius = line.length/(num_loops+2)\n",
    "# # radius = 0.25*num_loops\n",
    "# all_circles = []\n",
    "# for i in range(num_loops):\n",
    "#     circle = shu.Circle((radius*(i+1),0), radius)\n",
    "#     all_circles.append(circle)\n",
    "# springs = []\n",
    "# for c1, c2 in shu.iter_two(all_circles):\n",
    "#     springs.append(createSpring(c1, c2))\n",
    "pu.reload(shu)"
   ]
  },
  {
   "cell_type": "code",
   "execution_count": null,
   "metadata": {},
   "outputs": [],
   "source": [
    "shu.print([g.centroid for g in shu.coords(guides[1].segmentize(5))])"
   ]
  },
  {
   "cell_type": "code",
   "execution_count": 41,
   "metadata": {},
   "outputs": [],
   "source": []
  },
  {
   "cell_type": "code",
   "execution_count": null,
   "metadata": {},
   "outputs": [],
   "source": [
    "# guides"
   ]
  },
  {
   "cell_type": "code",
   "execution_count": 61,
   "metadata": {},
   "outputs": [],
   "source": [
    "pu.reload(shu)"
   ]
  },
  {
   "cell_type": "code",
   "execution_count": null,
   "metadata": {},
   "outputs": [],
   "source": [
    "# print(p_noise.one(2))\n",
    "segments = [LineString(l) for l in shu.iter_two(shu.coords(guides[1].segmentize(10)))]\n",
    "import random\n",
    "random.seed(10)\n",
    "curves = []\n",
    "for s in segments:\n",
    "    norm = shu.sum_point_vector(s.centroid,shu.normal_vector(s), random.random()*10-5)\n",
    "    c = shu.last(norm)\n",
    "    curv = shu.curved_path(shu.first(s),shu.last(s), c,0)\n",
    "    curves.append(curv)\n"
   ]
  },
  {
   "cell_type": "code",
   "execution_count": null,
   "metadata": {},
   "outputs": [],
   "source": [
    "curves"
   ]
  },
  {
   "cell_type": "code",
   "execution_count": null,
   "metadata": {},
   "outputs": [],
   "source": [
    "sh.line_merge(curves)"
   ]
  },
  {
   "cell_type": "code",
   "execution_count": null,
   "metadata": {},
   "outputs": [],
   "source": [
    "shu.print([segments[0], ])"
   ]
  },
  {
   "cell_type": "code",
   "execution_count": null,
   "metadata": {},
   "outputs": [],
   "source": [
    "print(p.one(0))"
   ]
  },
  {
   "cell_type": "code",
   "execution_count": 121,
   "metadata": {},
   "outputs": [],
   "source": [
    "def wiggleLine(line):\n",
    "    line"
   ]
  },
  {
   "cell_type": "code",
   "execution_count": null,
   "metadata": {},
   "outputs": [],
   "source": [
    "from shapely.geometry import Point\n",
    "import matplotlib.pyplot as plt\n",
    "\n",
    "a = (0, 0)\n",
    "b = (10, 0)\n",
    "c = (9.5, 5)\n",
    "\n",
    "line = shu.curved_path(a, b, c, curvature=1)\n",
    "shu.print([line,Point(a),Point(b),Point(c)])"
   ]
  },
  {
   "cell_type": "code",
   "execution_count": null,
   "metadata": {},
   "outputs": [],
   "source": [
    "shu.join(upB,sh.affinity.translate(upB, 0, d*1.5))"
   ]
  },
  {
   "cell_type": "code",
   "execution_count": null,
   "metadata": {},
   "outputs": [],
   "source": [
    "GeometryCollection([shu.Cirºcle(upB.centroid, d/2)]+list(upB_half.geoms))"
   ]
  },
  {
   "cell_type": "code",
   "execution_count": null,
   "metadata": {},
   "outputs": [],
   "source": [
    "\n",
    "square = sh.affinity.translate(shu.Rect(upB.centroid,d/2,d/2).union(shu.Rect(upB.centroid,-d/2,d/2)),0,-d/2)\n",
    "upB_half = shu.intersection_collection(upB, square)\n",
    "downB = upB.copy()\n",
    "square2 = sh.affinity.translate(shu.Rect(downB.centroid,d/2,d/2).union(shu.Rect(downB.centroid,-d/2,d/2)),0,0)\n",
    "downB_half = shu.intersection_collection(downB, square2)\n",
    "# crec k vull fer que totes les geometries .rotate .translate .affine_transform existeixin\n",
    "bottom = sh.affinity.translate(downB_half, 0, -shu.size(downB_half)[1]*3)\n",
    "GeometryCollection([bottom, upB_half])\n",
    "all_lines = []\n",
    "for i,ls in enumerate(bottom.geoms):\n",
    "    print(upB_half.geoms)\n",
    "    # print(upB_half.geoms[i].coords[0],ls[0])"
   ]
  },
  {
   "cell_type": "code",
   "execution_count": null,
   "metadata": {},
   "outputs": [],
   "source": []
  },
  {
   "cell_type": "code",
   "execution_count": null,
   "metadata": {},
   "outputs": [],
   "source": []
  },
  {
   "cell_type": "code",
   "execution_count": 16,
   "metadata": {},
   "outputs": [],
   "source": [
    "v = LineString([[1,0],[1,2]])\n",
    "hs = [{\"line\": LineString([[0,(0.5+i)*v.length/5],[2,(0.5+i)*v.length/5]]), \"orientation\": ((i%2==0)*2)-1} for i in range(5)]"
   ]
  },
  {
   "cell_type": "code",
   "execution_count": null,
   "metadata": {},
   "outputs": [],
   "source": [
    "for h in hs:\n",
    "    intersection = h['line'].intersection(v)\n",
    "    h['intersection'] = intersection\n",
    "hs.sort(key=lambda a: sh.distance(a['intersection'],v.boundary.geoms[0]))\n",
    "hs"
   ]
  },
  {
   "cell_type": "code",
   "execution_count": null,
   "metadata": {},
   "outputs": [],
   "source": [
    "\n",
    "import numpy as np\n",
    "current_inline = v.boundary.geoms[0]\n",
    "curves = []\n",
    "intensity = 0.5\n",
    "for i,h in enumerate(hs):\n",
    "    if (len(hs)>i+1):\n",
    "        print(h['intersection'],hs[i+1]['intersection'])\n",
    "        next_inline = LineString([h['intersection'],hs[i+1]['intersection']]).centroid\n",
    "    else:\n",
    "        next_inline = v.boundary.geoms[1]\n",
    "    line = h['line']\n",
    "    point = h['intersection']\n",
    "\n",
    "    middle_node = shu.move_point_along_line(point, line, intensity*h['orientation'])\n",
    "    \n",
    "    nodes = [list(a) for a in [current_inline.coords[0], middle_node.coords[0], next_inline.coords[0]]]\n",
    "    # print(nodes)\n",
    "    # sino transposes es pensa que ed 3d bezier\n",
    "    curve = bezier.Curve.from_nodes(np.asfortranarray(np.transpose(nodes)))\n",
    "    # enllaçar curves?\n",
    "    curves.append(curve)\n",
    "    current_inline = next_inline"
   ]
  },
  {
   "cell_type": "code",
   "execution_count": null,
   "metadata": {},
   "outputs": [],
   "source": [
    "MultiLineString([shu.curve_to_ls(c) for c in curves]+[v]+[h['line'] for h in hs])"
   ]
  },
  {
   "cell_type": "code",
   "execution_count": null,
   "metadata": {},
   "outputs": [],
   "source": []
  },
  {
   "cell_type": "code",
   "execution_count": null,
   "metadata": {},
   "outputs": [],
   "source": []
  }
 ],
 "metadata": {
  "kernelspec": {
   "display_name": "base",
   "language": "python",
   "name": "python3"
  },
  "language_info": {
   "codemirror_mode": {
    "name": "ipython",
    "version": 3
   },
   "file_extension": ".py",
   "mimetype": "text/x-python",
   "name": "python",
   "nbconvert_exporter": "python",
   "pygments_lexer": "ipython3",
   "version": "3.12.8"
  }
 },
 "nbformat": 4,
 "nbformat_minor": 2
}
