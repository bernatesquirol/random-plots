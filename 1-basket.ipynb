{
 "cells": [
  {
   "cell_type": "code",
   "execution_count": 15,
   "metadata": {},
   "outputs": [],
   "source": [
    "import utils, shapely_utils as shu, python_utils as pu, cairo_utils as cu\n",
    "import bezier\n",
    "import numpy as  np\n",
    "from shapely import LineString, MultiLineString, GeometryCollection\n",
    "import shapely as sh\n"
   ]
  },
  {
   "cell_type": "code",
   "execution_count": 16,
   "metadata": {},
   "outputs": [],
   "source": [
    "# pip install scipy"
   ]
  },
  {
   "cell_type": "code",
   "execution_count": 17,
   "metadata": {},
   "outputs": [],
   "source": [
    "# imports\n",
    "from pathlib import Path, PurePath\n",
    "import sys"
   ]
  },
  {
   "cell_type": "code",
   "execution_count": null,
   "metadata": {},
   "outputs": [],
   "source": [
    "aw = pu.DotMap()"
   ]
  },
  {
   "cell_type": "code",
   "execution_count": 19,
   "metadata": {},
   "outputs": [],
   "source": [
    "def bball_net(radius,m=0.15,n=0.25,total_slices=12,len_straight=4, prop_h=0.5):\n",
    "    curve = bezier.Curve(np.asfortranarray(np.matrix([[0,0],[n/4,m],[n,prop_h*m]]).transpose()), degree=2)\n",
    "    line = LineString([[-n/3,-n/len_straight],[0,0]])\n",
    "    # return line\n",
    "    l = sh.line_merge(MultiLineString([line,shu.curve_to_ls(curve)]))\n",
    "    # return line\n",
    "    a,b,c,d = l.bounds\n",
    "    x_dist = c-a\n",
    "    y_dist = d-b\n",
    "    w_line,h_line = shu.size(line)\n",
    "    \n",
    "    p = sh.line_merge(MultiLineString([l,sh.affinity.translate(sh.affinity.scale(l, -1, 1),x_dist)]))\n",
    "    # return l\n",
    "    # return p\n",
    "    w,h = shu.size(p)\n",
    "    scale_prop = radius/w\n",
    "    p = sh.affinity.scale(p, scale_prop, scale_prop)\n",
    "    p2 = sh.affinity.translate(sh.affinity.scale(p, 1, -1),0,- h * scale_prop + h_line*scale_prop*2)\n",
    "    lip = GeometryCollection([p,p2])\n",
    "    # return lip\n",
    "    # return lip\n",
    "    # return lip\n",
    "    tots_lips = []\n",
    "    mergers_entre_lips = []\n",
    "    def getLines(last_line, new_line):\n",
    "        line = LineString([list(list(new_line.geoms)[1].coords)[0],list(list(last_line.geoms)[0].coords)[0]])\n",
    "        line2 = LineString([list(list(new_line.geoms)[0].coords)[-1],list(list(last_line.geoms)[1].coords)[-1]])\n",
    "        return [line, line2]\n",
    "    first_line = None\n",
    "    for i in range(int(total_slices/2)):\n",
    "        new_line = sh.affinity.rotate(lip, i*(360/total_slices))\n",
    "        if (i>0):\n",
    "            mergers_entre_lips += getLines(last_line, new_line)\n",
    "        else:\n",
    "            first_line = new_line\n",
    "        tots_lips.append(new_line)\n",
    "        last_line = new_line\n",
    "    # inverse\n",
    "    line = LineString([list(list(first_line.geoms)[1].coords)[0],list(list(last_line.geoms)[1].coords)[-1]])\n",
    "    line2 = LineString([list(list(first_line.geoms)[0].coords)[-1],list(list(last_line.geoms)[0].coords)[0]])\n",
    "    mergers_entre_lips += [line, line2]\n",
    "    # return tots_lips\n",
    "    # print(len(tots_lips))\n",
    "    # return [tots_lips,mergers_entre_lips]\n",
    "    return shu.StructuredCollection(lips=tots_lips, lips_mergers=mergers_entre_lips)"
   ]
  },
  {
   "cell_type": "code",
   "execution_count": 20,
   "metadata": {},
   "outputs": [],
   "source": [
    "# pu.chunk_list"
   ]
  },
  {
   "cell_type": "code",
   "execution_count": 21,
   "metadata": {},
   "outputs": [],
   "source": [
    "# upB = bball_net(50, 0.15,0.25,10,3.7,0.85)\n",
    "# upB['lips_mergers']\n",
    "#si poso 10 tot palma"
   ]
  },
  {
   "cell_type": "code",
   "execution_count": 22,
   "metadata": {},
   "outputs": [],
   "source": [
    "# bball_net(50, 0.15,0.25,8,3.7,0.85).geo\n",
    "\n",
    "# aw.upper_bball"
   ]
  },
  {
   "cell_type": "code",
   "execution_count": null,
   "metadata": {},
   "outputs": [],
   "source": [
    "upB = bball_net(50, 0.15,0.25,10,3.7,0.85)\n",
    "downB = bball_net(50, 0.15,0.25,10,3.7,0.85).translate(0,-100)\n",
    "aw.upper_bball = upB.geo\n",
    "aw.lower_bball = downB.geo\n",
    "# downB2 = bball_net(50, 0.15,0.25,12,3.7,0.85).translate(0,90)\n",
    "# shu.printg([upB.geo, downB.geo])"
   ]
  },
  {
   "cell_type": "code",
   "execution_count": 24,
   "metadata": {},
   "outputs": [],
   "source": [
    "# SPRINGs\n",
    "# top_mergers = 5\n",
    "# top_mergers_up = shu.reorder_geos(upB['lips_mergers'], \"S\", top_mergers)\n",
    "# top_mergers_down = shu.reorder_geos(downB['lips_mergers'], \"N\", top_mergers)\n",
    "# springs_top = []\n",
    "# springs_bottom = []\n",
    "# for i in range(top_mergers):\n",
    "#     l1 = top_mergers_up.geoms[i]\n",
    "#     extra_first=2\n",
    "#     extra_last=2\n",
    "#     if not shu.in_axis(shu.first(l1),shu.last(l1)):\n",
    "#         if shu.get_quadrant(shu.first(l1),shu.last(l1))%2==0:\n",
    "#             extra_first=4\n",
    "#             extra_last=2\n",
    "#         else:\n",
    "#             extra_last=4\n",
    "#             extra_first=2\n",
    "#     spring_l1 = shu.spring(l1,3,1,0.8,True,extra_first,extra_last)\n",
    "#     springs_top.append(spring_l1)\n",
    "#     l2 = top_mergers_down.geoms[i]\n",
    "#     spring_l2 = shu.spring(l2,3,1,0.8,True,extra_first,extra_last)\n",
    "#     springs_bottom.append(spring_l2)"
   ]
  },
  {
   "cell_type": "code",
   "execution_count": null,
   "metadata": {},
   "outputs": [],
   "source": []
  },
  {
   "cell_type": "code",
   "execution_count": null,
   "metadata": {},
   "outputs": [],
   "source": [
    "# last = None\n",
    "# first_item = None\n",
    "# guides = []\n",
    "# for i,springs in enumerate(shu.iter_two(flow_total)):\n",
    "#     s1, s2 = springs\n",
    "#     if (not last is None):\n",
    "#         guides.append(LineString([last, shu.first(s1)]))\n",
    "#     guides.append(LineString([shu.last(s1), shu.first(s2)]))\n",
    "#     last = shu.last(s2)\n",
    "# last = None\n",
    "first_item = None\n",
    "guides = []\n",
    "top_mergers = 5\n",
    "top_mergers_up = shu.reorder_geos(shu.geoms(upB['lips_mergers']), \"S\", top_mergers)\n",
    "# estirals explotals TODO\n",
    "scale_factor = 2\n",
    "# top_mergers_up = [sh.affinity.scale(sh.affinity.translate(m,0,-6),scale_factor) for m in top_mergers_up]\n",
    "top_mergers_down = shu.reorder_geos(shu.geoms(downB['lips_mergers']), \"N\", top_mergers)\n",
    "# top_mergers_down = [sh.affinity.scale(sh.affinity.translate(m,0,6),scale_factor) for m in top_mergers_down]\n",
    "for i,springs in enumerate(zip(shu.reorder_geos(top_mergers_up, \"E\"), shu.reorder_geos(top_mergers_down, \"E\"))):\n",
    "    s1, s2 = springs\n",
    "    # if (not last is None):\n",
    "    guides.append(LineString([shu.first(s1), shu.last(s2)]))\n",
    "    guides.append(LineString([shu.last(s1), shu.first(s2)]))\n",
    "    # last = shu.last(s2)\n",
    "force_middle = 0.5\n",
    "force_second = 0.72\n",
    "field = [0,0,force_second, force_second,force_middle,force_middle,force_second, force_second,0,0]\n",
    "guides = [shu.deform_line(g, GeometryCollection(guides).centroid, 0.3+field[i]*0.2) for i,g in enumerate(guides)]"
   ]
  },
  {
   "cell_type": "code",
   "execution_count": null,
   "metadata": {},
   "outputs": [],
   "source": [
    "shu.printg(*guides)"
   ]
  },
  {
   "cell_type": "code",
   "execution_count": null,
   "metadata": {},
   "outputs": [],
   "source": [
    "shu.printg(*guides)"
   ]
  },
  {
   "cell_type": "code",
   "execution_count": 28,
   "metadata": {},
   "outputs": [],
   "source": [
    "# force_y = shu.create_peak_function(5)\n",
    "# [shu.gaussian_generator(x_max=2)(i)**0.08 for i in range(5)]"
   ]
  },
  {
   "cell_type": "code",
   "execution_count": 29,
   "metadata": {},
   "outputs": [],
   "source": [
    "import random\n",
    "random.seed(10)\n",
    "curves = []\n",
    "trenes = []\n",
    "# right_lines = []\n",
    "force_y = lambda x: shu.gaussian_generator(x_max=2)(i)**0.5\n",
    "for j,g in enumerate(pu.chunk_list(guides,2)):\n",
    "    trena = []\n",
    "    # print(i)\n",
    "    other_guide = g[0]\n",
    "    guide = g[1]\n",
    "    if g[0].length>g[1].length:\n",
    "        guide = g[0]\n",
    "        other_guide = g[1]\n",
    "    segments = shu.segmentize(guide, 5).geoms\n",
    "    other_segments = shu.segmentize(other_guide, 5).geoms\n",
    "    initial_coords = [shu.first(g[0]),shu.first(g[1])]\n",
    "    last = None\n",
    "    last_coords = [shu.last(g[0]),shu.last(g[1])]\n",
    "    # print(len(segments))\n",
    "    for i in range(len(segments)):\n",
    "        segment = segments[i]\n",
    "        other_segment = other_segments[i]\n",
    "        total = 2+force_y(j)*2\n",
    "        curves_el = None\n",
    "        \n",
    "        if (i==0):\n",
    "            initial_coords = shu.reorder_geos([sh.Point(v) for v in initial_coords], \"O\")\n",
    "            centroid_segments = LineString([shu.last(segment),shu.last(other_segment)]).centroid\n",
    "            curves_el = shu.create_ellipse(initial_coords[0],centroid_segments, total, initial_coords[1])\n",
    "            curves += curves_el\n",
    "            last = centroid_segments\n",
    "        elif (i==len(segments)-1):\n",
    "            centroid_segments = LineString([shu.first(segment),shu.first(other_segment)]).centroid\n",
    "            last_coords = shu.reorder_geos([sh.Point(v) for v in last_coords], \"E\")\n",
    "            curves_el = shu.create_ellipse(last_coords[0], centroid_segments, total, last_coords[1])\n",
    "            curves += curves_el\n",
    "        else:\n",
    "            centroid_segments = LineString([shu.last(segment),shu.last(other_segment)]).centroid\n",
    "            curves_el = shu.create_ellipse(last, centroid_segments, total)\n",
    "            curves += curves_el\n",
    "            last = centroid_segments\n",
    "        \n",
    "        lines_in_between = 5\n",
    "        # curv1, curv2 = curves[-2],curves[-1]\n",
    "        trena.append(curves_el)\n",
    "        # trena.append(curv2)\n",
    "        # points_in_curv1 = shu.distribute_points(curv1,lines_in_between)\n",
    "        # points_in_curv2 = shu.distribute_points(curv2,lines_in_between)\n",
    "        # for i in range(lines_in_between):\n",
    "        #     right_lines.append(LineString([points_in_curv1[i],points_in_curv2[i]]))\n",
    "    trenes.append(trena)\n",
    "    # for i in range(len(segments1)):\n",
    "    #     s1 = segments1[i]        \n",
    "    #     # pot = 1 if (j+i)%2==0 else -1\n",
    "    #     total = 2+random.random()*3\n",
    "    #     # total = 3\n",
    "    #     norm = shu.sum_point_vector(s1.centroid,shu.normal_vector(s1), total )\n",
    "    #     c = shu.last(norm)\n",
    "    #     # if (random.random()<0.75):\n",
    "    #     curv1 = shu.curved_path(shu.first(s1),shu.last(s1), c, 1)\n",
    "    #     curves.append(curv1)\n",
    "        \n",
    "    #     lines_in_between = 10\n",
    "    #     points_in_curv1 = distribute_points(curv1,lines_in_between)\n",
    "    #     points_in_curv2 = distribute_points(curv2,lines_in_between)\n",
    "    #     for i in range(lines_in_between):\n",
    "    #         right_lines.append(LineString([points_in_curv1[i],points_in_curv2[i]]))\n",
    "    # else:\n",
    "    #     curves.append(s)\n",
    "        \n",
    "        \n"
   ]
  },
  {
   "cell_type": "code",
   "execution_count": null,
   "metadata": {},
   "outputs": [],
   "source": [
    "shu.printg(*pu.flat(trenes),)\n",
    "# TODO la del mig esta torta!"
   ]
  },
  {
   "cell_type": "code",
   "execution_count": 312,
   "metadata": {},
   "outputs": [],
   "source": [
    "# trenes\n",
    "scale_factor_lines = 1.2"
   ]
  },
  {
   "cell_type": "code",
   "execution_count": 313,
   "metadata": {},
   "outputs": [],
   "source": [
    "translate_lines = 25"
   ]
  },
  {
   "cell_type": "code",
   "execution_count": 314,
   "metadata": {},
   "outputs": [],
   "source": [
    "up_line = sh.affinity.scale(LineString([shu.first(trenes[0][0][1]),shu.first(trenes[-1][0][0])]),scale_factor_lines,0)\n",
    "up_line = sh.affinity.translate(up_line,0,translate_lines)\n",
    "half_middle_upper = LineString([shu.first(trenes[2][0][1]),shu.first(trenes[2][0][0])])\n",
    "curved_up = shu.curved_path(shu.first(up_line),shu.last(up_line),half_middle_upper.centroid)\n",
    "# curved_up = sh.affinity.translate(curved_up, 0, -8)\n",
    "# shu.printg(*([up_line,half_middle_upper]+curves))"
   ]
  },
  {
   "cell_type": "code",
   "execution_count": null,
   "metadata": {},
   "outputs": [],
   "source": [
    "# sh.affinity.scale(curved_up, 1.2, 1.2)\n",
    "shu.printg(*pu.flat(trenes),up_line)"
   ]
  },
  {
   "cell_type": "code",
   "execution_count": null,
   "metadata": {},
   "outputs": [],
   "source": [
    "shu.gaussian_generator(x_max=2)(5)"
   ]
  },
  {
   "cell_type": "code",
   "execution_count": 317,
   "metadata": {},
   "outputs": [],
   "source": [
    "down_line = sh.affinity.scale(LineString([shu.first(trenes[0][-1][0]),shu.first(trenes[-1][-1][1])]),scale_factor_lines,0)\n",
    "down_line = sh.affinity.translate(down_line,0,-translate_lines)\n",
    "half_middle_down= LineString([shu.first(trenes[2][-1][0]),shu.first(trenes[2][-1][1])])\n",
    "# shu.printg(*([down_line,half_middle_down]+curves))\n",
    "curved_down = shu.curved_path(shu.first(down_line),shu.last(down_line),half_middle_down.centroid)\n",
    "# curved_down = sh.affinity.translate(curved_down, 0, 8)"
   ]
  },
  {
   "cell_type": "code",
   "execution_count": 318,
   "metadata": {},
   "outputs": [],
   "source": [
    "translate_distance = sh.distance(half_middle_down,half_middle_upper)"
   ]
  },
  {
   "cell_type": "code",
   "execution_count": null,
   "metadata": {},
   "outputs": [],
   "source": []
  },
  {
   "cell_type": "code",
   "execution_count": 319,
   "metadata": {},
   "outputs": [],
   "source": [
    "def segmentize_and_rotate(l, num_segments, scale_factor=0.8, max_angle=60, invert=False):\n",
    "    all_segments = []\n",
    "    next_scaled_2_shape = None\n",
    "    try:  \n",
    "        for a in shu.geoms(shu.segmentize(l,num_segments)):\n",
    "            \n",
    "                scale_each = scale_factor/2\n",
    "                if invert:\n",
    "                    scaled_1_shape = shu.sliceCurve(a, 0,scale_each)\n",
    "                    newLine = scaled_1_shape\n",
    "                    if not next_scaled_2_shape is None:\n",
    "                        newLine = shu.LineString((shu.coords(next_scaled_2_shape)+shu.coords(scaled_1_shape)))\n",
    "                        all_segments.append(newLine)\n",
    "                    else:\n",
    "                        all_segments.append(newLine)\n",
    "                    next_scaled_2_shape = shu.sliceCurve(a, 1-scale_each,1)\n",
    "                else:    \n",
    "                    # final_shape = sh.affinity.scale(a,scale_factor,scale_factor)\n",
    "                    scaled_shape = shu.sliceCurve(a, 0.5-scale_each,0.5+scale_each)\n",
    "                    final_shape = sh.affinity.rotate(scaled_shape,(random.random()-0.5)*(max_angle))\n",
    "                    all_segments.append(final_shape)\n",
    "    except:\n",
    "       pass\n",
    "    if invert:\n",
    "        all_segments.append(next_scaled_2_shape)\n",
    "    return shu.printg(*all_segments)"
   ]
  },
  {
   "cell_type": "code",
   "execution_count": 320,
   "metadata": {},
   "outputs": [],
   "source": [
    "# segmentize_and_rotate(curved_down,5,0.2,0,False)"
   ]
  },
  {
   "cell_type": "code",
   "execution_count": 321,
   "metadata": {},
   "outputs": [],
   "source": [
    "# segmentize_and_rotate(curved_down,5,0.2,0,True)"
   ]
  },
  {
   "cell_type": "code",
   "execution_count": 734,
   "metadata": {},
   "outputs": [],
   "source": []
  },
  {
   "cell_type": "code",
   "execution_count": null,
   "metadata": {},
   "outputs": [],
   "source": [
    "# list(force_iterator(shu.geoms(waves_up), force_lines, ))\n",
    "waves_up"
   ]
  },
  {
   "cell_type": "code",
   "execution_count": 393,
   "metadata": {},
   "outputs": [],
   "source": [
    "number_lines = 30\n",
    "waves_up = shu.printg(*shu.repeat_geometry_along_path(curved_up,sh.shortest_line(curved_up,curved_down),number_lines))\n",
    "waves_down = shu.printg(*shu.repeat_geometry_along_path(curved_down,sh.shortest_line(curved_up,curved_down),number_lines))\n",
    "# waves_up = sh.affinity.translate(waves_up,0,0.4)\n",
    "force_lines = shu.linear_generator(x_max=int(number_lines))\n",
    "waves_up = shu.printg(*[segmentize_and_rotate(u,10+30*f,0.8,0) for u,f in shu.force_iterator(shu.geoms(waves_up), force_lines)])\n",
    "waves_down = shu.printg(*[segmentize_and_rotate(u,10+30*f,0.8,0,) for u,f in shu.force_iterator(shu.geoms(waves_down)[::-1], force_lines)])"
   ]
  },
  {
   "cell_type": "code",
   "execution_count": 394,
   "metadata": {},
   "outputs": [],
   "source": [
    "waves_down = sh.affinity.translate(waves_down,0,-1)\n",
    "# waves_up"
   ]
  },
  {
   "cell_type": "code",
   "execution_count": 395,
   "metadata": {},
   "outputs": [],
   "source": [
    "all_polygons = []\n",
    "all_cs = []\n",
    "i = 0\n",
    "for t in trenes:\n",
    "    for cs in t:\n",
    "        c1,c2=cs\n",
    "        boundary = [c1.reverse(), c2]\n",
    "        all_cs.append(boundary)\n",
    "        polygon = sh.Polygon(shu.line_merge(boundary).buffer(0.1).exterior)\n",
    "        if not polygon.is_simple:\n",
    "            print('bad',i)\n",
    "            # break\n",
    "        all_polygons.append(polygon)\n",
    "        i+=1\n",
    "intersected_up = []\n",
    "for i,p in enumerate(all_polygons):\n",
    "    for line in shu.geoms(waves_up):\n",
    "      try:\n",
    "        intersection = sh.intersection(p, line)\n",
    "        if not intersection.is_empty:\n",
    "          intersected_up.append(intersection)\n",
    "        \n",
    "      except:\n",
    "        print('error',i) \n",
    "intersected_down = []\n",
    "for i,p in enumerate(all_polygons):\n",
    "    for line in shu.geoms(waves_down):\n",
    "      try:\n",
    "        intersection = sh.intersection(p, line)\n",
    "        if not intersection.is_empty:\n",
    "          intersected_down.append(intersection)\n",
    "      except:\n",
    "        print('error',i) "
   ]
  },
  {
   "cell_type": "code",
   "execution_count": null,
   "metadata": {},
   "outputs": [],
   "source": []
  },
  {
   "cell_type": "code",
   "execution_count": 396,
   "metadata": {},
   "outputs": [],
   "source": [
    "\n",
    "# Example usage:\n",
    "# my_list = [1, 2, 3, 4, 5, 6, 7, 8, 9, 10]\n",
    "pu.reload(pu)\n",
    "# print(split_randomly_equal(my_list, 3))"
   ]
  },
  {
   "cell_type": "code",
   "execution_count": 397,
   "metadata": {},
   "outputs": [],
   "source": []
  },
  {
   "cell_type": "code",
   "execution_count": null,
   "metadata": {},
   "outputs": [],
   "source": [
    "sh.affinity.scale(shu.printg(*shu.flatten(intersected_up)),10,10)"
   ]
  },
  {
   "cell_type": "code",
   "execution_count": 399,
   "metadata": {},
   "outputs": [],
   "source": [
    "aw.intersected_up_1,aw.intersected_up_2,aw.intersected_up_3,aw.intersected_up_4 = pu.split_randomly(shu.flatten(intersected_up),4)\n",
    "aw.intersected_down_1,aw.intersected_down_2,aw.intersected_down_3,aw.intersected_down_4 = pu.split_randomly(shu.flatten(intersected_down),4)"
   ]
  },
  {
   "cell_type": "code",
   "execution_count": null,
   "metadata": {},
   "outputs": [],
   "source": [
    "# aw.intersected_up_front = intersected_up_front\n",
    "# aw.intersected_up_back = intersected_up_back\n",
    "# # aw.curves_down = intersected_down\n",
    "# aw.intersected_down_front = intersected_down_front\n",
    "# aw.intersected_down_back = intersected_down_back\n",
    "# del aw.curves_down\n",
    "sh.affinity.scale(shu.printg(*(aw.intersected_up_1+aw.intersected_up_2+aw.intersected_up_3+aw.intersected_up_4)),10,10)"
   ]
  },
  {
   "cell_type": "code",
   "execution_count": 401,
   "metadata": {},
   "outputs": [],
   "source": [
    "upB_lips_mergers = shu.reorder_geos(shu.geoms(upB['lips_mergers']), \"N\", top_mergers)"
   ]
  },
  {
   "cell_type": "code",
   "execution_count": 402,
   "metadata": {},
   "outputs": [],
   "source": [
    "downB_lips_mergers = shu.reorder_geos(shu.geoms(downB['lips_mergers']), \"S\", top_mergers)"
   ]
  },
  {
   "cell_type": "code",
   "execution_count": 403,
   "metadata": {},
   "outputs": [],
   "source": [
    "upB['lips_mergers'] = shu.printg(*upB_lips_mergers)\n",
    "downB['lips_mergers'] = shu.printg(*downB_lips_mergers)\n",
    "# downB.refresh_geo()"
   ]
  },
  {
   "cell_type": "code",
   "execution_count": 404,
   "metadata": {},
   "outputs": [],
   "source": [
    "aw.upper_bball = upB.geo\n",
    "aw.lower_bball = downB.geo"
   ]
  },
  {
   "cell_type": "code",
   "execution_count": 405,
   "metadata": {},
   "outputs": [],
   "source": [
    "aw.trenes = shu.printg(*pu.flat(trenes))"
   ]
  },
  {
   "cell_type": "code",
   "execution_count": 406,
   "metadata": {},
   "outputs": [],
   "source": [
    "colored = {\n",
    "    'upper_bball':'white', \n",
    "    'lower_bball':'white', \n",
    "    'intersected_up_1':'blue', \n",
    "    'intersected_down_1':'red', \n",
    "    'intersected_up_2':'blue', \n",
    "    'intersected_down_2':'red', \n",
    "    'intersected_up_3':'blue', \n",
    "    'intersected_down_3':'red', \n",
    "    'intersected_up_4':'blue', \n",
    "    'intersected_down_4':'red', \n",
    "    'background': 'green',\n",
    "    'trenes': \"white\"\n",
    "}"
   ]
  },
  {
   "cell_type": "code",
   "execution_count": null,
   "metadata": {},
   "outputs": [],
   "source": []
  },
  {
   "cell_type": "code",
   "execution_count": 407,
   "metadata": {},
   "outputs": [],
   "source": [
    "pu.reload(cu)    "
   ]
  },
  {
   "cell_type": "code",
   "execution_count": 408,
   "metadata": {},
   "outputs": [],
   "source": [
    "cu.create_artwork(aw,colored, 0.2,0.1, 'svg')"
   ]
  },
  {
   "cell_type": "code",
   "execution_count": null,
   "metadata": {},
   "outputs": [],
   "source": [
    "shu.printg(,geo)"
   ]
  },
  {
   "cell_type": "code",
   "execution_count": null,
   "metadata": {},
   "outputs": [],
   "source": []
  },
  {
   "cell_type": "code",
   "execution_count": null,
   "metadata": {},
   "outputs": [],
   "source": [
    "def create_artwork(aw, colored, )"
   ]
  },
  {
   "cell_type": "code",
   "execution_count": null,
   "metadata": {},
   "outputs": [],
   "source": []
  },
  {
   "cell_type": "code",
   "execution_count": 51,
   "metadata": {},
   "outputs": [],
   "source": [
    "mode=\"jupyter\"\n",
    "file_name=\"\""
   ]
  },
  {
   "cell_type": "code",
   "execution_count": null,
   "metadata": {},
   "outputs": [],
   "source": [
    "# pip install matplotlib"
   ]
  },
  {
   "cell_type": "code",
   "execution_count": null,
   "metadata": {},
   "outputs": [],
   "source": [
    "\n",
    "print(colors.to_rgba('blue')[:-1])"
   ]
  },
  {
   "cell_type": "code",
   "execution_count": null,
   "metadata": {},
   "outputs": [],
   "source": [
    "\n",
    "    "
   ]
  },
  {
   "cell_type": "code",
   "execution_count": null,
   "metadata": {},
   "outputs": [],
   "source": [
    "all = GeometryCollection(list(aw.values()))"
   ]
  },
  {
   "cell_type": "code",
   "execution_count": null,
   "metadata": {},
   "outputs": [],
   "source": [
    "def plot(self, size=(200,200),mode=\"jupyter\", file_name=\"example\", starting_point=(0,0)):\n",
    "        import utils, cairo_utils as cu\n",
    "        import cairo\n",
    "        ctx = None\n",
    "        geo_all = GeometryCollection([layer.get_geo() for layer in self.layers])\n",
    "        x_min,y_min,x_max,y_max = geo_all.bounds()\n",
    "        # w,h = shu.size(geo_all)\n",
    "        \n",
    "        context = cu.get_context(mode=mode, file_name=file_name)\n",
    "        with context as ctx:\n",
    "            ctx.scale(size[0], size[1])\n",
    "            for layer in self.layers:\n",
    "                # if 'settings' in layer:\n",
    "                for setting in layer.get_settings():\n",
    "                    args = []\n",
    "                    kwargs = {}\n",
    "                    if 'args' in setting:\n",
    "                        args = setting['args']\n",
    "                    if 'kwargs' in setting:\n",
    "                        kwargs = setting['kwargs']\n",
    "                    getattr(ctx,setting[\"key\"])(*args, **kwargs)\n",
    "                geo = layer.get_geo()\n",
    "                if not geo is None:\n",
    "                    print('ploting!')\n",
    "\n",
    "                    plot_graphic(ctx, geo, startingPoint=starting_point, normalize_size=(x_max,y_max))\n",
    "                # print('next layer!',layer.key)\n",
    "        return ctx"
   ]
  },
  {
   "cell_type": "code",
   "execution_count": null,
   "metadata": {},
   "outputs": [],
   "source": [
    "def plot_graphic(ctx, geometry, starting_point=(0,0), depth=0, normalize_size=None):\n",
    "    # TODO: troba manera bona de fer normalization\n",
    "    if normalize_size is None:\n",
    "        w,h = shu.size(geometry)\n",
    "        if w<=1 and h<=1:\n",
    "            normalize_size = (1.0,1.0)\n",
    "        else:\n",
    "            normalize_size = (w,h)\n",
    "    \n",
    "    size_x = normalize_size[0]\n",
    "    size_y = normalize_size[1]\n",
    "    print(normalize_size)\n",
    "    # print(type(geometry))\n",
    "    if depth == 0:\n",
    "        bounds = geometry.bounds\n",
    "        translate_x = abs(min(bounds[0],0))\n",
    "        translate_y = abs(min(bounds[1],0))\n",
    "        geometry_translated = sh.affinity.translate(geometry, translate_x+starting_point[0],translate_y+starting_point[1])\n",
    "        geometry = geometry_translated\n",
    "    if type(geometry)==sh.Polygon:\n",
    "        geometry = geometry.boundary\n",
    "    if type(geometry) == LineString:\n",
    "        for i,coords in enumerate(geometry.coords):\n",
    "            x,y=coords\n",
    "            if (i==0):\n",
    "                # print('move_to',x,y)\n",
    "                ctx.move_to(x/size_x,y/size_y)\n",
    "            else:\n",
    "                # print('line_to',x,y)\n",
    "                ctx.line_to(x/size_x,y/size_y)\n",
    "    elif type(geometry) == MultiLineString or type(geometry) == GeometryCollection:\n",
    "        for g in geometry.geoms:\n",
    "            plot_graphic(ctx, g, starting_point, depth+1)\n",
    "    # elif (type())\n",
    "    if depth==0:\n",
    "        ctx.stroke()\n",
    "    return ctx"
   ]
  },
  {
   "cell_type": "code",
   "execution_count": null,
   "metadata": {},
   "outputs": [],
   "source": [
    "# shu.geoms(waves_up)"
   ]
  },
  {
   "cell_type": "code",
   "execution_count": null,
   "metadata": {},
   "outputs": [],
   "source": []
  },
  {
   "cell_type": "code",
   "execution_count": null,
   "metadata": {},
   "outputs": [],
   "source": []
  },
  {
   "cell_type": "code",
   "execution_count": null,
   "metadata": {},
   "outputs": [],
   "source": [
    "# shu.printg(*intersected)"
   ]
  },
  {
   "cell_type": "code",
   "execution_count": null,
   "metadata": {},
   "outputs": [],
   "source": [
    "# waves_up.intersection(shu.printg(*all_polygons))"
   ]
  },
  {
   "cell_type": "code",
   "execution_count": null,
   "metadata": {},
   "outputs": [],
   "source": [
    "textures"
   ]
  },
  {
   "cell_type": "code",
   "execution_count": null,
   "metadata": {},
   "outputs": [],
   "source": [
    "b = LineString([shu.first(trenes[2][-1]),shu.first(trenes[2][-2])])"
   ]
  },
  {
   "cell_type": "code",
   "execution_count": null,
   "metadata": {},
   "outputs": [],
   "source": [
    "# sh.affinity.scale(shu.printg(right_lines+list(upB['lips'].geoms)+list(downB['lips'].geoms)),500,500)"
   ]
  },
  {
   "cell_type": "code",
   "execution_count": null,
   "metadata": {},
   "outputs": [],
   "source": [
    "sh.affinity.scale(shu.printg(*(right_lines+curves+springs_top+springs_bottom+list(upB.geo.geoms)+list(downB.geo.geoms))),500,500)"
   ]
  },
  {
   "cell_type": "code",
   "execution_count": null,
   "metadata": {},
   "outputs": [],
   "source": []
  },
  {
   "cell_type": "code",
   "execution_count": null,
   "metadata": {},
   "outputs": [],
   "source": [
    "# pu.reload(cu)"
   ]
  },
  {
   "cell_type": "code",
   "execution_count": null,
   "metadata": {},
   "outputs": [],
   "source": [
    "class Artwork:\n",
    "    def __init__(self, layers=[]):\n",
    "        self.layers = layers\n",
    "    def setLayer(self, order, layer):\n",
    "        layer_keys = [l['key'] for l in self.layers]\n",
    "        if (layer['key'] in layer_keys):\n",
    "            return Exception('exists layer already')\n",
    "        self.layers.insert(order, layer)\n",
    "    def findLayer(self, layer_key):\n",
    "        return [(i,l) for i,l in enumerate(self.layers) if l['key']==layer_key]\n",
    "    def getLayer(self, layer_key):\n",
    "        return self.findLayer(layer_key)[1]\n",
    "    def getLayerIndex(self, layer_key):\n",
    "        return self.findLayer(layer_key)[0]\n",
    "    def createLayer(self, geo, key=None, color='red', width='0.4', **kwargs):\n",
    "        # TODO\n",
    "        settings = {color:color, width:width, **kwargs}\n",
    "        if key is None:\n",
    "            key=f'layer-{len(self.layers)}'\n",
    "        l = Layer(geo, settings)\n",
    "        key\n",
    "        return l\n",
    "    def plot(self, size=(200,200),mode=\"jupyter\", file_name=\"example\", starting_point=(0,0)):\n",
    "        import utils, cairo_utils as cu\n",
    "        import cairo\n",
    "        ctx = None\n",
    "        geo_all = GeometryCollection([layer.get_geo() for layer in self.layers])\n",
    "        x_min,y_min,x_max,y_max = geo_all.bounds()\n",
    "        # w,h = shu.size(geo_all)\n",
    "        \n",
    "        context = cu.get_context(mode=mode, file_name=file_name)\n",
    "        with context as ctx:\n",
    "            ctx.scale(size[0], size[1])\n",
    "            for layer in self.layers:\n",
    "                # if 'settings' in layer:\n",
    "                for setting in layer.get_settings():\n",
    "                    args = []\n",
    "                    kwargs = {}\n",
    "                    if 'args' in setting:\n",
    "                        args = setting['args']\n",
    "                    if 'kwargs' in setting:\n",
    "                        kwargs = setting['kwargs']\n",
    "                    getattr(ctx,setting[\"key\"])(*args, **kwargs)\n",
    "                geo = layer.get_geo()\n",
    "                if not geo is None:\n",
    "                    print('ploting!')\n",
    "\n",
    "                    plot_graphic(ctx, geo, startingPoint=starting_point, normalize_size=(x_max,y_max))\n",
    "                # print('next layer!',layer.key)\n",
    "        return ctx\n",
    "        "
   ]
  },
  {
   "cell_type": "code",
   "execution_count": null,
   "metadata": {},
   "outputs": [],
   "source": []
  },
  {
   "cell_type": "code",
   "execution_count": null,
   "metadata": {},
   "outputs": [],
   "source": []
  },
  {
   "cell_type": "code",
   "execution_count": null,
   "metadata": {},
   "outputs": [],
   "source": [
    "from typing import Any\n",
    "\n",
    "\n",
    "class Layer:\n",
    "    key = None\n",
    "    def __init__(self, geo=None, settings={}, key=None):\n",
    "        list_settings = []\n",
    "        if key is None:\n",
    "            import random\n",
    "            key = str(random.random())\n",
    "        self.key = key\n",
    "        for s_k,s_v in settings.items():\n",
    "            kwargs = {}\n",
    "            args=[]\n",
    "            if type(s_v)==list or type(s_v)==tuple:\n",
    "                args = s_v\n",
    "            elif type(s_v)==dict:\n",
    "                kwargs=s_v\n",
    "            else:\n",
    "                args=[s_v]\n",
    "            list_settings.append({\"key\":s_k, \"args\":args, \"kwargs\":kwargs})\n",
    "        self.settings = list_settings\n",
    "        self.geo = geo\n",
    "    def __getattribute__(self, name: str) -> Any:\n",
    "        # import inspect\n",
    "        # [k for k,f in inspect.getmembers(ctx) if 'set' in k]\n",
    "        if name in [ \n",
    "            'set_antialias',\n",
    "            'set_dash',\n",
    "            'set_fill_rule',\n",
    "            'set_font_face',\n",
    "            'set_font_matrix',\n",
    "            'set_font_options',\n",
    "            'set_font_size',\n",
    "            'set_hairline',\n",
    "            'set_line_cap',\n",
    "            'set_line_join',\n",
    "            'set_line_width',\n",
    "            'set_matrix',\n",
    "            'set_miter_limit',\n",
    "            'set_operator',\n",
    "            'set_scaled_font',\n",
    "            'set_source',\n",
    "            'set_source_rgb',\n",
    "            'set_source_rgba',\n",
    "            'set_source_surface',\n",
    "            'set_tolerance']:\n",
    "            def f(*args,**kwargs):\n",
    "                self.settings.append({\"key\":name,\"args\":args,\"kwargs\":kwargs})\n",
    "            return f\n",
    "        getter = super().__getattribute__\n",
    "        return getter(name)\n",
    "    \n",
    "    def set_geo(self,geo):\n",
    "        self.geo = geo\n",
    "    def get_geo(self):\n",
    "        return self.geo\n",
    "    def get_settings(self):\n",
    "        return self.settings\n",
    "# a = Layer()"
   ]
  },
  {
   "cell_type": "code",
   "execution_count": null,
   "metadata": {},
   "outputs": [],
   "source": [
    "geo = shu.Rect((50,50),50,50)\n",
    "geo2 = shu.Rect((100,50),50,50)\n",
    "scale = (200, 200)\n",
    "l = Layer(geo,{\n",
    "    \"set_line_width\":1,\n",
    "    \"set_source_rgba\":(1, 0.2, 0.2, 0.6)\n",
    "})\n",
    "l2 = Layer(geo2,{\n",
    "    \"set_line_width\":3,\n",
    "    \"set_source_rgba\":(1, 1, 0.2, 0.6)\n",
    "})"
   ]
  },
  {
   "cell_type": "code",
   "execution_count": null,
   "metadata": {},
   "outputs": [],
   "source": [
    "type((3,4))"
   ]
  },
  {
   "cell_type": "code",
   "execution_count": null,
   "metadata": {},
   "outputs": [],
   "source": [
    "a = Artwork([l,l2])"
   ]
  },
  {
   "cell_type": "code",
   "execution_count": null,
   "metadata": {},
   "outputs": [],
   "source": [
    "pu.reload(cu)"
   ]
  },
  {
   "cell_type": "code",
   "execution_count": null,
   "metadata": {},
   "outputs": [],
   "source": [
    "def plot_graphic(ctx, geometry, starting_point=(0,0), depth=0, normalize_size=None):\n",
    "    # TODO: troba manera bona de fer normalization\n",
    "    if normalize_size is None:\n",
    "        w,h = shu.size(geometry)\n",
    "        if w<=1 and h<=1:\n",
    "            normalize_size = (1.0,1.0)\n",
    "        else:\n",
    "            normalize_size = (w,h)\n",
    "    \n",
    "    size_x = normalize_size[0]\n",
    "    size_y = normalize_size[1]\n",
    "    # print(normalize_size)\n",
    "    # print(type(geometry))\n",
    "    if depth == 0:\n",
    "        bounds = geometry.bounds\n",
    "        translate_x = abs(min(bounds[0],0))\n",
    "        translate_y = abs(min(bounds[1],0))\n",
    "        geometry_translated = sh.affinity.translate(geometry, translate_x+starting_point[0],translate_y+starting_point[1])\n",
    "        geometry = geometry_translated\n",
    "    if type(geometry)==sh.Polygon:\n",
    "        geometry = geometry.boundary\n",
    "    if type(geometry) == LineString:\n",
    "        for i,coords in enumerate(geometry.coords):\n",
    "            x,y=coords\n",
    "            if (i==0):\n",
    "                # print('move_to',x,y)\n",
    "                ctx.move_to(x/size_x,y/size_y)\n",
    "            else:\n",
    "                # print('line_to',x,y)\n",
    "                ctx.line_to(x/size_x,y/size_y)\n",
    "    elif type(geometry) == MultiLineString or type(geometry) == GeometryCollection:\n",
    "        for g in geometry.geoms:\n",
    "            plot_graphic(ctx, g, starting_point, depth+1)\n",
    "    # elif (type())\n",
    "    if depth==0:\n",
    "        ctx.stroke()\n",
    "    return ctx"
   ]
  },
  {
   "cell_type": "code",
   "execution_count": null,
   "metadata": {},
   "outputs": [],
   "source": [
    "def demo():\n",
    "    a = cu.cairo_context(200, 200, format=\"svg\")\n",
    "    with a as context:\n",
    "        # x, y, x1, y1 = 0.1, 0.5, 0.4, 0.9\n",
    "        x, y, x1, y1 = 0, 0, 50, 50\n",
    "        x2, y2, x3, y3 = 0.6, 0.1, 0.9, 0.5\n",
    "        context.scale(200, 200)\n",
    "        context.set_line_width(0.04)\n",
    "        g1 =LineString([[x,y],[x1,y1]])\n",
    "        plot_graphic(context, g1)\n",
    "        # context.move_to(x, y)\n",
    "        # context.line_to(x1, y1)\n",
    "        context.stroke()\n",
    "    return context\n",
    "\n",
    "demo()"
   ]
  },
  {
   "cell_type": "code",
   "execution_count": null,
   "metadata": {},
   "outputs": [],
   "source": []
  },
  {
   "cell_type": "code",
   "execution_count": null,
   "metadata": {},
   "outputs": [],
   "source": [
    "def demo():\n",
    "    a = cu.cairo_context(200, 200, format=\"svg\")\n",
    "    with a as context:\n",
    "        x, y, x1, y1 = 0.1, 0.5, 0.4, 0.9\n",
    "        x2, y2, x3, y3 = 0.6, 0.1, 0.9, 0.5\n",
    "        context.scale(200, 200)\n",
    "        context.set_line_width(0.04)\n",
    "        context.move_to(x, y)\n",
    "        context.curve_to(x1, y1, x2, y2, x3, y3)\n",
    "        context.stroke()\n",
    "        context.set_source_rgba(1, 0.2, 0.2, 0.6)\n",
    "        context.set_line_width(0.02)\n",
    "        context.move_to(x, y)\n",
    "        context.line_to(x1, y1)\n",
    "        context.move_to(x2, y2)\n",
    "        context.line_to(x3, y3)\n",
    "        context.stroke()\n",
    "    return context\n",
    "\n",
    "demo()"
   ]
  },
  {
   "cell_type": "code",
   "execution_count": null,
   "metadata": {},
   "outputs": [],
   "source": []
  },
  {
   "cell_type": "code",
   "execution_count": null,
   "metadata": {},
   "outputs": [],
   "source": [
    "import cairo\n",
    "\n",
    "with cairo.SVGSurface(\"example.svg\", 200, 200) as surface:\n",
    "    context = cairo.Context(surface)\n",
    "    x, y, x1, y1 = 0.1, 0.5, 0.4, 0.9\n",
    "    x2, y2, x3, y3 = 0.6, 0.1, 0.9, 0.5\n",
    "    context.scale(200, 200)\n",
    "    context.set_line_width(0.04)\n",
    "    context.move_to(x, y)\n",
    "    context.curve_to(x1, y1, x2, y2, x3, y3)\n",
    "    context.stroke()\n",
    "    context.set_source_rgba(1, 0.2, 0.2, 0.6)\n",
    "    context.set_line_width(0.02)\n",
    "    context.move_to(x, y)\n",
    "    context.line_to(x1, y1)\n",
    "    context.move_to(x2, y2)\n",
    "    context.line_to(x3, y3)\n",
    "    context.stroke()"
   ]
  },
  {
   "cell_type": "code",
   "execution_count": null,
   "metadata": {},
   "outputs": [],
   "source": [
    "pip install pycairo"
   ]
  },
  {
   "cell_type": "code",
   "execution_count": null,
   "metadata": {},
   "outputs": [],
   "source": [
    "# TODO round edges \n",
    "    "
   ]
  },
  {
   "cell_type": "code",
   "execution_count": null,
   "metadata": {},
   "outputs": [],
   "source": [
    "def texture()"
   ]
  },
  {
   "cell_type": "code",
   "execution_count": null,
   "metadata": {},
   "outputs": [],
   "source": []
  },
  {
   "cell_type": "code",
   "execution_count": null,
   "metadata": {},
   "outputs": [],
   "source": [
    "force = create_symmetrical_force()\n",
    "[force(i) for i in range(5)]"
   ]
  },
  {
   "cell_type": "code",
   "execution_count": null,
   "metadata": {},
   "outputs": [],
   "source": [
    "shu.printg([segments[0], ])"
   ]
  },
  {
   "cell_type": "code",
   "execution_count": null,
   "metadata": {},
   "outputs": [],
   "source": [
    "print(p.one(0))"
   ]
  },
  {
   "cell_type": "code",
   "execution_count": null,
   "metadata": {},
   "outputs": [],
   "source": [
    "def wiggleLine(line):\n",
    "    line"
   ]
  },
  {
   "cell_type": "code",
   "execution_count": null,
   "metadata": {},
   "outputs": [],
   "source": [
    "from shapely.geometry import Point\n",
    "import matplotlib.pyplot as plt\n",
    "\n",
    "a = (0, 0)\n",
    "b = (10, 0)\n",
    "c = (9.5, 5)\n",
    "\n",
    "line = shu.curved_path(a, b, c, curvature=1)\n",
    "shu.printg([line,Point(a),Point(b),Point(c)])"
   ]
  },
  {
   "cell_type": "code",
   "execution_count": null,
   "metadata": {},
   "outputs": [],
   "source": [
    "shu.join(upB,sh.affinity.translate(upB, 0, d*1.5))"
   ]
  },
  {
   "cell_type": "code",
   "execution_count": null,
   "metadata": {},
   "outputs": [],
   "source": [
    "GeometryCollection([shu.Cirºcle(upB.centroid, d/2)]+list(upB_half.geoms))"
   ]
  },
  {
   "cell_type": "code",
   "execution_count": null,
   "metadata": {},
   "outputs": [],
   "source": [
    "\n",
    "square = sh.affinity.translate(shu.Rect(upB.centroid,d/2,d/2).union(shu.Rect(upB.centroid,-d/2,d/2)),0,-d/2)\n",
    "upB_half = shu.intersection_collection(upB, square)\n",
    "downB = upB.copy()\n",
    "square2 = sh.affinity.translate(shu.Rect(downB.centroid,d/2,d/2).union(shu.Rect(downB.centroid,-d/2,d/2)),0,0)\n",
    "downB_half = shu.intersection_collection(downB, square2)\n",
    "# crec k vull fer que totes les geometries .rotate .translate .affine_transform existeixin\n",
    "bottom = sh.affinity.translate(downB_half, 0, -shu.size(downB_half)[1]*3)\n",
    "GeometryCollection([bottom, upB_half])\n",
    "all_lines = []\n",
    "for i,ls in enumerate(bottom.geoms):\n",
    "    print(upB_half.geoms)\n",
    "    # print(upB_half.geoms[i].coords[0],ls[0])"
   ]
  },
  {
   "cell_type": "code",
   "execution_count": null,
   "metadata": {},
   "outputs": [],
   "source": []
  },
  {
   "cell_type": "code",
   "execution_count": null,
   "metadata": {},
   "outputs": [],
   "source": []
  },
  {
   "cell_type": "code",
   "execution_count": null,
   "metadata": {},
   "outputs": [],
   "source": [
    "v = LineString([[1,0],[1,2]])\n",
    "hs = [{\"line\": LineString([[0,(0.5+i)*v.length/5],[2,(0.5+i)*v.length/5]]), \"orientation\": ((i%2==0)*2)-1} for i in range(5)]"
   ]
  },
  {
   "cell_type": "code",
   "execution_count": null,
   "metadata": {},
   "outputs": [],
   "source": [
    "for h in hs:\n",
    "    intersection = h['line'].intersection(v)\n",
    "    h['intersection'] = intersection\n",
    "hs.sort(key=lambda a: sh.distance(a['intersection'],v.boundary.geoms[0]))\n",
    "hs"
   ]
  },
  {
   "cell_type": "code",
   "execution_count": null,
   "metadata": {},
   "outputs": [],
   "source": [
    "\n",
    "import numpy as np\n",
    "current_inline = v.boundary.geoms[0]\n",
    "curves = []\n",
    "intensity = 0.5\n",
    "for i,h in enumerate(hs):\n",
    "    if (len(hs)>i+1):\n",
    "        print(h['intersection'],hs[i+1]['intersection'])\n",
    "        next_inline = LineString([h['intersection'],hs[i+1]['intersection']]).centroid\n",
    "    else:\n",
    "        next_inline = v.boundary.geoms[1]\n",
    "    line = h['line']\n",
    "    point = h['intersection']\n",
    "\n",
    "    middle_node = shu.move_point_along_line(point, line, intensity*h['orientation'])\n",
    "    \n",
    "    nodes = [list(a) for a in [current_inline.coords[0], middle_node.coords[0], next_inline.coords[0]]]\n",
    "    # print(nodes)\n",
    "    # sino transposes es pensa que ed 3d bezier\n",
    "    curve = bezier.Curve.from_nodes(np.asfortranarray(np.transpose(nodes)))\n",
    "    # enllaçar curves?\n",
    "    curves.append(curve)\n",
    "    current_inline = next_inline"
   ]
  },
  {
   "cell_type": "code",
   "execution_count": null,
   "metadata": {},
   "outputs": [],
   "source": [
    "MultiLineString([shu.curve_to_ls(c) for c in curves]+[v]+[h['line'] for h in hs])"
   ]
  },
  {
   "cell_type": "code",
   "execution_count": null,
   "metadata": {},
   "outputs": [],
   "source": []
  },
  {
   "cell_type": "code",
   "execution_count": null,
   "metadata": {},
   "outputs": [],
   "source": []
  }
 ],
 "metadata": {
  "kernelspec": {
   "display_name": "base",
   "language": "python",
   "name": "python3"
  },
  "language_info": {
   "codemirror_mode": {
    "name": "ipython",
    "version": 3
   },
   "file_extension": ".py",
   "mimetype": "text/x-python",
   "name": "python",
   "nbconvert_exporter": "python",
   "pygments_lexer": "ipython3",
   "version": "3.10.13"
  }
 },
 "nbformat": 4,
 "nbformat_minor": 2
}
