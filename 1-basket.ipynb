{
 "cells": [
  {
   "cell_type": "code",
   "execution_count": 25,
   "metadata": {},
   "outputs": [],
   "source": [
    "import utils, shapely_utils as shu, python_utils as pu\n",
    "import bezier\n",
    "import numpy as np\n",
    "from shapely import LineString, MultiLineString, GeometryCollection\n",
    "import shapely as sh"
   ]
  },
  {
   "cell_type": "code",
   "execution_count": null,
   "metadata": {},
   "outputs": [],
   "source": [
    "# pip install shapely"
   ]
  },
  {
   "cell_type": "code",
   "execution_count": 5,
   "metadata": {},
   "outputs": [],
   "source": [
    "# imports\n",
    "from pathlib import Path, PurePath\n",
    "import sys  "
   ]
  },
  {
   "cell_type": "code",
   "execution_count": 245,
   "metadata": {},
   "outputs": [],
   "source": [
    "\n",
    "def bball_net(radius,m=0.15,n=0.25,total_slices=12,len_straight=4, prop_h=0.5):\n",
    "    curve = bezier.Curve(np.asfortranarray(np.matrix([[0,0],[n/4,m],[n,prop_h*m]]).transpose()), degree=2)\n",
    "    line = LineString([[-n/3,-n/len_straight],[0,0]])\n",
    "    # return line\n",
    "    l = sh.line_merge(MultiLineString([line,shu.curve_to_ls(curve)]))\n",
    "    # return line\n",
    "    a,b,c,d = l.bounds\n",
    "    x_dist = c-a\n",
    "    y_dist = d-b\n",
    "    w_line,h_line = shu.size(line)\n",
    "    \n",
    "    p = sh.line_merge(MultiLineString([l,sh.affinity.translate(sh.affinity.scale(l, -1, 1),x_dist)]))\n",
    "    # return l\n",
    "    # return p\n",
    "    w,h = shu.size(p)\n",
    "    scale_prop = radius/w\n",
    "    p = sh.affinity.scale(p, scale_prop, scale_prop)\n",
    "    p2 = sh.affinity.translate(sh.affinity.scale(p, 1, -1),0,- h * scale_prop + h_line*scale_prop*2)\n",
    "    lip = GeometryCollection([p,p2])\n",
    "    # return lip\n",
    "    # return lip\n",
    "    # return lip\n",
    "    tots_lips = []\n",
    "    for i in range(int(total_slices/2)):\n",
    "        tots_lips.append(sh.affinity.rotate(lip, i*(360/total_slices)))\n",
    "    # return tots_lips\n",
    "    # print(len(tots_lips))\n",
    "    return GeometryCollection(tots_lips)"
   ]
  },
  {
   "cell_type": "code",
   "execution_count": null,
   "metadata": {},
   "outputs": [],
   "source": [
    "upB = bball_net(500, 0.15,0.25,12,7,0.85)\n",
    "upB"
   ]
  },
  {
   "cell_type": "code",
   "execution_count": 249,
   "metadata": {},
   "outputs": [],
   "source": [
    "downB = shu.copy(upB)"
   ]
  },
  {
   "cell_type": "code",
   "execution_count": 11,
   "metadata": {},
   "outputs": [],
   "source": []
  },
  {
   "cell_type": "code",
   "execution_count": null,
   "metadata": {},
   "outputs": [],
   "source": [
    "d = shu.size(upB)[0]\n",
    "square = sh.affinity.translate(shu.Rect(upB.centroid,d/2,d/2).union(shu.Rect(upB.centroid,-d/2,d/2)),0,-d/2)\n",
    "upB_half = shu.intersection_collection(upB, square)\n",
    "upB_half"
   ]
  },
  {
   "cell_type": "code",
   "execution_count": 286,
   "metadata": {},
   "outputs": [],
   "source": []
  },
  {
   "cell_type": "code",
   "execution_count": 287,
   "metadata": {},
   "outputs": [],
   "source": []
  },
  {
   "cell_type": "code",
   "execution_count": null,
   "metadata": {},
   "outputs": [],
   "source": [
    "# from shapely.ops import split\n",
    "# list(split(line, a).geoms)"
   ]
  },
  {
   "cell_type": "code",
   "execution_count": 102,
   "metadata": {},
   "outputs": [],
   "source": [
    "points = l.intersection(GeometryCollection(list(upB.geoms)[i+1:]))\n",
    "# line = break_ls(l, l.centroid)"
   ]
  },
  {
   "cell_type": "code",
   "execution_count": null,
   "metadata": {},
   "outputs": [],
   "source": []
  },
  {
   "cell_type": "code",
   "execution_count": null,
   "metadata": {},
   "outputs": [],
   "source": [
    "\n",
    "square = sh.affinity.translate(shu.Rect(upB.centroid,d/2,d/2).union(shu.Rect(upB.centroid,-d/2,d/2)),0,-d/2)\n",
    "upB_half = shu.intersection_collection(upB, square)\n",
    "downB = upB.copy()\n",
    "square2 = sh.affinity.translate(shu.Rect(downB.centroid,d/2,d/2).union(shu.Rect(downB.centroid,-d/2,d/2)),0,0)\n",
    "downB_half = shu.intersection_collection(downB, square2)\n",
    "# crec k vull fer que totes les geometries .rotate .translate .affine_transform existeixin\n",
    "bottom = sh.affinity.translate(downB_half, 0, -shu.size(downB_half)[1]*3)\n",
    "GeometryCollection([bottom, upB_half])\n",
    "all_lines = []\n",
    "for i,ls in enumerate(bottom.geoms):\n",
    "    print(upB_half.geoms)\n",
    "    # print(upB_half.geoms[i].coords[0],ls[0])"
   ]
  },
  {
   "cell_type": "code",
   "execution_count": null,
   "metadata": {},
   "outputs": [],
   "source": [
    "GeometryCollection([shu.Circle(upB.centroid, d/2)]+list(upB.geoms))"
   ]
  },
  {
   "cell_type": "code",
   "execution_count": null,
   "metadata": {},
   "outputs": [],
   "source": [
    "pu.reload(shu)\n",
    "shu.join(upB,sh.affinity.translate(upB, 0, d*1.5))"
   ]
  },
  {
   "cell_type": "code",
   "execution_count": 16,
   "metadata": {},
   "outputs": [],
   "source": [
    "v = LineString([[1,0],[1,2]])\n",
    "hs = [{\"line\": LineString([[0,(0.5+i)*v.length/5],[2,(0.5+i)*v.length/5]]), \"orientation\": ((i%2==0)*2)-1} for i in range(5)]"
   ]
  },
  {
   "cell_type": "code",
   "execution_count": null,
   "metadata": {},
   "outputs": [],
   "source": [
    "for h in hs:\n",
    "    intersection = h['line'].intersection(v)\n",
    "    h['intersection'] = intersection\n",
    "hs.sort(key=lambda a: sh.distance(a['intersection'],v.boundary.geoms[0]))\n",
    "hs"
   ]
  },
  {
   "cell_type": "code",
   "execution_count": null,
   "metadata": {},
   "outputs": [],
   "source": [
    "\n",
    "import numpy as np\n",
    "current_inline = v.boundary.geoms[0]\n",
    "curves = []\n",
    "intensity = 0.5\n",
    "for i,h in enumerate(hs):\n",
    "    if (len(hs)>i+1):\n",
    "        print(h['intersection'],hs[i+1]['intersection'])\n",
    "        next_inline = LineString([h['intersection'],hs[i+1]['intersection']]).centroid\n",
    "    else:\n",
    "        next_inline = v.boundary.geoms[1]\n",
    "    line = h['line']\n",
    "    point = h['intersection']\n",
    "\n",
    "    middle_node = shu.move_point_along_line(point, line, intensity*h['orientation'])\n",
    "    \n",
    "    nodes = [list(a) for a in [current_inline.coords[0], middle_node.coords[0], next_inline.coords[0]]]\n",
    "    # print(nodes)\n",
    "    # sino transposes es pensa que ed 3d bezier\n",
    "    curve = bezier.Curve.from_nodes(np.asfortranarray(np.transpose(nodes)))\n",
    "    # enllaçar curves?\n",
    "    curves.append(curve)\n",
    "    current_inline = next_inline"
   ]
  },
  {
   "cell_type": "code",
   "execution_count": null,
   "metadata": {},
   "outputs": [],
   "source": [
    "MultiLineString([shu.curve_to_ls(c) for c in curves]+[v]+[h['line'] for h in hs])"
   ]
  },
  {
   "cell_type": "code",
   "execution_count": null,
   "metadata": {},
   "outputs": [],
   "source": []
  },
  {
   "cell_type": "code",
   "execution_count": null,
   "metadata": {},
   "outputs": [],
   "source": []
  }
 ],
 "metadata": {
  "kernelspec": {
   "display_name": "base",
   "language": "python",
   "name": "python3"
  },
  "language_info": {
   "codemirror_mode": {
    "name": "ipython",
    "version": 3
   },
   "file_extension": ".py",
   "mimetype": "text/x-python",
   "name": "python",
   "nbconvert_exporter": "python",
   "pygments_lexer": "ipython3",
   "version": "3.12.8"
  }
 },
 "nbformat": 4,
 "nbformat_minor": 2
}
