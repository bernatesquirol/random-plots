{
 "cells": [
  {
   "cell_type": "code",
   "execution_count": 2,
   "metadata": {},
   "outputs": [],
   "source": [
    "import utils, shapely_utils as shu, python_utils as pu\n",
    "import bezier\n",
    "import numpy as np\n",
    "from shapely import LineString, MultiLineString, GeometryCollection\n",
    "import shapely as sh"
   ]
  },
  {
   "cell_type": "code",
   "execution_count": 3,
   "metadata": {},
   "outputs": [],
   "source": [
    "pu.reload(shu)"
   ]
  },
  {
   "cell_type": "code",
   "execution_count": 4,
   "metadata": {},
   "outputs": [],
   "source": [
    "# pip install shapely"
   ]
  },
  {
   "cell_type": "code",
   "execution_count": 5,
   "metadata": {},
   "outputs": [],
   "source": [
    "# imports\n",
    "from pathlib import Path, PurePath\n",
    "import sys  "
   ]
  },
  {
   "cell_type": "code",
   "execution_count": 57,
   "metadata": {},
   "outputs": [],
   "source": [
    "\n",
    "def bball_net(radius,m=0.15,n=0.25,total_slices=12,len_straight=4, prop_h=0.5):\n",
    "    curve = bezier.Curve(np.asfortranarray(np.matrix([[0,0],[n/4,m],[n,prop_h*m]]).transpose()), degree=2)\n",
    "    line = LineString([[-n/3,-n/len_straight],[0,0]])\n",
    "    # return line\n",
    "    l = sh.line_merge(MultiLineString([line,shu.curve_to_ls(curve)]))\n",
    "    # return line\n",
    "    a,b,c,d = l.bounds\n",
    "    x_dist = c-a\n",
    "    y_dist = d-b\n",
    "    w_line,h_line = shu.size(line)\n",
    "    \n",
    "    p = sh.line_merge(MultiLineString([l,sh.affinity.translate(sh.affinity.scale(l, -1, 1),x_dist)]))\n",
    "    # return l\n",
    "    # return p\n",
    "    w,h = shu.size(p)\n",
    "    scale_prop = radius/w\n",
    "    p = sh.affinity.scale(p, scale_prop, scale_prop)\n",
    "    p2 = sh.affinity.translate(sh.affinity.scale(p, 1, -1),0,- h * scale_prop + h_line*scale_prop*2)\n",
    "    lip = GeometryCollection([p,p2])\n",
    "    # return lip\n",
    "    # return lip\n",
    "    # return lip\n",
    "    tots_lips = []\n",
    "    mergers_entre_lips = []\n",
    "    def getLines(last_line, new_line):\n",
    "        line = LineString([list(list(new_line.geoms)[1].coords)[0],list(list(last_line.geoms)[0].coords)[0]])\n",
    "        line2 = LineString([list(list(new_line.geoms)[0].coords)[-1],list(list(last_line.geoms)[1].coords)[-1]])\n",
    "        return [line, line2]\n",
    "    first_line = None\n",
    "    for i in range(int(total_slices/2)):\n",
    "        new_line = sh.affinity.rotate(lip, i*(360/total_slices))\n",
    "        if (i>0):\n",
    "            mergers_entre_lips += getLines(last_line, new_line)\n",
    "        else:\n",
    "            first_line = new_line\n",
    "        tots_lips.append(new_line)\n",
    "        last_line = new_line\n",
    "    # inverse\n",
    "    line = LineString([list(list(first_line.geoms)[1].coords)[0],list(list(last_line.geoms)[1].coords)[-1]])\n",
    "    line2 = LineString([list(list(first_line.geoms)[0].coords)[-1],list(list(last_line.geoms)[0].coords)[0]])\n",
    "    mergers_entre_lips += [line, line2]\n",
    "    # return tots_lips\n",
    "    # print(len(tots_lips))\n",
    "    # return [tots_lips,mergers_entre_lips]\n",
    "    return shu.StructuredCollection(lips=tots_lips, lips_mergers=mergers_entre_lips)"
   ]
  },
  {
   "cell_type": "code",
   "execution_count": 75,
   "metadata": {},
   "outputs": [],
   "source": [
    "pu.reload(shu)"
   ]
  },
  {
   "cell_type": "code",
   "execution_count": 98,
   "metadata": {},
   "outputs": [],
   "source": [
    "pu.reload(shu)"
   ]
  },
  {
   "cell_type": "code",
   "execution_count": 99,
   "metadata": {},
   "outputs": [],
   "source": [
    "upB = bball_net(50, 0.15,0.25,12,3.7,0.85)\n",
    "# l = upB['lips_mergers']\n",
    "l = shu.geoms(upB['lips_mergers'])[0]"
   ]
  },
  {
   "cell_type": "code",
   "execution_count": null,
   "metadata": {},
   "outputs": [],
   "source": [
    "spring_g = shu.spring(l,3,1,0.8)\n",
    "spring_g"
   ]
  },
  {
   "cell_type": "code",
   "execution_count": null,
   "metadata": {},
   "outputs": [],
   "source": [
    "springs_lip_merger = GeometryCollection([shu.spring(l,3,None,0.6) for l in shu.geoms(upB['lips_mergers'])])\n",
    "sh.affinity.scale(shu.print([springs_lip_merger, upB['lips_mergers']]),500,500)\n",
    "# springs_lip_merger"
   ]
  },
  {
   "cell_type": "code",
   "execution_count": 48,
   "metadata": {},
   "outputs": [],
   "source": [
    "pu.reload(shu)"
   ]
  },
  {
   "cell_type": "code",
   "execution_count": null,
   "metadata": {},
   "outputs": [],
   "source": [
    "line = LineString([(0,1),(9,3)])\n",
    "shu.spring(line, 3,None,0.8)\n",
    "# shu.print([shu.spring(line, 3, None,0.8)])"
   ]
  },
  {
   "cell_type": "code",
   "execution_count": null,
   "metadata": {},
   "outputs": [],
   "source": [
    "x_off,y_off = line.bounds\n"
   ]
  },
  {
   "cell_type": "code",
   "execution_count": 113,
   "metadata": {},
   "outputs": [],
   "source": [
    "num_loops = 9\n",
    "line = LineString([(0,0),(25,0)])\n",
    "radius = line.length/(num_loops+2)\n",
    "# radius = 0.25*num_loops\n",
    "all_circles = []\n",
    "for i in range(num_loops):\n",
    "    circle = shu.Circle((radius*(i+1),0), radius)\n",
    "    all_circles.append(circle)\n",
    "springs = []\n",
    "for c1, c2 in iter_two(all_circles):\n",
    "    springs.append(createSpring(c1, c2))"
   ]
  },
  {
   "cell_type": "code",
   "execution_count": null,
   "metadata": {},
   "outputs": [],
   "source": [
    "all_circles"
   ]
  },
  {
   "cell_type": "code",
   "execution_count": null,
   "metadata": {},
   "outputs": [],
   "source": [
    "sh.affinity.scale(shu.print(springs), 0.2,1)"
   ]
  },
  {
   "cell_type": "code",
   "execution_count": 21,
   "metadata": {},
   "outputs": [],
   "source": []
  },
  {
   "cell_type": "code",
   "execution_count": null,
   "metadata": {},
   "outputs": [],
   "source": []
  },
  {
   "cell_type": "code",
   "execution_count": null,
   "metadata": {},
   "outputs": [],
   "source": [
    "createSpring(all_circles[0],all_circles[1])"
   ]
  },
  {
   "cell_type": "code",
   "execution_count": null,
   "metadata": {},
   "outputs": [],
   "source": [
    "# last: \n",
    "# shu.print([first_curve,middle_curve,last_curve]) -> replicate n times along line l with radius l"
   ]
  },
  {
   "cell_type": "code",
   "execution_count": null,
   "metadata": {},
   "outputs": [],
   "source": []
  },
  {
   "cell_type": "code",
   "execution_count": null,
   "metadata": {},
   "outputs": [],
   "source": []
  },
  {
   "cell_type": "code",
   "execution_count": null,
   "metadata": {},
   "outputs": [],
   "source": [
    "snapped_c2 = sh.snap(sh.line_interpolate_point(b, 3*b.length/4),b,0.1)\n",
    "third_curve = shu.geoms(split(b,snapped_c2))[1]"
   ]
  },
  {
   "cell_type": "code",
   "execution_count": 74,
   "metadata": {},
   "outputs": [],
   "source": [
    "pu.reload(shu)"
   ]
  },
  {
   "cell_type": "code",
   "execution_count": null,
   "metadata": {},
   "outputs": [],
   "source": [
    "centroid_bottom = sh.Point(LineString([a.centroid, b.centroid]).centroid.x,-shu.height(a)/2)\n",
    "centroid_bottom"
   ]
  },
  {
   "cell_type": "code",
   "execution_count": null,
   "metadata": {},
   "outputs": [],
   "source": [
    "shu.Circle()"
   ]
  },
  {
   "cell_type": "code",
   "execution_count": null,
   "metadata": {},
   "outputs": [],
   "source": [
    "\n",
    "shu.print([a,sh.line_interpolate_point(a, a.length/4).buffer(0.4),b,centroid_bottom.buffer(0.4), sh.line_interpolate_point(b, 3*b.length/4).buffer(0.4)])"
   ]
  },
  {
   "cell_type": "code",
   "execution_count": null,
   "metadata": {},
   "outputs": [],
   "source": []
  },
  {
   "cell_type": "code",
   "execution_count": null,
   "metadata": {},
   "outputs": [],
   "source": [
    "shu.join(upB,sh.affinity.translate(upB, 0, d*1.5))"
   ]
  },
  {
   "cell_type": "code",
   "execution_count": null,
   "metadata": {},
   "outputs": [],
   "source": [
    "GeometryCollection([shu.Circle(upB.centroid, d/2)]+list(upB_half.geoms))"
   ]
  },
  {
   "cell_type": "code",
   "execution_count": null,
   "metadata": {},
   "outputs": [],
   "source": [
    "\n",
    "square = sh.affinity.translate(shu.Rect(upB.centroid,d/2,d/2).union(shu.Rect(upB.centroid,-d/2,d/2)),0,-d/2)\n",
    "upB_half = shu.intersection_collection(upB, square)\n",
    "downB = upB.copy()\n",
    "square2 = sh.affinity.translate(shu.Rect(downB.centroid,d/2,d/2).union(shu.Rect(downB.centroid,-d/2,d/2)),0,0)\n",
    "downB_half = shu.intersection_collection(downB, square2)\n",
    "# crec k vull fer que totes les geometries .rotate .translate .affine_transform existeixin\n",
    "bottom = sh.affinity.translate(downB_half, 0, -shu.size(downB_half)[1]*3)\n",
    "GeometryCollection([bottom, upB_half])\n",
    "all_lines = []\n",
    "for i,ls in enumerate(bottom.geoms):\n",
    "    print(upB_half.geoms)\n",
    "    # print(upB_half.geoms[i].coords[0],ls[0])"
   ]
  },
  {
   "cell_type": "code",
   "execution_count": null,
   "metadata": {},
   "outputs": [],
   "source": []
  },
  {
   "cell_type": "code",
   "execution_count": null,
   "metadata": {},
   "outputs": [],
   "source": []
  },
  {
   "cell_type": "code",
   "execution_count": 16,
   "metadata": {},
   "outputs": [],
   "source": [
    "v = LineString([[1,0],[1,2]])\n",
    "hs = [{\"line\": LineString([[0,(0.5+i)*v.length/5],[2,(0.5+i)*v.length/5]]), \"orientation\": ((i%2==0)*2)-1} for i in range(5)]"
   ]
  },
  {
   "cell_type": "code",
   "execution_count": null,
   "metadata": {},
   "outputs": [],
   "source": [
    "for h in hs:\n",
    "    intersection = h['line'].intersection(v)\n",
    "    h['intersection'] = intersection\n",
    "hs.sort(key=lambda a: sh.distance(a['intersection'],v.boundary.geoms[0]))\n",
    "hs"
   ]
  },
  {
   "cell_type": "code",
   "execution_count": null,
   "metadata": {},
   "outputs": [],
   "source": [
    "\n",
    "import numpy as np\n",
    "current_inline = v.boundary.geoms[0]\n",
    "curves = []\n",
    "intensity = 0.5\n",
    "for i,h in enumerate(hs):\n",
    "    if (len(hs)>i+1):\n",
    "        print(h['intersection'],hs[i+1]['intersection'])\n",
    "        next_inline = LineString([h['intersection'],hs[i+1]['intersection']]).centroid\n",
    "    else:\n",
    "        next_inline = v.boundary.geoms[1]\n",
    "    line = h['line']\n",
    "    point = h['intersection']\n",
    "\n",
    "    middle_node = shu.move_point_along_line(point, line, intensity*h['orientation'])\n",
    "    \n",
    "    nodes = [list(a) for a in [current_inline.coords[0], middle_node.coords[0], next_inline.coords[0]]]\n",
    "    # print(nodes)\n",
    "    # sino transposes es pensa que ed 3d bezier\n",
    "    curve = bezier.Curve.from_nodes(np.asfortranarray(np.transpose(nodes)))\n",
    "    # enllaçar curves?\n",
    "    curves.append(curve)\n",
    "    current_inline = next_inline"
   ]
  },
  {
   "cell_type": "code",
   "execution_count": null,
   "metadata": {},
   "outputs": [],
   "source": [
    "MultiLineString([shu.curve_to_ls(c) for c in curves]+[v]+[h['line'] for h in hs])"
   ]
  },
  {
   "cell_type": "code",
   "execution_count": null,
   "metadata": {},
   "outputs": [],
   "source": []
  },
  {
   "cell_type": "code",
   "execution_count": null,
   "metadata": {},
   "outputs": [],
   "source": []
  }
 ],
 "metadata": {
  "kernelspec": {
   "display_name": "base",
   "language": "python",
   "name": "python3"
  },
  "language_info": {
   "codemirror_mode": {
    "name": "ipython",
    "version": 3
   },
   "file_extension": ".py",
   "mimetype": "text/x-python",
   "name": "python",
   "nbconvert_exporter": "python",
   "pygments_lexer": "ipython3",
   "version": "3.10.13"
  }
 },
 "nbformat": 4,
 "nbformat_minor": 2
}
