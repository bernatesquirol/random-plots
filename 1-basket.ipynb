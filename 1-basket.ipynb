{
 "cells": [
  {
   "cell_type": "code",
   "execution_count": 1,
   "metadata": {},
   "outputs": [],
   "source": [
    "import utils, shapely_utils as shu, python_utils as pu, cairo_utils as cu, plotter_utils as plu\n",
    "import bezier\n",
    "import numpy as  np\n",
    "from shapely import LineString, MultiLineString, GeometryCollection\n",
    "import shapely as sh"
   ]
  },
  {
   "cell_type": "code",
   "execution_count": 2,
   "metadata": {},
   "outputs": [],
   "source": [
    "# imports\n",
    "from pathlib import Path, PurePath\n",
    "import sys"
   ]
  },
  {
   "cell_type": "code",
   "execution_count": 3,
   "metadata": {},
   "outputs": [],
   "source": [
    "def morse_code(to_morse):\n",
    "    char_to_morse = {\n",
    "        'a': '.-',\n",
    "        'b': '-...',\n",
    "        'c': '-.-.',\n",
    "        'd': '-..',\n",
    "        'e': '.',\n",
    "        'f': '..-.',\n",
    "        'g': '--.',\n",
    "        'h': '....',\n",
    "        'i': '..',\n",
    "        'j': '.---',\n",
    "        'k': '-.-',\n",
    "        'l': '.-..',\n",
    "        'm': '--',\n",
    "        'n': '-.',\n",
    "        'o': '---',\n",
    "        'p': '.--.',\n",
    "        'q': '--.-',\n",
    "        'r': '.-.',\n",
    "        's': '...',\n",
    "        't': '-',\n",
    "        'u': '..-',\n",
    "        'v': '...-',\n",
    "        'w': '.--',\n",
    "        'x': '-..-',\n",
    "        'y': '-.--',\n",
    "        'z': '--..'\n",
    "    }\n",
    "    return \" \".join([char_to_morse[c.lower()] for c in to_morse])"
   ]
  },
  {
   "cell_type": "code",
   "execution_count": 4,
   "metadata": {},
   "outputs": [],
   "source": [
    "# line = LineString([[0,0],[1,1]])"
   ]
  },
  {
   "cell_type": "code",
   "execution_count": 5,
   "metadata": {},
   "outputs": [],
   "source": [
    "def morse_to_line(line, morse_word, n_characters, circle_proportion=0.6, segment_proportion=0.8, space_proportion=0.6):\n",
    "    segs  = shu.geoms(shu.segmentize(line, n_characters))\n",
    "    # return shu.printg(*segs)\n",
    "    all_segs = []\n",
    "    for i in range(n_characters):\n",
    "        seg = segs[i]\n",
    "        char = morse_word[i%len(morse_word)]\n",
    "        if (char=='.'):\n",
    "            all_segs.append(shu.Circle(seg.centroid,seg.length*circle_proportion/2))\n",
    "        elif (char=='-'):\n",
    "            seg_f = sh.affinity.scale(seg, segment_proportion, segment_proportion)\n",
    "            all_segs.append(seg_f)\n",
    "        elif (char==\" \"):\n",
    "            seg_f = sh.affinity.scale(seg, space_proportion, space_proportion)\n",
    "            seg_f = sh.affinity.rotate(seg_f, 90,)\n",
    "            all_segs.append(seg_f)\n",
    "    return shu.printg(*all_segs)"
   ]
  },
  {
   "cell_type": "code",
   "execution_count": 6,
   "metadata": {},
   "outputs": [],
   "source": [
    "# morse_to_line(sh.LineString([[0,0], [1,1]]), morse_code('pere'), 16)"
   ]
  },
  {
   "cell_type": "code",
   "execution_count": 7,
   "metadata": {},
   "outputs": [],
   "source": [
    "# morse_code('berta')\n",
    "# morse_code('pere')"
   ]
  },
  {
   "cell_type": "code",
   "execution_count": null,
   "metadata": {},
   "outputs": [],
   "source": []
  },
  {
   "cell_type": "code",
   "execution_count": 8,
   "metadata": {},
   "outputs": [],
   "source": [
    "def bball_net(radius,m=0.15,n=0.25,total_slices=12,len_straight=4, prop_h=0.5):\n",
    "    curve = bezier.Curve(np.asfortranarray(np.matrix([[0,0],[n/4,m],[n,prop_h*m]]).transpose()), degree=2)\n",
    "    line = LineString([[-n/3,-n/len_straight],[0,0]])\n",
    "    # return line\n",
    "    l = sh.line_merge(MultiLineString([line,shu.curve_to_ls(curve)]))\n",
    "    # return line\n",
    "    a,b,c,d = l.bounds\n",
    "    x_dist = c-a\n",
    "    y_dist = d-b\n",
    "    w_line,h_line = shu.size(line)\n",
    "    \n",
    "    p = sh.line_merge(MultiLineString([l,sh.affinity.translate(sh.affinity.scale(l, -1, 1),x_dist)]))\n",
    "    # return l\n",
    "    # return p\n",
    "    w,h = shu.size(p)\n",
    "    scale_prop = radius/w\n",
    "    p = sh.affinity.scale(p, scale_prop, scale_prop)\n",
    "    p2 = sh.affinity.translate(sh.affinity.scale(p, 1, -1),0,- h * scale_prop + h_line*scale_prop*2)\n",
    "    lip = GeometryCollection([p,p2])\n",
    "    # return lip\n",
    "    # return lip\n",
    "    # return lip\n",
    "    tots_lips = []\n",
    "    mergers_entre_lips = []\n",
    "    def getLines(last_line, new_line):\n",
    "        line = LineString([list(list(new_line.geoms)[1].coords)[0],list(list(last_line.geoms)[0].coords)[0]])\n",
    "        line2 = LineString([list(list(new_line.geoms)[0].coords)[-1],list(list(last_line.geoms)[1].coords)[-1]])\n",
    "        return [line, line2]\n",
    "    first_line = None\n",
    "    for i in range(int(total_slices/2)):\n",
    "        new_line = sh.affinity.rotate(lip, i*(360/total_slices))\n",
    "        if (i>0):\n",
    "            mergers_entre_lips += getLines(last_line, new_line)\n",
    "        else:\n",
    "            first_line = new_line\n",
    "        tots_lips.append(new_line)\n",
    "        last_line = new_line\n",
    "    # inverse\n",
    "    line = LineString([list(list(first_line.geoms)[1].coords)[0],list(list(last_line.geoms)[1].coords)[-1]])\n",
    "    line2 = LineString([list(list(first_line.geoms)[0].coords)[-1],list(list(last_line.geoms)[0].coords)[0]])\n",
    "    mergers_entre_lips += [line, line2]\n",
    "    # return tots_lips\n",
    "    # print(len(tots_lips))\n",
    "    # return [tots_lips,mergers_entre_lips]\n",
    "    return shu.StructuredCollection(lips=tots_lips, lips_mergers=mergers_entre_lips)"
   ]
  },
  {
   "cell_type": "code",
   "execution_count": 9,
   "metadata": {},
   "outputs": [],
   "source": [
    "def spiral(radius, step, resolution=.1, angle=0.0, start=0.0, middle_point=sh.Point(0,0)):\n",
    "    import math\n",
    "    dist = start+0.0\n",
    "    coords=[]\n",
    "    while dist*math.hypot(math.cos(angle),math.sin(angle))<radius:\n",
    "        cord=[]\n",
    "        cord.append(dist*math.cos(angle))\n",
    "        cord.append(dist*math.sin(angle))\n",
    "        coords.append(cord)\n",
    "        dist+=step\n",
    "        angle+=resolution\n",
    "\n",
    "    spiral_shape = LineString(coords)\n",
    "    v = (middle_point.x-spiral_shape.centroid.x,middle_point.y-spiral_shape.centroid.y)\n",
    "    return sh.affinity.translate(spiral_shape,  v[0], v[1])"
   ]
  },
  {
   "cell_type": "code",
   "execution_count": 10,
   "metadata": {},
   "outputs": [],
   "source": [
    "def segmentize_and_rotate(l, num_segments, scale_factor=0.8, max_angle=60, invert=False):\n",
    "    all_segments = []\n",
    "    next_scaled_2_shape = None\n",
    "    # try:  \n",
    "    for a in shu.geoms(shu.segmentize(l,num_segments)):\n",
    "        scale_each = scale_factor/2\n",
    "        if invert:\n",
    "            scaled_1_shape = shu.sliceCurve(a, 0,scale_each)\n",
    "            newLine = scaled_1_shape\n",
    "            if not next_scaled_2_shape is None:\n",
    "                newLine = shu.LineString((shu.coords(next_scaled_2_shape)+shu.coords(scaled_1_shape)))\n",
    "                all_segments.append(newLine)\n",
    "            else:\n",
    "                all_segments.append(newLine)\n",
    "            next_scaled_2_shape = shu.sliceCurve(a, 1-scale_each,1)\n",
    "        else:    \n",
    "            # final_shape = sh.affinity.scale(a,scale_factor,scale_factor)\n",
    "            scaled_shape = shu.sliceCurve(a, 0.5-scale_each,0.5+scale_each)\n",
    "            final_shape = sh.affinity.rotate(scaled_shape,(random.random()-0.5)*(max_angle))\n",
    "            all_segments.append(final_shape)\n",
    "    # except Exception as ex:\n",
    "    #    print(ex)\n",
    "    if invert:\n",
    "        all_segments.append(next_scaled_2_shape)\n",
    "    return shu.printg(*all_segments)"
   ]
  },
  {
   "cell_type": "code",
   "execution_count": 11,
   "metadata": {},
   "outputs": [],
   "source": [
    "pu.reload(shu)"
   ]
  },
  {
   "cell_type": "code",
   "execution_count": 12,
   "metadata": {},
   "outputs": [],
   "source": [
    "# upB = bball_net(50, 0.15,0.25,10,3.7,0.85)\n",
    "# downB = bball_net(50, 0.15,0.25,10,3.7,0.85).translate(0,-100)\n",
    "# aw.upper_bball = upB.geo\n",
    "# aw.lower_bball = downB.geo\n",
    "# downB2 = bball_net(50, 0.15,0.25,12,3.7,0.85).translate(0,90)\n",
    "# shu.printg([upB.geo, downB.geo])"
   ]
  },
  {
   "cell_type": "code",
   "execution_count": 202,
   "metadata": {},
   "outputs": [],
   "source": [
    "# TODO: per aixo que vull he de fer que es vagi fent mes petita\n",
    "# spiral_up = spiral(25, 0.025, start=50/5, middle_point=upB.geo.centroid)\n",
    "# groups = morse_to_line(spiral_up, morse_code('pere'), 300)"
   ]
  },
  {
   "cell_type": "markdown",
   "metadata": {},
   "source": []
  },
  {
   "cell_type": "code",
   "execution_count": 203,
   "metadata": {},
   "outputs": [],
   "source": [
    "aw = pu.DotMap()\n",
    "upB = bball_net(50, 0.15,0.25,10,3.7,0.85)\n",
    "downB = bball_net(50, 0.15,0.25,10,3.7,0.85).translate(0,-100)\n",
    "# spiral_up = create_circles(upB.geo.centroid,step=3, min_radius=50/4.5,max_radius=30)\n",
    "# spiral_up = shu.printg(*[shu.segmentize(c,35) for c in shu.geoms(spiral_up)])\n",
    "# spiral_up = shu.printg(*[shu.segmentize_dist(c,3.5) for c in shu.geoms(spiral_up)])\n",
    "spiral_up = spiral(25, 0.025, start=50/5, middle_point=upB.geo.centroid)\n",
    "# spiral_up = shu.segmentize(spiral_up,100)\n",
    "spiral_up = morse_to_line(spiral_up, morse_code('pere'), 300)\n",
    "spiral_up = spiral_up.intersection(shu.convex_hull(upB.geo, 100, True, 0.5))\n",
    "spiral_down = spiral(25, 0.025, start=50/5, middle_point=downB.geo.centroid)\n",
    "# spiral_down = shu.segmentize(spiral_down,100)\n",
    "# spiral_down = create_circles(downB.geo.centroid,step=3, min_radius=50/4.5,max_radius=30)\n",
    "# spiral_down = shu.printg(*[shu.segmentize(c,35) for c in shu.geoms(spiral_down)])\n",
    "# spiral_down = shu.printg(*[shu.segmentize_dist(c,3.5) for c in shu.geoms(spiral_down)])\n",
    "spiral_down = morse_to_line(spiral_down, morse_code('berta'), 300)\n",
    "spiral_down = spiral_down.intersection(shu.convex_hull(downB.geo, 100, True, 0.5))\n",
    "aw.upper_bball = upB.geo\n",
    "aw.lower_bball = downB.geo\n",
    "aw.spiral_up = spiral_up\n",
    "aw.spiral_down = spiral_down\n",
    "# downB2 = bball_net(50, 0.15,0.25,12,3.7,0.85).translate(0,90)\n",
    "# shu.printg([upB.geo, downB.geo])"
   ]
  },
  {
   "cell_type": "code",
   "execution_count": 204,
   "metadata": {},
   "outputs": [],
   "source": [
    "# shu.printg(upB.geo, aw.spiral_up, *guides)"
   ]
  },
  {
   "cell_type": "code",
   "execution_count": 205,
   "metadata": {},
   "outputs": [],
   "source": [
    "first_item = None\n",
    "guides = []\n",
    "top_mergers = 5\n",
    "top_mergers_up = shu.reorder_geos(shu.geoms(upB['lips_mergers']), \"S\", top_mergers)\n",
    "# estirals explotals TODO\n",
    "scale_factor = 2\n",
    "# top_mergers_up = [sh.affinity.scale(sh.affinity.translate(m,0,-6),scale_factor) for m in top_mergers_up]\n",
    "top_mergers_down = shu.reorder_geos(shu.geoms(downB['lips_mergers']), \"N\", top_mergers)\n",
    "# top_mergers_down = [sh.affinity.scale(sh.affinity.translate(m,0,6),scale_factor) for m in top_mergers_down]\n",
    "for i,springs in enumerate(zip(shu.reorder_geos(top_mergers_up, \"E\"), shu.reorder_geos(top_mergers_down, \"E\"))):\n",
    "    s1, s2 = springs\n",
    "    # if (not last is None):\n",
    "    guides.append(LineString([shu.first(s1), shu.last(s2)]))\n",
    "    guides.append(LineString([shu.last(s1), shu.first(s2)]))\n",
    "    # last = shu.last(s2)\n",
    "force_middle = 0.5\n",
    "force_second = 0.72\n",
    "field = [0,0,force_second, force_second,force_middle,force_middle,force_second, force_second,0,0]\n",
    "guides = [shu.deform_line(g, GeometryCollection(guides).centroid, 0.3+field[i]*0.2) for i,g in enumerate(guides)]"
   ]
  },
  {
   "cell_type": "code",
   "execution_count": 206,
   "metadata": {},
   "outputs": [],
   "source": [
    "# pu.reload(shu)"
   ]
  },
  {
   "cell_type": "code",
   "execution_count": 207,
   "metadata": {},
   "outputs": [],
   "source": [
    "# shu.printg(*guides)"
   ]
  },
  {
   "cell_type": "code",
   "execution_count": 208,
   "metadata": {},
   "outputs": [],
   "source": [
    "# force_y = shu.create_peak_function(5)\n",
    "# [shu.gaussian_generator(x_max=2)(i)**0.08 for i in range(5)]"
   ]
  },
  {
   "cell_type": "code",
   "execution_count": 209,
   "metadata": {},
   "outputs": [],
   "source": [
    "import random\n",
    "random.seed(10)\n",
    "curves = []\n",
    "trenes = []\n",
    "# right_lines = []\n",
    "force_y = lambda x: shu.gaussian_generator(x_max=2)(i)**0.5\n",
    "for j,g in enumerate(pu.chunk_list(guides,2)):\n",
    "    trena = []\n",
    "    # print(i)\n",
    "    other_guide = g[0]\n",
    "    guide = g[1]\n",
    "    if g[0].length>g[1].length:\n",
    "        guide = g[0]\n",
    "        other_guide = g[1]\n",
    "    segments = shu.segmentize(guide, 5).geoms\n",
    "    other_segments = shu.segmentize(other_guide, 5).geoms\n",
    "    initial_coords = [shu.first(g[0]),shu.first(g[1])]\n",
    "    last = None\n",
    "    last_coords = [shu.last(g[0]),shu.last(g[1])]\n",
    "    # print(len(segments))\n",
    "    for i in range(len(segments)):\n",
    "        segment = segments[i]\n",
    "        other_segment = other_segments[i]\n",
    "        total = 2+force_y(j)*2\n",
    "        curves_el = None\n",
    "        \n",
    "        if (i==0):\n",
    "            initial_coords = shu.reorder_geos([sh.Point(v) for v in initial_coords], \"O\")\n",
    "            centroid_segments = LineString([shu.last(segment),shu.last(other_segment)]).centroid\n",
    "            curves_el = shu.create_ellipse(initial_coords[0],centroid_segments, total, initial_coords[1], num_points=50)\n",
    "            curves += curves_el\n",
    "            last = centroid_segments\n",
    "        elif (i==len(segments)-1):\n",
    "            centroid_segments = LineString([shu.first(segment),shu.first(other_segment)]).centroid\n",
    "            last_coords = shu.reorder_geos([sh.Point(v) for v in last_coords], \"E\")\n",
    "            curves_el = shu.create_ellipse(last_coords[0], centroid_segments, total, last_coords[1], num_points=50)\n",
    "            curves += curves_el\n",
    "        else:\n",
    "            centroid_segments = LineString([shu.last(segment),shu.last(other_segment)]).centroid\n",
    "            curves_el = shu.create_ellipse(last, centroid_segments, total, num_points=50)\n",
    "            curves += curves_el\n",
    "            last = centroid_segments\n",
    "        \n",
    "        lines_in_between = 5\n",
    "        # curv1, curv2 = curves[-2],curves[-1]\n",
    "        trena.append(curves_el)\n",
    "        # trena.append(curv2)\n",
    "        # points_in_curv1 = shu.distribute_points(curv1,lines_in_between)\n",
    "        # points_in_curv2 = shu.distribute_points(curv2,lines_in_between)\n",
    "        # for i in range(lines_in_between):\n",
    "        #     right_lines.append(LineString([points_in_curv1[i],points_in_curv2[i]]))\n",
    "    trenes.append(trena)\n",
    "    # for i in range(len(segments1)):\n",
    "    #     s1 = segments1[i]        \n",
    "    #     # pot = 1 if (j+i)%2==0 else -1\n",
    "    #     total = 2+random.random()*3\n",
    "    #     # total = 3\n",
    "    #     norm = shu.sum_point_vector(s1.centroid,shu.normal_vector(s1), total )\n",
    "    #     c = shu.last(norm)\n",
    "    #     # if (random.random()<0.75):\n",
    "    #     curv1 = shu.curved_path(shu.first(s1),shu.last(s1), c, 1)\n",
    "    #     curves.append(curv1)\n",
    "        \n",
    "    #     lines_in_between = 10\n",
    "    #     points_in_curv1 = distribute_points(curv1,lines_in_between)\n",
    "    #     points_in_curv2 = distribute_points(curv2,lines_in_between)\n",
    "    #     for i in range(lines_in_between):\n",
    "    #         right_lines.append(LineString([points_in_curv1[i],points_in_curv2[i]]))\n",
    "    # else:\n",
    "    #     curves.append(s)\n",
    "        \n",
    "        \n"
   ]
  },
  {
   "cell_type": "code",
   "execution_count": 210,
   "metadata": {},
   "outputs": [],
   "source": [
    "# len(trenes[0][0][0].coords)"
   ]
  },
  {
   "cell_type": "code",
   "execution_count": 211,
   "metadata": {},
   "outputs": [],
   "source": [
    "# shu.printg(*pu.flat(trenes),)\n",
    "# TODO la del mig esta torta!"
   ]
  },
  {
   "cell_type": "code",
   "execution_count": 212,
   "metadata": {},
   "outputs": [],
   "source": [
    "# trenes\n",
    "# scale_factor_lines = 1.2"
   ]
  },
  {
   "cell_type": "code",
   "execution_count": 213,
   "metadata": {},
   "outputs": [],
   "source": [
    "# translate_lines = 25"
   ]
  },
  {
   "cell_type": "code",
   "execution_count": 214,
   "metadata": {},
   "outputs": [],
   "source": [
    "up_line = sh.affinity.scale(LineString([shu.first(trenes[0][0][1]),shu.first(trenes[-1][0][0])]),1,1,0)\n",
    "# up_line = sh.affinity.translate(up_line,0,translate_lines)\n",
    "half_middle_upper = LineString([shu.first(trenes[2][0][1]),shu.first(trenes[2][0][0])])\n",
    "curved_up = shu.curved_path(shu.first(up_line),shu.last(up_line),half_middle_upper.centroid)\n",
    "# curved_up = sh.affinity.translate(curved_up, 0, -8)\n",
    "# shu.printg(*([up_line,half_middle_upper]+curves))"
   ]
  },
  {
   "cell_type": "code",
   "execution_count": 215,
   "metadata": {},
   "outputs": [],
   "source": [
    "down_line = sh.affinity.scale(LineString([shu.first(trenes[0][-1][0]),shu.first(trenes[-1][-1][1])]),1,1,0)\n",
    "# down_line = sh.affinity.translate(down_line,0,-translate_lines)\n",
    "half_middle_down= LineString([shu.first(trenes[2][-1][0]),shu.first(trenes[2][-1][1])])\n",
    "# shu.printg(*([down_line,half_middle_down]+curves))\n",
    "curved_down = shu.curved_path(shu.first(down_line),shu.last(down_line),half_middle_down.centroid)\n",
    "# curved_down = sh.affinity.translate(curved_down, 0, 8)"
   ]
  },
  {
   "cell_type": "code",
   "execution_count": 216,
   "metadata": {},
   "outputs": [],
   "source": [
    "translate_distance = sh.distance(half_middle_down,half_middle_upper)"
   ]
  },
  {
   "cell_type": "code",
   "execution_count": 217,
   "metadata": {},
   "outputs": [],
   "source": [
    "w_c_up,h_c_up = shu.size(curved_up)"
   ]
  },
  {
   "cell_type": "code",
   "execution_count": 218,
   "metadata": {},
   "outputs": [],
   "source": [
    "midpoint = sh.shortest_line(curved_up,curved_down).centroid\n",
    "until_point_down = sh.Point(midpoint.x, midpoint.y+h_c_up)\n",
    "until_point_up = sh.Point(midpoint.x, midpoint.y-h_c_up)"
   ]
  },
  {
   "cell_type": "code",
   "execution_count": 219,
   "metadata": {},
   "outputs": [],
   "source": [
    "# shu.printg(curved_down, until_point_down)"
   ]
  },
  {
   "cell_type": "code",
   "execution_count": 220,
   "metadata": {},
   "outputs": [],
   "source": [
    "w,h = shu.size(curved_down)\n",
    "less_x_midpoint = sh.Point(midpoint.x-w/2, midpoint.y)\n",
    "more_x_midpoint = sh.Point(midpoint.x+w/2, midpoint.y)\n",
    "# # more_x_midpoint = shu.copy(midpoint)\n",
    "# # less_x_midpoint.x += w/2\n",
    "middle_line = LineString([more_x_midpoint,less_x_midpoint])\n",
    "# # midpoint.x -= w/2"
   ]
  },
  {
   "cell_type": "code",
   "execution_count": 221,
   "metadata": {},
   "outputs": [],
   "source": [
    "# shu.printg(*all_lines)"
   ]
  },
  {
   "cell_type": "code",
   "execution_count": null,
   "metadata": {},
   "outputs": [],
   "source": []
  },
  {
   "cell_type": "code",
   "execution_count": 222,
   "metadata": {},
   "outputs": [],
   "source": [
    "def morph_from_line_to_other(line1, line2, n_steps, n_points):\n",
    "    n_points_line_1 = shu.distribute_points(line1, n_points)\n",
    "    n_points_line_2 = shu.distribute_points(line2, n_points)\n",
    "    matrix_points = np.matrix([shu.distribute_points(LineString([n_points_line_1[i],n_points_line_2[i]]), n_steps) for i in range(n_points)])\n",
    "    all_lines = []\n",
    "    for col in matrix_points.T:\n",
    "        line = sh.LineString(np.squeeze(np.asarray(col)))\n",
    "        all_lines.append(line)\n",
    "    return all_lines"
   ]
  },
  {
   "cell_type": "code",
   "execution_count": 223,
   "metadata": {},
   "outputs": [],
   "source": [
    "def morph_several( n_steps, n_points, *args,):\n",
    "    total_lines = []\n",
    "    for a,b in pu.iter_two(args):\n",
    "        total_lines += morph_from_line_to_other(a,b,n_steps, n_points)\n",
    "    return total_lines"
   ]
  },
  {
   "cell_type": "code",
   "execution_count": 224,
   "metadata": {},
   "outputs": [],
   "source": [
    "# list(force_iterator(shu.geoms(waves_up), force_lines, ))\n",
    "# waves_up"
   ]
  },
  {
   "cell_type": "code",
   "execution_count": 225,
   "metadata": {},
   "outputs": [],
   "source": [
    "pu.reload(shu)"
   ]
  },
  {
   "cell_type": "code",
   "execution_count": 226,
   "metadata": {},
   "outputs": [],
   "source": [
    "# force_lines = shu.linear_generator(x_max=len(accordion_up))\n",
    "# for u,f in shu.force_iterator(accordion_up, force_lines):\n",
    "#     shu.segmentize(u,10+30*f)"
   ]
  },
  {
   "cell_type": "code",
   "execution_count": 227,
   "metadata": {},
   "outputs": [],
   "source": [
    "# 10+30*f"
   ]
  },
  {
   "cell_type": "code",
   "execution_count": 228,
   "metadata": {},
   "outputs": [],
   "source": [
    "# force_lines = shu.linear_generator(x_max=int(len(accordion_up)))\n",
    "# waves_up = shu.printg(*[segmentize_and_rotate(u,20,0.9,0) for u,f in shu.force_iterator(accordion_up, force_lines)])\n",
    "# waves_down = shu.printg(*[segmentize_and_rotate(u,30,0.8,0) for u,f in shu.force_iterator(accordion_down, force_lines)])"
   ]
  },
  {
   "cell_type": "code",
   "execution_count": 229,
   "metadata": {},
   "outputs": [],
   "source": [
    "\n",
    "# Example usage:\n",
    "# my_list = [1, 2, 3, 4, 5, 6, 7, 8, 9, 10]\n",
    "pu.reload(pu)\n",
    "# print(split_randomly_equal(my_list, 3))"
   ]
  },
  {
   "cell_type": "code",
   "execution_count": null,
   "metadata": {},
   "outputs": [],
   "source": [
    "number_lines = 30\n",
    "waves_up = shu.printg(*shu.repeat_geometry_along_path(curved_up,sh.shortest_line(curved_up,sh.Point(until_point_up)),number_lines))\n",
    "waves_down = shu.printg(*shu.repeat_geometry_along_path(curved_down,sh.shortest_line(curved_down,sh.Point(until_point_down)),number_lines))\n",
    "# waves_up = sh.affinity.translate(waves_up,0,0.4)\n",
    "force_lines = shu.linear_generator(x_max=int(number_lines))\n",
    "waves_up = shu.printg(*[segmentize_and_rotate(u,10+30*f,0.8,0) for u,f in shu.force_iterator(shu.geoms(waves_up), force_lines)])\n",
    "waves_down = shu.printg(*[segmentize_and_rotate(u,10+30*f,0.8,0,) for u,f in shu.force_iterator(shu.geoms(waves_down), force_lines)])"
   ]
  },
  {
   "cell_type": "code",
   "execution_count": 231,
   "metadata": {},
   "outputs": [],
   "source": [
    "from shapely.ops import split\n",
    "waves_up = sh.intersection(shu.geoms(split(waves_up.convex_hull, middle_line))[1],waves_up)\n",
    "waves_down = sh.intersection(shu.geoms(split(waves_down.convex_hull, middle_line))[0],waves_down)"
   ]
  },
  {
   "cell_type": "code",
   "execution_count": 232,
   "metadata": {},
   "outputs": [],
   "source": [
    "# shu.convex_hull(waves_down)\n",
    "# shu.Polygon(shu.line_merge(boundary).buffer(0.1).interiors)"
   ]
  },
  {
   "cell_type": "code",
   "execution_count": 233,
   "metadata": {},
   "outputs": [],
   "source": [
    "# shu.printg(shu.line_merge(boundary).buffer(1), shu.line_merge(boundary).buffer(0.1))"
   ]
  },
  {
   "cell_type": "code",
   "execution_count": 234,
   "metadata": {},
   "outputs": [],
   "source": [
    "all_polygons = []\n",
    "all_cs = []\n",
    "i = 0\n",
    "for t in trenes:\n",
    "    for cs in t:\n",
    "        c1,c2=cs\n",
    "        boundary = [c1.reverse(), c2]\n",
    "        all_cs.append(boundary)\n",
    "        polygon = sh.Polygon(*shu.line_merge(boundary).buffer(0.5).interiors)\n",
    "        if not polygon.is_simple:\n",
    "            print('bad',i)\n",
    "            # break\n",
    "        all_polygons.append(polygon)\n",
    "        i+=1\n",
    "intersected_up_in = []\n",
    "intersected_up_out = []\n",
    "\n",
    "for line in shu.geoms(waves_up):\n",
    "  remaining_line = shu.copy(line)\n",
    "  for i,p in enumerate(all_polygons):\n",
    "    try:\n",
    "      intersection = sh.intersection(p, line)\n",
    "      remaining_line = sh.difference(remaining_line, p)\n",
    "      if not intersection.is_empty:\n",
    "        intersected_up_in.append(intersection)\n",
    "    except:\n",
    "      print('error',i) \n",
    "  if not remaining_line.is_empty:\n",
    "    intersected_up_out.append(remaining_line)\n",
    "intersected_down_in = []\n",
    "intersected_down_out = []\n",
    "for line in shu.geoms(waves_down):\n",
    "  remaining_line = shu.copy(line)\n",
    "  for i,p in enumerate(all_polygons):\n",
    "      try:\n",
    "        intersection = sh.intersection(p, line)\n",
    "        remaining_line = sh.difference(remaining_line, p)\n",
    "        if not intersection.is_empty:\n",
    "          intersected_down_in.append(intersection)\n",
    "      except:\n",
    "        print('error',i) \n",
    "  if not remaining_line.is_empty:\n",
    "    intersected_down_out.append(remaining_line)"
   ]
  },
  {
   "cell_type": "code",
   "execution_count": 235,
   "metadata": {},
   "outputs": [],
   "source": [
    "# shu.printg(*(intersected_up_in+trenes))"
   ]
  },
  {
   "cell_type": "code",
   "execution_count": 236,
   "metadata": {},
   "outputs": [],
   "source": [
    "concave_hull_guides = sh.concave_hull(shu.printg(*guides),ratio=0.1)\n",
    "aw.intersected_up_in=intersected_up_in\n",
    "aw.intersected_up_out=sh.intersection(concave_hull_guides,shu.printg(*intersected_up_out))\n",
    "aw.intersected_down_out=sh.intersection(concave_hull_guides,shu.printg(*intersected_down_out))\n",
    "aw.intersected_down_in=intersected_down_in"
   ]
  },
  {
   "cell_type": "code",
   "execution_count": 237,
   "metadata": {},
   "outputs": [],
   "source": [
    "def intersected_geoms(primaryGeo, secondGeo):\n",
    "    for g in shu.geoms(primaryGeo):\n",
    "        if g.intersects(secondGeo):\n",
    "            yield g"
   ]
  },
  {
   "cell_type": "code",
   "execution_count": 238,
   "metadata": {},
   "outputs": [],
   "source": [
    "# aw.intersected_up_1,aw.intersected_up_2,aw.intersected_up_3,aw.intersected_up_4 = pu.split_randomly(shu.flatten(intersected_up),4)\n",
    "# aw.intersected_down_1,aw.intersected_down_2,aw.intersected_down_3,aw.intersected_down_4 = pu.split_randomly(shu.flatten(intersected_down),4)"
   ]
  },
  {
   "cell_type": "code",
   "execution_count": 239,
   "metadata": {},
   "outputs": [],
   "source": [
    "upB_lips_mergers = shu.reorder_geos(shu.geoms(upB['lips_mergers']), \"N\", top_mergers)\n",
    "downB_lips_mergers = shu.reorder_geos(shu.geoms(downB['lips_mergers']), \"S\", top_mergers)\n",
    "upB['lips_mergers'] = shu.printg(*upB_lips_mergers)\n",
    "downB['lips_mergers'] = shu.printg(*downB_lips_mergers)\n",
    "aw.upper_bball = upB.geo\n",
    "aw.lower_bball = downB.geo"
   ]
  },
  {
   "cell_type": "code",
   "execution_count": 240,
   "metadata": {},
   "outputs": [],
   "source": [
    "aw.trenes = shu.printg(*pu.flat(trenes))"
   ]
  },
  {
   "cell_type": "code",
   "execution_count": 241,
   "metadata": {},
   "outputs": [],
   "source": [
    "def random_point(line):\n",
    "    import random\n",
    "    return line.interpolate(random.random()*line.length)"
   ]
  },
  {
   "cell_type": "code",
   "execution_count": null,
   "metadata": {},
   "outputs": [],
   "source": []
  },
  {
   "cell_type": "code",
   "execution_count": 242,
   "metadata": {},
   "outputs": [],
   "source": [
    "def point_outside_line(line, positive,at=0.5):\n",
    "    coords = shu.coords(line)\n",
    "    a,b = coords[0],coords[-1]\n",
    "    line_ab = LineString([a,b])\n",
    "    point = line_ab.interpolate(line_ab.length*at)\n",
    "    v= shu.diff(a,b)\n",
    "    xv,yv = shu.normal_vector(v)\n",
    "    return [point.x + positive*line_ab.length*xv, point.y + positive*line_ab.length*yv]"
   ]
  },
  {
   "cell_type": "code",
   "execution_count": 243,
   "metadata": {},
   "outputs": [],
   "source": [
    "def create_curve_line(line, positive, at=0.5):\n",
    "    coords = shu.coords(line)\n",
    "    a,b = coords[0],coords[-1]\n",
    "    c = point_outside_line(line, positive, at)\n",
    "    return shu.curved_path(a,b,c)"
   ]
  },
  {
   "cell_type": "code",
   "execution_count": 244,
   "metadata": {},
   "outputs": [],
   "source": [
    "first_point = curved_down.interpolate(0.05*curved_down.length)\n",
    "mid_point_first = middle_line.interpolate(0.95*middle_line.length)\n",
    "mid_point_second = middle_line.interpolate(0.05*middle_line.length)\n",
    "second_point = curved_up.interpolate(0.95*curved_up.length)\n",
    "linies_width = 2.5\n",
    "line_down = create_curve_line(LineString([first_point, mid_point_first]),-0.08,0.1).buffer(linies_width)\n",
    "line_up =  create_curve_line(LineString([second_point, mid_point_second]),-0.08,0.1).buffer(linies_width)"
   ]
  },
  {
   "cell_type": "code",
   "execution_count": null,
   "metadata": {},
   "outputs": [],
   "source": [
    "shu.printg(line_down,line_up)"
   ]
  },
  {
   "cell_type": "code",
   "execution_count": 246,
   "metadata": {},
   "outputs": [],
   "source": [
    "intersected_up_in_inline = [] \n",
    "intersected_up_in_outline = [] \n",
    "for line in intersected_up_in:\n",
    "    remaining_line = shu.copy(line)\n",
    "#   for i,p in enumerate(all_polygons):\n",
    "    p = line_up\n",
    "    try:\n",
    "        intersection = sh.intersection(p, line)\n",
    "        remaining_line = sh.difference(remaining_line, p)\n",
    "\n",
    "        # if not intersection.is_empty:\n",
    "        if intersection.length/line.length>0.5:\n",
    "            intersected_up_in_inline.append(line)\n",
    "        # if not remaining_line.is_empty:\n",
    "        else:\n",
    "            intersected_up_in_outline.append(line)\n",
    "    except:\n",
    "        print('error',i) "
   ]
  },
  {
   "cell_type": "code",
   "execution_count": 247,
   "metadata": {},
   "outputs": [],
   "source": [
    "intersected_down_in_inline = [] \n",
    "intersected_down_in_outline = [] \n",
    "for line in intersected_down_in:\n",
    "    remaining_line = shu.copy(line)\n",
    "#   for i,p in enumerate(all_polygons):\n",
    "    p = line_down\n",
    "    try:\n",
    "        intersection = sh.intersection(p, line)\n",
    "        remaining_line = sh.difference(remaining_line, p)\n",
    "        if intersection.length/line.length>0.5:\n",
    "            intersected_down_in_inline.append(intersection)\n",
    "        # if not remaining_line.is_empty:\n",
    "        else:\n",
    "            intersected_down_in_outline.append(remaining_line)\n",
    "    except:\n",
    "        print('error',i) "
   ]
  },
  {
   "cell_type": "code",
   "execution_count": 248,
   "metadata": {},
   "outputs": [],
   "source": [
    "# intersected_down_in_inline\n",
    "aw.intersected_down_in_outline = intersected_down_in_outline\n",
    "aw.intersected_down_in_inline = intersected_down_in_inline\n",
    "aw.intersected_up_in_outline = intersected_up_in_outline\n",
    "aw.intersected_up_in_inline = intersected_up_in_inline"
   ]
  },
  {
   "cell_type": "code",
   "execution_count": 249,
   "metadata": {},
   "outputs": [],
   "source": [
    "# shu.printg(curved_up, middle_line, curved_down,line_down, line_up)"
   ]
  },
  {
   "cell_type": "code",
   "execution_count": 250,
   "metadata": {},
   "outputs": [],
   "source": [
    "# waves_up\n",
    "# aw.intersected_down_in_outline"
   ]
  },
  {
   "cell_type": "code",
   "execution_count": 257,
   "metadata": {},
   "outputs": [],
   "source": [
    "colored = {\n",
    "    'intersected_up_in_outline':'blue',\n",
    "    'intersected_down_in_inline':'blue',\n",
    "    'spiral_down':'blue', \n",
    "    'intersected_up_in_inline':'red', \n",
    "    'intersected_down_in_outline':'red', \n",
    "    'spiral_up':'red', \n",
    "    'background': 'lightgreen',\n",
    "    'upper_bball':'red', \n",
    "    'lower_bball':'blue',\n",
    "    # 'trenes': \"black\"\n",
    "}"
   ]
  },
  {
   "cell_type": "code",
   "execution_count": 258,
   "metadata": {},
   "outputs": [],
   "source": [
    "pu.reload(cu)"
   ]
  },
  {
   "cell_type": "code",
   "execution_count": 259,
   "metadata": {},
   "outputs": [],
   "source": [
    "cu.create_artwork(aw, colored, 0.2,0.1, 'svg')"
   ]
  },
  {
   "cell_type": "code",
   "execution_count": null,
   "metadata": {},
   "outputs": [],
   "source": [
    "pu.reload(shu)"
   ]
  },
  {
   "cell_type": "code",
   "execution_count": null,
   "metadata": {},
   "outputs": [],
   "source": []
  },
  {
   "cell_type": "code",
   "execution_count": null,
   "metadata": {},
   "outputs": [],
   "source": [
    "# shu.size(collection.geo)"
   ]
  },
  {
   "cell_type": "code",
   "execution_count": null,
   "metadata": {},
   "outputs": [],
   "source": [
    "collection = shu.StructuredCollection(**aw)\n",
    "collection.scale(1/10,1/10)\n",
    "shu.size(collection.geo)"
   ]
  },
  {
   "cell_type": "code",
   "execution_count": null,
   "metadata": {},
   "outputs": [],
   "source": []
  },
  {
   "cell_type": "code",
   "execution_count": 84,
   "metadata": {},
   "outputs": [],
   "source": [
    "\n",
    "\n"
   ]
  },
  {
   "cell_type": "code",
   "execution_count": 88,
   "metadata": {},
   "outputs": [],
   "source": [
    "def alignment_manouver(plotter, calibration_point, next_color=''):\n",
    "    plotter.penup()\n",
    "    plotter.moveto(calibration_point[0],calibration_point[1])\n",
    "    val = input(\"prepare and protect change to \", next_color, \"Following: pendown\")\n",
    "    plotter.pendown()\n",
    "    val = input(\"prepare and protect change to \", next_color, \"Following: penup\")\n",
    "    plotter.penup()\n",
    "    val = input(\"Press anykey to start manouvre \", next_color, \"Following: rect\")\n",
    "    delta = [0,0]\n",
    "    # plotter.moveto(*calibration_point)\n",
    "    while (val!=\"ok\"):\n",
    "        plotter.penup()\n",
    "        geometry = shu.Rect((calibration_point[0]+delta[0],calibration_point[1]+delta[1]),1,1.5)\n",
    "        plu.plot(plotter, geometry)\n",
    "        val = input(\"Is it ok? (up, down, ok, '', no)\")\n",
    "        if [\"up\", \"down\"].includes(val):\n",
    "            while ([\"up\", \"down\"].includes(val)):\n",
    "                if val == \"up\":\n",
    "                    plotter.penup()\n",
    "                if val == \"down\":\n",
    "                    plotter.pendown()\n",
    "                val = input(\"Is it ok? (up, down, ok, '', no)\")\n",
    "        elif val == \"ok\" or val==\"\":\n",
    "            break\n",
    "        elif val == \"quit\":\n",
    "            return None\n",
    "        x_y = val.split(\",\")\n",
    "        if len(x_y)>1:\n",
    "            x,y=x_y\n",
    "            delta[0]+=float(x)/10\n",
    "            delta[1]+=float(y)/10        \n",
    "    return delta"
   ]
  },
  {
   "cell_type": "code",
   "execution_count": null,
   "metadata": {},
   "outputs": [],
   "source": [
    "def handshake_plotter(plotter, info):\n",
    "   \n",
    "    if val=='quit':\n",
    "        return False\n",
    "    plotter.pendown()\n",
    "    val = input(\"ready? penup on \"+color)\n",
    "    if val=='quit':\n",
    "        return False\n",
    "    plotter.penup()\n",
    "    val = input(\"ready 2? plot \"+color)\n",
    "    if val=='quit':\n",
    "        return False\n",
    "    return True"
   ]
  },
  {
   "cell_type": "code",
   "execution_count": null,
   "metadata": {},
   "outputs": [],
   "source": [
    "def create_artwork(plotter, aw, colored_, x_margin=2,y_margin=2, calibration_point=(0.5,0.5)):\n",
    "    colored = colored_\n",
    "    geo = shu.printg(*pu.flat(aw.values()))\n",
    "    xmin,ymin,xmax,ymax = geo.bounds\n",
    "    xmin = min(xmin,0)\n",
    "    ymin = min(ymin,0)\n",
    "    extra_x = abs(xmin)\n",
    "    extra_y = abs(ymin)\n",
    "    # geo = sh.affinity.translate(geo, , abs(ymin))\n",
    "    # xmin,ymin,xmax,ymax = geo.bounds\n",
    "    # geo_width,geo_height  = (abs(xmax-xmin),abs(ymax-ymin))\n",
    "    geo_width,geo_height = shu.size(geo)\n",
    "    x_margin_total = x_margin\n",
    "    y_margin_total = y_margin\n",
    "    marc_width = geo_width+2*x_margin_total\n",
    "    marc_height = geo_height+2*y_margin_total\n",
    "    last_color = ''\n",
    "    for color_k,color in colored.items():\n",
    "        if color_k == 'background':\n",
    "            continue\n",
    "        print('plotting', color_k)\n",
    "        val = None\n",
    "        if color != last_color:\n",
    "            val = alignment_manouver(plotter, calibration_point)\n",
    "            plotter.penup()\n",
    "        if val is None:\n",
    "            print('breaking', color_k)\n",
    "            break\n",
    "        geo_item = aw[color_k]\n",
    "        if pu.iterable(geo_item):\n",
    "            geo_item = sh.GeometryCollection(geo_item)\n",
    "        geo_item = sh.affinity.translate(geo_item, extra_x+x_margin_total+val[0],extra_y+y_margin_total+val[1])\n",
    "        plu.plot(plotter, geo_item, )\n",
    "        last_color = color"
   ]
  },
  {
   "cell_type": "code",
   "execution_count": null,
   "metadata": {},
   "outputs": [],
   "source": []
  },
  {
   "cell_type": "code",
   "execution_count": null,
   "metadata": {},
   "outputs": [],
   "source": [
    "plotter = None\n",
    "if plotter is None:\n",
    "    plotter = plu.init_plotter()"
   ]
  },
  {
   "cell_type": "code",
   "execution_count": null,
   "metadata": {},
   "outputs": [],
   "source": [
    "plotter.pendown()"
   ]
  },
  {
   "cell_type": "code",
   "execution_count": null,
   "metadata": {},
   "outputs": [],
   "source": [
    "# collection.values()\n",
    "plotter.penup()"
   ]
  },
  {
   "cell_type": "code",
   "execution_count": null,
   "metadata": {},
   "outputs": [],
   "source": [
    "create_artwork(plotter, collection, colored, 4, 4)"
   ]
  },
  {
   "cell_type": "code",
   "execution_count": null,
   "metadata": {},
   "outputs": [],
   "source": [
    "def intersected_geoms(primaryGeo, secondGeo):\n",
    "    for g in shu.geoms(primaryGeo):\n",
    "        if g.intersects(secondGeo):\n",
    "            yield g"
   ]
  },
  {
   "cell_type": "code",
   "execution_count": null,
   "metadata": {},
   "outputs": [],
   "source": [
    "# TODO:\n",
    "#  1. caminets random\n",
    "#  2. centrar espirals (convex hull interior)\n",
    "#  3. simplificar trenes (subsample)\n",
    "#  4. \n"
   ]
  },
  {
   "cell_type": "code",
   "execution_count": null,
   "metadata": {},
   "outputs": [],
   "source": [
    "def plot(self, size=(200,200),mode=\"jupyter\", file_name=\"example\", starting_point=(0,0)):\n",
    "        import utils, cairo_utils as cu\n",
    "        import cairo\n",
    "        ctx = None\n",
    "        geo_all = GeometryCollection([layer.get_geo() for layer in self.layers])\n",
    "        x_min,y_min,x_max,y_max = geo_all.bounds()\n",
    "        # w,h = shu.size(geo_all)\n",
    "        \n",
    "        context = cu.get_context(mode=mode, file_name=file_name)\n",
    "        with context as ctx:\n",
    "            ctx.scale(size[0], size[1])\n",
    "            for layer in self.layers:\n",
    "                # if 'settings' in layer:\n",
    "                for setting in layer.get_settings():\n",
    "                    args = []\n",
    "                    kwargs = {}\n",
    "                    if 'args' in setting:\n",
    "                        args = setting['args']\n",
    "                    if 'kwargs' in setting:\n",
    "                        kwargs = setting['kwargs']\n",
    "                    getattr(ctx,setting[\"key\"])(*args, **kwargs)\n",
    "                geo = layer.get_geo()\n",
    "                if not geo is None:\n",
    "                    print('ploting!')\n",
    "\n",
    "                    plot_graphic(ctx, geo, startingPoint=starting_point, normalize_size=(x_max,y_max))\n",
    "                # print('next layer!',layer.key)\n",
    "        return ctx"
   ]
  },
  {
   "cell_type": "code",
   "execution_count": null,
   "metadata": {},
   "outputs": [],
   "source": [
    "def plot_graphic(ctx, geometry, starting_point=(0,0), depth=0, normalize_size=None):\n",
    "    # TODO: troba manera bona de fer normalization\n",
    "    if normalize_size is None:\n",
    "        w,h = shu.size(geometry)\n",
    "        if w<=1 and h<=1:\n",
    "            normalize_size = (1.0,1.0)\n",
    "        else:\n",
    "            normalize_size = (w,h)\n",
    "    \n",
    "    size_x = normalize_size[0]\n",
    "    size_y = normalize_size[1]\n",
    "    print(normalize_size)\n",
    "    # print(type(geometry))\n",
    "    if depth == 0:\n",
    "        bounds = geometry.bounds\n",
    "        translate_x = abs(min(bounds[0],0))\n",
    "        translate_y = abs(min(bounds[1],0))\n",
    "        geometry_translated = sh.affinity.translate(geometry, translate_x+starting_point[0],translate_y+starting_point[1])\n",
    "        geometry = geometry_translated\n",
    "    if type(geometry)==sh.Polygon:\n",
    "        geometry = geometry.boundary\n",
    "    if type(geometry) == LineString:\n",
    "        for i,coords in enumerate(geometry.coords):\n",
    "            x,y=coords\n",
    "            if (i==0):\n",
    "                # print('move_to',x,y)\n",
    "                ctx.move_to(x/size_x,y/size_y)\n",
    "            else:\n",
    "                # print('line_to',x,y)\n",
    "                ctx.line_to(x/size_x,y/size_y)\n",
    "    elif type(geometry) == MultiLineString or type(geometry) == GeometryCollection:\n",
    "        for g in geometry.geoms:\n",
    "            plot_graphic(ctx, g, starting_point, depth+1)\n",
    "    # elif (type())\n",
    "    if depth==0:\n",
    "        ctx.stroke()\n",
    "    return ctx"
   ]
  },
  {
   "cell_type": "code",
   "execution_count": null,
   "metadata": {},
   "outputs": [],
   "source": [
    "# shu.geoms(waves_up)"
   ]
  },
  {
   "cell_type": "code",
   "execution_count": null,
   "metadata": {},
   "outputs": [],
   "source": [
    "class Artwork:\n",
    "    def __init__(self, layers=[]):\n",
    "        self.layers = layers\n",
    "    def setLayer(self, order, layer):\n",
    "        layer_keys = [l['key'] for l in self.layers]\n",
    "        if (layer['key'] in layer_keys):\n",
    "            return Exception('exists layer already')\n",
    "        self.layers.insert(order, layer)\n",
    "    def findLayer(self, layer_key):\n",
    "        return [(i,l) for i,l in enumerate(self.layers) if l['key']==layer_key]\n",
    "    def getLayer(self, layer_key):\n",
    "        return self.findLayer(layer_key)[1]\n",
    "    def getLayerIndex(self, layer_key):\n",
    "        return self.findLayer(layer_key)[0]\n",
    "    def createLayer(self, geo, key=None, color='red', width='0.4', **kwargs):\n",
    "        # TODO\n",
    "        settings = {color:color, width:width, **kwargs}\n",
    "        if key is None:\n",
    "            key=f'layer-{len(self.layers)}'\n",
    "        l = Layer(geo, settings)\n",
    "        key\n",
    "        return l\n",
    "    def plot(self, size=(200,200),mode=\"jupyter\", file_name=\"example\", starting_point=(0,0)):\n",
    "        import utils, cairo_utils as cu\n",
    "        import cairo\n",
    "        ctx = None\n",
    "        geo_all = GeometryCollection([layer.get_geo() for layer in self.layers])\n",
    "        x_min,y_min,x_max,y_max = geo_all.bounds()\n",
    "        # w,h = shu.size(geo_all)\n",
    "        \n",
    "        context = cu.get_context(mode=mode, file_name=file_name)\n",
    "        with context as ctx:\n",
    "            ctx.scale(size[0], size[1])\n",
    "            for layer in self.layers:\n",
    "                # if 'settings' in layer:\n",
    "                for setting in layer.get_settings():\n",
    "                    args = []\n",
    "                    kwargs = {}\n",
    "                    if 'args' in setting:\n",
    "                        args = setting['args']\n",
    "                    if 'kwargs' in setting:\n",
    "                        kwargs = setting['kwargs']\n",
    "                    getattr(ctx,setting[\"key\"])(*args, **kwargs)\n",
    "                geo = layer.get_geo()\n",
    "                if not geo is None:\n",
    "                    print('ploting!')\n",
    "\n",
    "                    plot_graphic(ctx, geo, startingPoint=starting_point, normalize_size=(x_max,y_max))\n",
    "                # print('next layer!',layer.key)\n",
    "        return ctx\n",
    "        "
   ]
  },
  {
   "cell_type": "code",
   "execution_count": null,
   "metadata": {},
   "outputs": [],
   "source": []
  },
  {
   "cell_type": "code",
   "execution_count": null,
   "metadata": {},
   "outputs": [],
   "source": []
  },
  {
   "cell_type": "code",
   "execution_count": null,
   "metadata": {},
   "outputs": [],
   "source": [
    "from typing import Any\n",
    "\n",
    "\n",
    "class Layer:\n",
    "    key = None\n",
    "    def __init__(self, geo=None, settings={}, key=None):\n",
    "        list_settings = []\n",
    "        if key is None:\n",
    "            import random\n",
    "            key = str(random.random())\n",
    "        self.key = key\n",
    "        for s_k,s_v in settings.items():\n",
    "            kwargs = {}\n",
    "            args=[]\n",
    "            if type(s_v)==list or type(s_v)==tuple:\n",
    "                args = s_v\n",
    "            elif type(s_v)==dict:\n",
    "                kwargs=s_v\n",
    "            else:\n",
    "                args=[s_v]\n",
    "            list_settings.append({\"key\":s_k, \"args\":args, \"kwargs\":kwargs})\n",
    "        self.settings = list_settings\n",
    "        self.geo = geo\n",
    "    def __getattribute__(self, name: str) -> Any:\n",
    "        # import inspect\n",
    "        # [k for k,f in inspect.getmembers(ctx) if 'set' in k]\n",
    "        if name in [ \n",
    "            'set_antialias',\n",
    "            'set_dash',\n",
    "            'set_fill_rule',\n",
    "            'set_font_face',\n",
    "            'set_font_matrix',\n",
    "            'set_font_options',\n",
    "            'set_font_size',\n",
    "            'set_hairline',\n",
    "            'set_line_cap',\n",
    "            'set_line_join',\n",
    "            'set_line_width',\n",
    "            'set_matrix',\n",
    "            'set_miter_limit',\n",
    "            'set_operator',\n",
    "            'set_scaled_font',\n",
    "            'set_source',\n",
    "            'set_source_rgb',\n",
    "            'set_source_rgba',\n",
    "            'set_source_surface',\n",
    "            'set_tolerance']:\n",
    "            def f(*args,**kwargs):\n",
    "                self.settings.append({\"key\":name,\"args\":args,\"kwargs\":kwargs})\n",
    "            return f\n",
    "        getter = super().__getattribute__\n",
    "        return getter(name)\n",
    "    \n",
    "    def set_geo(self,geo):\n",
    "        self.geo = geo\n",
    "    def get_geo(self):\n",
    "        return self.geo\n",
    "    def get_settings(self):\n",
    "        return self.settings\n",
    "# a = Layer()"
   ]
  },
  {
   "cell_type": "code",
   "execution_count": null,
   "metadata": {},
   "outputs": [],
   "source": [
    "geo = shu.Rect((50,50),50,50)\n",
    "geo2 = shu.Rect((100,50),50,50)\n",
    "scale = (200, 200)\n",
    "l = Layer(geo,{\n",
    "    \"set_line_width\":1,\n",
    "    \"set_source_rgba\":(1, 0.2, 0.2, 0.6)\n",
    "})\n",
    "l2 = Layer(geo2,{\n",
    "    \"set_line_width\":3,\n",
    "    \"set_source_rgba\":(1, 1, 0.2, 0.6)\n",
    "})"
   ]
  },
  {
   "cell_type": "code",
   "execution_count": null,
   "metadata": {},
   "outputs": [],
   "source": [
    "type((3,4))"
   ]
  },
  {
   "cell_type": "code",
   "execution_count": null,
   "metadata": {},
   "outputs": [],
   "source": [
    "a = Artwork([l,l2])"
   ]
  },
  {
   "cell_type": "code",
   "execution_count": null,
   "metadata": {},
   "outputs": [],
   "source": [
    "pu.reload(cu)"
   ]
  },
  {
   "cell_type": "code",
   "execution_count": null,
   "metadata": {},
   "outputs": [],
   "source": [
    "def plot_graphic(ctx, geometry, starting_point=(0,0), depth=0, normalize_size=None):\n",
    "    # TODO: troba manera bona de fer normalization\n",
    "    if normalize_size is None:\n",
    "        w,h = shu.size(geometry)\n",
    "        if w<=1 and h<=1:\n",
    "            normalize_size = (1.0,1.0)\n",
    "        else:\n",
    "            normalize_size = (w,h)\n",
    "    \n",
    "    size_x = normalize_size[0]\n",
    "    size_y = normalize_size[1]\n",
    "    # print(normalize_size)\n",
    "    # print(type(geometry))\n",
    "    if depth == 0:\n",
    "        bounds = geometry.bounds\n",
    "        translate_x = abs(min(bounds[0],0))\n",
    "        translate_y = abs(min(bounds[1],0))\n",
    "        geometry_translated = sh.affinity.translate(geometry, translate_x+starting_point[0],translate_y+starting_point[1])\n",
    "        geometry = geometry_translated\n",
    "    if type(geometry)==sh.Polygon:\n",
    "        geometry = geometry.boundary\n",
    "    if type(geometry) == LineString:\n",
    "        for i,coords in enumerate(geometry.coords):\n",
    "            x,y=coords\n",
    "            if (i==0):\n",
    "                # print('move_to',x,y)\n",
    "                ctx.move_to(x/size_x,y/size_y)\n",
    "            else:\n",
    "                # print('line_to',x,y)\n",
    "                ctx.line_to(x/size_x,y/size_y)\n",
    "    elif type(geometry) == MultiLineString or type(geometry) == GeometryCollection:\n",
    "        for g in geometry.geoms:\n",
    "            plot_graphic(ctx, g, starting_point, depth+1)\n",
    "    # elif (type())\n",
    "    if depth==0:\n",
    "        ctx.stroke()\n",
    "    return ctx"
   ]
  },
  {
   "cell_type": "code",
   "execution_count": null,
   "metadata": {},
   "outputs": [],
   "source": [
    "def demo():\n",
    "    a = cu.cairo_context(200, 200, format=\"svg\")\n",
    "    with a as context:\n",
    "        # x, y, x1, y1 = 0.1, 0.5, 0.4, 0.9\n",
    "        x, y, x1, y1 = 0, 0, 50, 50\n",
    "        x2, y2, x3, y3 = 0.6, 0.1, 0.9, 0.5\n",
    "        context.scale(200, 200)\n",
    "        context.set_line_width(0.04)\n",
    "        g1 =LineString([[x,y],[x1,y1]])\n",
    "        plot_graphic(context, g1)\n",
    "        # context.move_to(x, y)\n",
    "        # context.line_to(x1, y1)\n",
    "        context.stroke()\n",
    "    return context\n",
    "\n",
    "demo()"
   ]
  },
  {
   "cell_type": "code",
   "execution_count": null,
   "metadata": {},
   "outputs": [],
   "source": []
  },
  {
   "cell_type": "code",
   "execution_count": null,
   "metadata": {},
   "outputs": [],
   "source": [
    "def demo():\n",
    "    a = cu.cairo_context(200, 200, format=\"svg\")\n",
    "    with a as context:\n",
    "        x, y, x1, y1 = 0.1, 0.5, 0.4, 0.9\n",
    "        x2, y2, x3, y3 = 0.6, 0.1, 0.9, 0.5\n",
    "        context.scale(200, 200)\n",
    "        context.set_line_width(0.04)\n",
    "        context.move_to(x, y)\n",
    "        context.curve_to(x1, y1, x2, y2, x3, y3)\n",
    "        context.stroke()\n",
    "        context.set_source_rgba(1, 0.2, 0.2, 0.6)\n",
    "        context.set_line_width(0.02)\n",
    "        context.move_to(x, y)\n",
    "        context.line_to(x1, y1)\n",
    "        context.move_to(x2, y2)\n",
    "        context.line_to(x3, y3)\n",
    "        context.stroke()\n",
    "    return context\n",
    "\n",
    "demo()"
   ]
  },
  {
   "cell_type": "code",
   "execution_count": null,
   "metadata": {},
   "outputs": [],
   "source": []
  },
  {
   "cell_type": "code",
   "execution_count": null,
   "metadata": {},
   "outputs": [],
   "source": [
    "import cairo\n",
    "\n",
    "with cairo.SVGSurface(\"example.svg\", 200, 200) as surface:\n",
    "    context = cairo.Context(surface)\n",
    "    x, y, x1, y1 = 0.1, 0.5, 0.4, 0.9\n",
    "    x2, y2, x3, y3 = 0.6, 0.1, 0.9, 0.5\n",
    "    context.scale(200, 200)\n",
    "    context.set_line_width(0.04)\n",
    "    context.move_to(x, y)\n",
    "    context.curve_to(x1, y1, x2, y2, x3, y3)\n",
    "    context.stroke()\n",
    "    context.set_source_rgba(1, 0.2, 0.2, 0.6)\n",
    "    context.set_line_width(0.02)\n",
    "    context.move_to(x, y)\n",
    "    context.line_to(x1, y1)\n",
    "    context.move_to(x2, y2)\n",
    "    context.line_to(x3, y3)\n",
    "    context.stroke()"
   ]
  },
  {
   "cell_type": "code",
   "execution_count": null,
   "metadata": {},
   "outputs": [],
   "source": [
    "pip install pycairo"
   ]
  },
  {
   "cell_type": "code",
   "execution_count": null,
   "metadata": {},
   "outputs": [],
   "source": [
    "# TODO round edges \n",
    "    "
   ]
  },
  {
   "cell_type": "code",
   "execution_count": null,
   "metadata": {},
   "outputs": [],
   "source": [
    "def texture()"
   ]
  },
  {
   "cell_type": "code",
   "execution_count": null,
   "metadata": {},
   "outputs": [],
   "source": []
  },
  {
   "cell_type": "code",
   "execution_count": null,
   "metadata": {},
   "outputs": [],
   "source": [
    "force = create_symmetrical_force()\n",
    "[force(i) for i in range(5)]"
   ]
  },
  {
   "cell_type": "code",
   "execution_count": null,
   "metadata": {},
   "outputs": [],
   "source": [
    "shu.printg([segments[0], ])"
   ]
  },
  {
   "cell_type": "code",
   "execution_count": null,
   "metadata": {},
   "outputs": [],
   "source": [
    "print(p.one(0))"
   ]
  },
  {
   "cell_type": "code",
   "execution_count": null,
   "metadata": {},
   "outputs": [],
   "source": [
    "def wiggleLine(line):\n",
    "    line"
   ]
  },
  {
   "cell_type": "code",
   "execution_count": null,
   "metadata": {},
   "outputs": [],
   "source": [
    "from shapely.geometry import Point\n",
    "import matplotlib.pyplot as plt\n",
    "\n",
    "a = (0, 0)\n",
    "b = (10, 0)\n",
    "c = (9.5, 5)\n",
    "\n",
    "line = shu.curved_path(a, b, c, curvature=1)\n",
    "shu.printg([line,Point(a),Point(b),Point(c)])"
   ]
  },
  {
   "cell_type": "code",
   "execution_count": null,
   "metadata": {},
   "outputs": [],
   "source": [
    "shu.join(upB,sh.affinity.translate(upB, 0, d*1.5))"
   ]
  },
  {
   "cell_type": "code",
   "execution_count": null,
   "metadata": {},
   "outputs": [],
   "source": [
    "GeometryCollection([shu.Cirºcle(upB.centroid, d/2)]+list(upB_half.geoms))"
   ]
  },
  {
   "cell_type": "code",
   "execution_count": null,
   "metadata": {},
   "outputs": [],
   "source": [
    "\n",
    "square = sh.affinity.translate(shu.Rect(upB.centroid,d/2,d/2).union(shu.Rect(upB.centroid,-d/2,d/2)),0,-d/2)\n",
    "upB_half = shu.intersection_collection(upB, square)\n",
    "downB = upB.copy()\n",
    "square2 = sh.affinity.translate(shu.Rect(downB.centroid,d/2,d/2).union(shu.Rect(downB.centroid,-d/2,d/2)),0,0)\n",
    "downB_half = shu.intersection_collection(downB, square2)\n",
    "# crec k vull fer que totes les geometries .rotate .translate .affine_transform existeixin\n",
    "bottom = sh.affinity.translate(downB_half, 0, -shu.size(downB_half)[1]*3)\n",
    "GeometryCollection([bottom, upB_half])\n",
    "all_lines = []\n",
    "for i,ls in enumerate(bottom.geoms):\n",
    "    print(upB_half.geoms)\n",
    "    # print(upB_half.geoms[i].coords[0],ls[0])"
   ]
  },
  {
   "cell_type": "code",
   "execution_count": null,
   "metadata": {},
   "outputs": [],
   "source": []
  },
  {
   "cell_type": "code",
   "execution_count": null,
   "metadata": {},
   "outputs": [],
   "source": []
  },
  {
   "cell_type": "code",
   "execution_count": null,
   "metadata": {},
   "outputs": [],
   "source": [
    "v = LineString([[1,0],[1,2]])\n",
    "hs = [{\"line\": LineString([[0,(0.5+i)*v.length/5],[2,(0.5+i)*v.length/5]]), \"orientation\": ((i%2==0)*2)-1} for i in range(5)]"
   ]
  },
  {
   "cell_type": "code",
   "execution_count": null,
   "metadata": {},
   "outputs": [],
   "source": [
    "for h in hs:\n",
    "    intersection = h['line'].intersection(v)\n",
    "    h['intersection'] = intersection\n",
    "hs.sort(key=lambda a: sh.distance(a['intersection'],v.boundary.geoms[0]))\n",
    "hs"
   ]
  },
  {
   "cell_type": "code",
   "execution_count": null,
   "metadata": {},
   "outputs": [],
   "source": [
    "\n",
    "import numpy as np\n",
    "current_inline = v.boundary.geoms[0]\n",
    "curves = []\n",
    "intensity = 0.5\n",
    "for i,h in enumerate(hs):\n",
    "    if (len(hs)>i+1):\n",
    "        print(h['intersection'],hs[i+1]['intersection'])\n",
    "        next_inline = LineString([h['intersection'],hs[i+1]['intersection']]).centroid\n",
    "    else:\n",
    "        next_inline = v.boundary.geoms[1]\n",
    "    line = h['line']\n",
    "    point = h['intersection']\n",
    "\n",
    "    middle_node = shu.move_point_along_line(point, line, intensity*h['orientation'])\n",
    "    \n",
    "    nodes = [list(a) for a in [current_inline.coords[0], middle_node.coords[0], next_inline.coords[0]]]\n",
    "    # print(nodes)\n",
    "    # sino transposes es pensa que ed 3d bezier\n",
    "    curve = bezier.Curve.from_nodes(np.asfortranarray(np.transpose(nodes)))\n",
    "    # enllaçar curves?\n",
    "    curves.append(curve)\n",
    "    current_inline = next_inline"
   ]
  },
  {
   "cell_type": "code",
   "execution_count": null,
   "metadata": {},
   "outputs": [],
   "source": [
    "MultiLineString([shu.curve_to_ls(c) for c in curves]+[v]+[h['line'] for h in hs])"
   ]
  },
  {
   "cell_type": "code",
   "execution_count": null,
   "metadata": {},
   "outputs": [],
   "source": []
  },
  {
   "cell_type": "code",
   "execution_count": null,
   "metadata": {},
   "outputs": [],
   "source": []
  }
 ],
 "metadata": {
  "kernelspec": {
   "display_name": "base",
   "language": "python",
   "name": "python3"
  },
  "language_info": {
   "codemirror_mode": {
    "name": "ipython",
    "version": 3
   },
   "file_extension": ".py",
   "mimetype": "text/x-python",
   "name": "python",
   "nbconvert_exporter": "python",
   "pygments_lexer": "ipython3",
   "version": "3.10.13"
  }
 },
 "nbformat": 4,
 "nbformat_minor": 2
}
